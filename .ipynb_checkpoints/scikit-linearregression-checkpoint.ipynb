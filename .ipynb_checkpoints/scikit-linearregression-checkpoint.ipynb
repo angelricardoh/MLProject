{
 "cells": [
  {
   "cell_type": "markdown",
   "metadata": {
    "papermill": {
     "duration": 0.030037,
     "end_time": "2021-04-17T05:09:26.940636",
     "exception": false,
     "start_time": "2021-04-17T05:09:26.910599",
     "status": "completed"
    },
    "tags": []
   },
   "source": [
    "<h1> CSCI 567 - Machine Learning - Spring 2021 </h1>\n",
    "<h2> Project: Chekcpoint 1 - Data Preprocessing (03/10/21) </h2>\n",
    "<h3> Team <u>StochasticResults</u>: </h3>\n",
    " - Abel Salinas [8793999216] [abelsali@usc.edu] <br>\n",
    " - Angel Nieto [2211798052] [nietogar@usc.edu] <br>\n",
    " - Misael Morales [5832732058] [misaelmo@usc.edu]"
   ]
  },
  {
   "cell_type": "markdown",
   "metadata": {
    "papermill": {
     "duration": 0.026349,
     "end_time": "2021-04-17T05:09:26.993456",
     "exception": false,
     "start_time": "2021-04-17T05:09:26.967107",
     "status": "completed"
    },
    "tags": []
   },
   "source": [
    "***"
   ]
  },
  {
   "cell_type": "markdown",
   "metadata": {
    "papermill": {
     "duration": 0.027323,
     "end_time": "2021-04-17T05:09:27.047628",
     "exception": false,
     "start_time": "2021-04-17T05:09:27.020305",
     "status": "completed"
    },
    "tags": []
   },
   "source": [
    "The \"Housing Price\" dataset consists of 79 predictors for the house prices in Ames, Iowa. The training and testing set are already pre-split for us from the Kaggle version (https://www.kaggle.com/c/house-prices-advanced-regression-techniques/overview), and we will focus on different regression techniques to predict the housing SalePrice based on the given features.\n",
    "\n",
    "This notebook focuses on the data pre-processing, wrangling, visualization, and statistical analysis. It is a crucial step in any machine-learning/data-analytics application to ensure proper data formatting in order to optimize the techniques implemented. "
   ]
  },
  {
   "cell_type": "markdown",
   "metadata": {
    "papermill": {
     "duration": 0.026367,
     "end_time": "2021-04-17T05:09:27.103091",
     "exception": false,
     "start_time": "2021-04-17T05:09:27.076724",
     "status": "completed"
    },
    "tags": []
   },
   "source": [
    "# Table of Contents:\n",
    "1. Load required packages <br>\n",
    "2. Data wrangling <br>\n",
    "3. Data visualization <br>\n",
    "4. Exploratory data analysis"
   ]
  },
  {
   "cell_type": "markdown",
   "metadata": {
    "papermill": {
     "duration": 0.026203,
     "end_time": "2021-04-17T05:09:27.155601",
     "exception": false,
     "start_time": "2021-04-17T05:09:27.129398",
     "status": "completed"
    },
    "tags": []
   },
   "source": [
    "***"
   ]
  },
  {
   "cell_type": "markdown",
   "metadata": {
    "papermill": {
     "duration": 0.026783,
     "end_time": "2021-04-17T05:09:27.208645",
     "exception": false,
     "start_time": "2021-04-17T05:09:27.181862",
     "status": "completed"
    },
    "tags": []
   },
   "source": [
    "# 1. Load required libraries"
   ]
  },
  {
   "cell_type": "code",
   "execution_count": 1,
   "metadata": {
    "execution": {
     "iopub.execute_input": "2021-04-17T05:09:27.269664Z",
     "iopub.status.busy": "2021-04-17T05:09:27.268625Z",
     "iopub.status.idle": "2021-04-17T05:09:27.276693Z",
     "shell.execute_reply": "2021-04-17T05:09:27.277622Z"
    },
    "papermill": {
     "duration": 0.043005,
     "end_time": "2021-04-17T05:09:27.277995",
     "exception": false,
     "start_time": "2021-04-17T05:09:27.234990",
     "status": "completed"
    },
    "tags": []
   },
   "outputs": [],
   "source": [
    "# This Python 3 environment comes with many helpful analytics libraries installed\n",
    "# It is defined by the kaggle/python Docker image: https://github.com/kaggle/docker-python\n",
    "# For example, here's several helpful packages to load\n",
    "\n",
    "import numpy as np # linear algebra\n",
    "import pandas as pd # data processing, CSV file I/O (e.g. pd.read_csv)\n",
    "\n",
    "# Input data files are available in the read-only \"../input/\" directory\n",
    "# For example, running this (by clicking run or pressing Shift+Enter) will list all files under the input directory\n",
    "\n",
    "import os\n",
    "for dirname, _, filenames in os.walk('/kaggle/input'):\n",
    "    for filename in filenames:\n",
    "        print(os.path.join(dirname, filename))\n",
    "\n",
    "# You can write up to 20GB to the current directory (/kaggle/working/) that gets preserved as output when you create a version using \"Save & Run All\" \n",
    "# You can also write temporary files to /kaggle/temp/, but they won't be saved outside of the current session"
   ]
  },
  {
   "cell_type": "code",
   "execution_count": 2,
   "metadata": {
    "execution": {
     "iopub.execute_input": "2021-04-17T05:09:27.343181Z",
     "iopub.status.busy": "2021-04-17T05:09:27.342403Z",
     "iopub.status.idle": "2021-04-17T05:09:28.356854Z",
     "shell.execute_reply": "2021-04-17T05:09:28.356224Z"
    },
    "papermill": {
     "duration": 1.050134,
     "end_time": "2021-04-17T05:09:28.357002",
     "exception": false,
     "start_time": "2021-04-17T05:09:27.306868",
     "status": "completed"
    },
    "tags": []
   },
   "outputs": [],
   "source": [
    "# Basic data management packages\n",
    "import os\n",
    "import numpy as np\n",
    "import pandas as pd\n",
    "\n",
    "# Visualization packages\n",
    "import matplotlib.pyplot as plt\n",
    "import seaborn as sns\n",
    "import pandas.plotting as pd_plot\n",
    "%matplotlib inline"
   ]
  },
  {
   "cell_type": "code",
   "execution_count": 3,
   "metadata": {
    "execution": {
     "iopub.execute_input": "2021-04-17T05:09:28.418529Z",
     "iopub.status.busy": "2021-04-17T05:09:28.417654Z",
     "iopub.status.idle": "2021-04-17T05:09:29.176630Z",
     "shell.execute_reply": "2021-04-17T05:09:29.177138Z"
    },
    "papermill": {
     "duration": 0.793186,
     "end_time": "2021-04-17T05:09:29.177382",
     "exception": false,
     "start_time": "2021-04-17T05:09:28.384196",
     "status": "completed"
    },
    "tags": []
   },
   "outputs": [],
   "source": [
    "# Exploratory Data Analysis packages\n",
    "from sklearn.preprocessing import StandardScaler\n",
    "from sklearn.decomposition import PCA  \n",
    "from sklearn.manifold import TSNE\n",
    "from sklearn.cluster import KMeans, AgglomerativeClustering\n",
    "from sklearn.mixture import GaussianMixture\n",
    "from sklearn.neighbors import LocalOutlierFactor"
   ]
  },
  {
   "cell_type": "code",
   "execution_count": 4,
   "metadata": {
    "execution": {
     "iopub.execute_input": "2021-04-17T05:09:29.236806Z",
     "iopub.status.busy": "2021-04-17T05:09:29.235781Z",
     "iopub.status.idle": "2021-04-17T05:09:36.062334Z",
     "shell.execute_reply": "2021-04-17T05:09:36.063028Z"
    },
    "papermill": {
     "duration": 6.857879,
     "end_time": "2021-04-17T05:09:36.063219",
     "exception": false,
     "start_time": "2021-04-17T05:09:29.205340",
     "status": "completed"
    },
    "tags": []
   },
   "outputs": [
    {
     "name": "stdout",
     "output_type": "stream",
     "text": [
      "Tensorflow Version: 2.4.1\n",
      "Tensorflow built with CUDA? False\n",
      "[PhysicalDevice(name='/physical_device:CPU:0', device_type='CPU')]\n",
      "[]\n",
      "Num GPU Available: 0\n"
     ]
    }
   ],
   "source": [
    "# Regression and Modeling packages\n",
    "import tensorflow as tf\n",
    "import keras\n",
    "from scipy import stats\n",
    "from sklearn.metrics import mean_squared_error, r2_score\n",
    "\n",
    "# Verify GPU compatibility\n",
    "print(\"Tensorflow Version:\", tf.__version__)\n",
    "print(\"Tensorflow built with CUDA?\", tf.test.is_built_with_cuda())\n",
    "print(tf.config.list_physical_devices('CPU'))\n",
    "print(tf.config.list_physical_devices('GPU'))\n",
    "print(\"Num GPU Available:\", len(tf.config.list_physical_devices('GPU')))"
   ]
  },
  {
   "cell_type": "code",
   "execution_count": 5,
   "metadata": {
    "execution": {
     "iopub.execute_input": "2021-04-17T05:09:36.123099Z",
     "iopub.status.busy": "2021-04-17T05:09:36.122418Z",
     "iopub.status.idle": "2021-04-17T05:09:36.126327Z",
     "shell.execute_reply": "2021-04-17T05:09:36.126865Z"
    },
    "papermill": {
     "duration": 0.035752,
     "end_time": "2021-04-17T05:09:36.127036",
     "exception": false,
     "start_time": "2021-04-17T05:09:36.091284",
     "status": "completed"
    },
    "tags": []
   },
   "outputs": [],
   "source": [
    "# Preprocessing choice\n",
    "# preprocessing_method = 'HousePreprocessor'\n",
    "preprocessing_method = 'Mappings'"
   ]
  },
  {
   "cell_type": "markdown",
   "metadata": {
    "papermill": {
     "duration": 0.02798,
     "end_time": "2021-04-17T05:09:36.183307",
     "exception": false,
     "start_time": "2021-04-17T05:09:36.155327",
     "status": "completed"
    },
    "tags": []
   },
   "source": [
    "***"
   ]
  },
  {
   "cell_type": "code",
   "execution_count": 6,
   "metadata": {
    "execution": {
     "iopub.execute_input": "2021-04-17T05:09:36.243169Z",
     "iopub.status.busy": "2021-04-17T05:09:36.242525Z",
     "iopub.status.idle": "2021-04-17T05:09:36.332653Z",
     "shell.execute_reply": "2021-04-17T05:09:36.331925Z"
    },
    "papermill": {
     "duration": 0.121194,
     "end_time": "2021-04-17T05:09:36.332805",
     "exception": false,
     "start_time": "2021-04-17T05:09:36.211611",
     "status": "completed"
    },
    "tags": []
   },
   "outputs": [],
   "source": [
    "# Read CSV files for Train/Test datasets\n",
    "train_df = '/kaggle/input/house-prices-advanced-regression-techniques/train.csv'\n",
    "test_df  = '/kaggle/input/house-prices-advanced-regression-techniques/test.csv'\n",
    "if not os.path.isfile(train_df):\n",
    "    train_csv = 'train.csv'\n",
    "    test_csv = 'test.csv'\n",
    "    \n",
    "train_df = pd.read_csv(train_csv)\n",
    "test_df  = pd.read_csv(test_csv)"
   ]
  },
  {
   "cell_type": "code",
   "execution_count": 7,
   "metadata": {
    "execution": {
     "iopub.execute_input": "2021-04-17T05:09:36.408043Z",
     "iopub.status.busy": "2021-04-17T05:09:36.407170Z",
     "iopub.status.idle": "2021-04-17T05:09:36.411701Z",
     "shell.execute_reply": "2021-04-17T05:09:36.410907Z"
    },
    "papermill": {
     "duration": 0.050578,
     "end_time": "2021-04-17T05:09:36.411909",
     "exception": false,
     "start_time": "2021-04-17T05:09:36.361331",
     "status": "completed"
    },
    "tags": []
   },
   "outputs": [
    {
     "name": "stdout",
     "output_type": "stream",
     "text": [
      "Train Shape: (1460, 81) | types: [dtype('int64') dtype('O') dtype('float64')] \n",
      "Test Shape:  (1459, 80) | types: [dtype('int64') dtype('O') dtype('float64')]\n",
      "Set difference train-vs-test: {'SalePrice'}\n"
     ]
    }
   ],
   "source": [
    "print('Train Shape: {} | types: {} \\nTest Shape:  {} | types: {}'.format(train_df.shape, pd.unique(train_df.dtypes), \n",
    "                                                                       test_df.shape, pd.unique(test_df.dtypes)))\n",
    "print('Set difference train-vs-test: {}'.format(set(train_df.columns).difference(set(test_df.columns))))"
   ]
  },
  {
   "cell_type": "code",
   "execution_count": 8,
   "metadata": {
    "execution": {
     "iopub.execute_input": "2021-04-17T05:09:36.483926Z",
     "iopub.status.busy": "2021-04-17T05:09:36.482810Z",
     "iopub.status.idle": "2021-04-17T05:09:36.490202Z",
     "shell.execute_reply": "2021-04-17T05:09:36.489676Z"
    },
    "papermill": {
     "duration": 0.048879,
     "end_time": "2021-04-17T05:09:36.490388",
     "exception": false,
     "start_time": "2021-04-17T05:09:36.441509",
     "status": "completed"
    },
    "tags": []
   },
   "outputs": [
    {
     "name": "stdout",
     "output_type": "stream",
     "text": [
      "x_train (1460, 81) | \n",
      "x_test  (1459, 80)\n"
     ]
    }
   ],
   "source": [
    "x_train = train_df.copy()  #79 train features\n",
    "x_test  = test_df.copy()     #79 test features\n",
    "print('x_train {} | \\nx_test  {}'.format(x_train.shape, x_test.shape))"
   ]
  },
  {
   "cell_type": "code",
   "execution_count": 9,
   "metadata": {
    "execution": {
     "iopub.execute_input": "2021-04-17T05:09:36.558845Z",
     "iopub.status.busy": "2021-04-17T05:09:36.557601Z",
     "iopub.status.idle": "2021-04-17T05:09:36.592323Z",
     "shell.execute_reply": "2021-04-17T05:09:36.592841Z"
    },
    "papermill": {
     "duration": 0.073151,
     "end_time": "2021-04-17T05:09:36.593013",
     "exception": false,
     "start_time": "2021-04-17T05:09:36.519862",
     "status": "completed"
    },
    "tags": []
   },
   "outputs": [
    {
     "data": {
      "text/html": [
       "<div>\n",
       "<style scoped>\n",
       "    .dataframe tbody tr th:only-of-type {\n",
       "        vertical-align: middle;\n",
       "    }\n",
       "\n",
       "    .dataframe tbody tr th {\n",
       "        vertical-align: top;\n",
       "    }\n",
       "\n",
       "    .dataframe thead th {\n",
       "        text-align: right;\n",
       "    }\n",
       "</style>\n",
       "<table border=\"1\" class=\"dataframe\">\n",
       "  <thead>\n",
       "    <tr style=\"text-align: right;\">\n",
       "      <th></th>\n",
       "      <th>Id</th>\n",
       "      <th>MSSubClass</th>\n",
       "      <th>MSZoning</th>\n",
       "      <th>LotFrontage</th>\n",
       "      <th>LotArea</th>\n",
       "      <th>Street</th>\n",
       "      <th>Alley</th>\n",
       "      <th>LotShape</th>\n",
       "      <th>LandContour</th>\n",
       "      <th>Utilities</th>\n",
       "      <th>...</th>\n",
       "      <th>PoolArea</th>\n",
       "      <th>PoolQC</th>\n",
       "      <th>Fence</th>\n",
       "      <th>MiscFeature</th>\n",
       "      <th>MiscVal</th>\n",
       "      <th>MoSold</th>\n",
       "      <th>YrSold</th>\n",
       "      <th>SaleType</th>\n",
       "      <th>SaleCondition</th>\n",
       "      <th>SalePrice</th>\n",
       "    </tr>\n",
       "  </thead>\n",
       "  <tbody>\n",
       "    <tr>\n",
       "      <th>0</th>\n",
       "      <td>1</td>\n",
       "      <td>60</td>\n",
       "      <td>RL</td>\n",
       "      <td>65.0</td>\n",
       "      <td>8450</td>\n",
       "      <td>Pave</td>\n",
       "      <td>NaN</td>\n",
       "      <td>Reg</td>\n",
       "      <td>Lvl</td>\n",
       "      <td>AllPub</td>\n",
       "      <td>...</td>\n",
       "      <td>0</td>\n",
       "      <td>NaN</td>\n",
       "      <td>NaN</td>\n",
       "      <td>NaN</td>\n",
       "      <td>0</td>\n",
       "      <td>2</td>\n",
       "      <td>2008</td>\n",
       "      <td>WD</td>\n",
       "      <td>Normal</td>\n",
       "      <td>208500</td>\n",
       "    </tr>\n",
       "    <tr>\n",
       "      <th>1</th>\n",
       "      <td>2</td>\n",
       "      <td>20</td>\n",
       "      <td>RL</td>\n",
       "      <td>80.0</td>\n",
       "      <td>9600</td>\n",
       "      <td>Pave</td>\n",
       "      <td>NaN</td>\n",
       "      <td>Reg</td>\n",
       "      <td>Lvl</td>\n",
       "      <td>AllPub</td>\n",
       "      <td>...</td>\n",
       "      <td>0</td>\n",
       "      <td>NaN</td>\n",
       "      <td>NaN</td>\n",
       "      <td>NaN</td>\n",
       "      <td>0</td>\n",
       "      <td>5</td>\n",
       "      <td>2007</td>\n",
       "      <td>WD</td>\n",
       "      <td>Normal</td>\n",
       "      <td>181500</td>\n",
       "    </tr>\n",
       "    <tr>\n",
       "      <th>2</th>\n",
       "      <td>3</td>\n",
       "      <td>60</td>\n",
       "      <td>RL</td>\n",
       "      <td>68.0</td>\n",
       "      <td>11250</td>\n",
       "      <td>Pave</td>\n",
       "      <td>NaN</td>\n",
       "      <td>IR1</td>\n",
       "      <td>Lvl</td>\n",
       "      <td>AllPub</td>\n",
       "      <td>...</td>\n",
       "      <td>0</td>\n",
       "      <td>NaN</td>\n",
       "      <td>NaN</td>\n",
       "      <td>NaN</td>\n",
       "      <td>0</td>\n",
       "      <td>9</td>\n",
       "      <td>2008</td>\n",
       "      <td>WD</td>\n",
       "      <td>Normal</td>\n",
       "      <td>223500</td>\n",
       "    </tr>\n",
       "    <tr>\n",
       "      <th>3</th>\n",
       "      <td>4</td>\n",
       "      <td>70</td>\n",
       "      <td>RL</td>\n",
       "      <td>60.0</td>\n",
       "      <td>9550</td>\n",
       "      <td>Pave</td>\n",
       "      <td>NaN</td>\n",
       "      <td>IR1</td>\n",
       "      <td>Lvl</td>\n",
       "      <td>AllPub</td>\n",
       "      <td>...</td>\n",
       "      <td>0</td>\n",
       "      <td>NaN</td>\n",
       "      <td>NaN</td>\n",
       "      <td>NaN</td>\n",
       "      <td>0</td>\n",
       "      <td>2</td>\n",
       "      <td>2006</td>\n",
       "      <td>WD</td>\n",
       "      <td>Abnorml</td>\n",
       "      <td>140000</td>\n",
       "    </tr>\n",
       "    <tr>\n",
       "      <th>4</th>\n",
       "      <td>5</td>\n",
       "      <td>60</td>\n",
       "      <td>RL</td>\n",
       "      <td>84.0</td>\n",
       "      <td>14260</td>\n",
       "      <td>Pave</td>\n",
       "      <td>NaN</td>\n",
       "      <td>IR1</td>\n",
       "      <td>Lvl</td>\n",
       "      <td>AllPub</td>\n",
       "      <td>...</td>\n",
       "      <td>0</td>\n",
       "      <td>NaN</td>\n",
       "      <td>NaN</td>\n",
       "      <td>NaN</td>\n",
       "      <td>0</td>\n",
       "      <td>12</td>\n",
       "      <td>2008</td>\n",
       "      <td>WD</td>\n",
       "      <td>Normal</td>\n",
       "      <td>250000</td>\n",
       "    </tr>\n",
       "  </tbody>\n",
       "</table>\n",
       "<p>5 rows × 81 columns</p>\n",
       "</div>"
      ],
      "text/plain": [
       "   Id  MSSubClass MSZoning  LotFrontage  LotArea Street Alley LotShape  \\\n",
       "0   1          60       RL         65.0     8450   Pave   NaN      Reg   \n",
       "1   2          20       RL         80.0     9600   Pave   NaN      Reg   \n",
       "2   3          60       RL         68.0    11250   Pave   NaN      IR1   \n",
       "3   4          70       RL         60.0     9550   Pave   NaN      IR1   \n",
       "4   5          60       RL         84.0    14260   Pave   NaN      IR1   \n",
       "\n",
       "  LandContour Utilities  ... PoolArea PoolQC Fence MiscFeature MiscVal MoSold  \\\n",
       "0         Lvl    AllPub  ...        0    NaN   NaN         NaN       0      2   \n",
       "1         Lvl    AllPub  ...        0    NaN   NaN         NaN       0      5   \n",
       "2         Lvl    AllPub  ...        0    NaN   NaN         NaN       0      9   \n",
       "3         Lvl    AllPub  ...        0    NaN   NaN         NaN       0      2   \n",
       "4         Lvl    AllPub  ...        0    NaN   NaN         NaN       0     12   \n",
       "\n",
       "  YrSold  SaleType  SaleCondition  SalePrice  \n",
       "0   2008        WD         Normal     208500  \n",
       "1   2007        WD         Normal     181500  \n",
       "2   2008        WD         Normal     223500  \n",
       "3   2006        WD        Abnorml     140000  \n",
       "4   2008        WD         Normal     250000  \n",
       "\n",
       "[5 rows x 81 columns]"
      ]
     },
     "execution_count": 9,
     "metadata": {},
     "output_type": "execute_result"
    }
   ],
   "source": [
    "#preview the training data set\n",
    "x_train.head()"
   ]
  },
  {
   "cell_type": "code",
   "execution_count": 10,
   "metadata": {
    "execution": {
     "iopub.execute_input": "2021-04-17T05:09:36.665580Z",
     "iopub.status.busy": "2021-04-17T05:09:36.664533Z",
     "iopub.status.idle": "2021-04-17T05:09:36.698874Z",
     "shell.execute_reply": "2021-04-17T05:09:36.697827Z"
    },
    "papermill": {
     "duration": 0.074486,
     "end_time": "2021-04-17T05:09:36.699027",
     "exception": false,
     "start_time": "2021-04-17T05:09:36.624541",
     "status": "completed"
    },
    "tags": []
   },
   "outputs": [
    {
     "data": {
      "text/html": [
       "<div>\n",
       "<style scoped>\n",
       "    .dataframe tbody tr th:only-of-type {\n",
       "        vertical-align: middle;\n",
       "    }\n",
       "\n",
       "    .dataframe tbody tr th {\n",
       "        vertical-align: top;\n",
       "    }\n",
       "\n",
       "    .dataframe thead th {\n",
       "        text-align: right;\n",
       "    }\n",
       "</style>\n",
       "<table border=\"1\" class=\"dataframe\">\n",
       "  <thead>\n",
       "    <tr style=\"text-align: right;\">\n",
       "      <th></th>\n",
       "      <th>Id</th>\n",
       "      <th>MSSubClass</th>\n",
       "      <th>MSZoning</th>\n",
       "      <th>LotFrontage</th>\n",
       "      <th>LotArea</th>\n",
       "      <th>Street</th>\n",
       "      <th>Alley</th>\n",
       "      <th>LotShape</th>\n",
       "      <th>LandContour</th>\n",
       "      <th>Utilities</th>\n",
       "      <th>...</th>\n",
       "      <th>ScreenPorch</th>\n",
       "      <th>PoolArea</th>\n",
       "      <th>PoolQC</th>\n",
       "      <th>Fence</th>\n",
       "      <th>MiscFeature</th>\n",
       "      <th>MiscVal</th>\n",
       "      <th>MoSold</th>\n",
       "      <th>YrSold</th>\n",
       "      <th>SaleType</th>\n",
       "      <th>SaleCondition</th>\n",
       "    </tr>\n",
       "  </thead>\n",
       "  <tbody>\n",
       "    <tr>\n",
       "      <th>0</th>\n",
       "      <td>1461</td>\n",
       "      <td>20</td>\n",
       "      <td>RH</td>\n",
       "      <td>80.0</td>\n",
       "      <td>11622</td>\n",
       "      <td>Pave</td>\n",
       "      <td>NaN</td>\n",
       "      <td>Reg</td>\n",
       "      <td>Lvl</td>\n",
       "      <td>AllPub</td>\n",
       "      <td>...</td>\n",
       "      <td>120</td>\n",
       "      <td>0</td>\n",
       "      <td>NaN</td>\n",
       "      <td>MnPrv</td>\n",
       "      <td>NaN</td>\n",
       "      <td>0</td>\n",
       "      <td>6</td>\n",
       "      <td>2010</td>\n",
       "      <td>WD</td>\n",
       "      <td>Normal</td>\n",
       "    </tr>\n",
       "    <tr>\n",
       "      <th>1</th>\n",
       "      <td>1462</td>\n",
       "      <td>20</td>\n",
       "      <td>RL</td>\n",
       "      <td>81.0</td>\n",
       "      <td>14267</td>\n",
       "      <td>Pave</td>\n",
       "      <td>NaN</td>\n",
       "      <td>IR1</td>\n",
       "      <td>Lvl</td>\n",
       "      <td>AllPub</td>\n",
       "      <td>...</td>\n",
       "      <td>0</td>\n",
       "      <td>0</td>\n",
       "      <td>NaN</td>\n",
       "      <td>NaN</td>\n",
       "      <td>Gar2</td>\n",
       "      <td>12500</td>\n",
       "      <td>6</td>\n",
       "      <td>2010</td>\n",
       "      <td>WD</td>\n",
       "      <td>Normal</td>\n",
       "    </tr>\n",
       "    <tr>\n",
       "      <th>2</th>\n",
       "      <td>1463</td>\n",
       "      <td>60</td>\n",
       "      <td>RL</td>\n",
       "      <td>74.0</td>\n",
       "      <td>13830</td>\n",
       "      <td>Pave</td>\n",
       "      <td>NaN</td>\n",
       "      <td>IR1</td>\n",
       "      <td>Lvl</td>\n",
       "      <td>AllPub</td>\n",
       "      <td>...</td>\n",
       "      <td>0</td>\n",
       "      <td>0</td>\n",
       "      <td>NaN</td>\n",
       "      <td>MnPrv</td>\n",
       "      <td>NaN</td>\n",
       "      <td>0</td>\n",
       "      <td>3</td>\n",
       "      <td>2010</td>\n",
       "      <td>WD</td>\n",
       "      <td>Normal</td>\n",
       "    </tr>\n",
       "    <tr>\n",
       "      <th>3</th>\n",
       "      <td>1464</td>\n",
       "      <td>60</td>\n",
       "      <td>RL</td>\n",
       "      <td>78.0</td>\n",
       "      <td>9978</td>\n",
       "      <td>Pave</td>\n",
       "      <td>NaN</td>\n",
       "      <td>IR1</td>\n",
       "      <td>Lvl</td>\n",
       "      <td>AllPub</td>\n",
       "      <td>...</td>\n",
       "      <td>0</td>\n",
       "      <td>0</td>\n",
       "      <td>NaN</td>\n",
       "      <td>NaN</td>\n",
       "      <td>NaN</td>\n",
       "      <td>0</td>\n",
       "      <td>6</td>\n",
       "      <td>2010</td>\n",
       "      <td>WD</td>\n",
       "      <td>Normal</td>\n",
       "    </tr>\n",
       "    <tr>\n",
       "      <th>4</th>\n",
       "      <td>1465</td>\n",
       "      <td>120</td>\n",
       "      <td>RL</td>\n",
       "      <td>43.0</td>\n",
       "      <td>5005</td>\n",
       "      <td>Pave</td>\n",
       "      <td>NaN</td>\n",
       "      <td>IR1</td>\n",
       "      <td>HLS</td>\n",
       "      <td>AllPub</td>\n",
       "      <td>...</td>\n",
       "      <td>144</td>\n",
       "      <td>0</td>\n",
       "      <td>NaN</td>\n",
       "      <td>NaN</td>\n",
       "      <td>NaN</td>\n",
       "      <td>0</td>\n",
       "      <td>1</td>\n",
       "      <td>2010</td>\n",
       "      <td>WD</td>\n",
       "      <td>Normal</td>\n",
       "    </tr>\n",
       "  </tbody>\n",
       "</table>\n",
       "<p>5 rows × 80 columns</p>\n",
       "</div>"
      ],
      "text/plain": [
       "     Id  MSSubClass MSZoning  LotFrontage  LotArea Street Alley LotShape  \\\n",
       "0  1461          20       RH         80.0    11622   Pave   NaN      Reg   \n",
       "1  1462          20       RL         81.0    14267   Pave   NaN      IR1   \n",
       "2  1463          60       RL         74.0    13830   Pave   NaN      IR1   \n",
       "3  1464          60       RL         78.0     9978   Pave   NaN      IR1   \n",
       "4  1465         120       RL         43.0     5005   Pave   NaN      IR1   \n",
       "\n",
       "  LandContour Utilities  ... ScreenPorch PoolArea PoolQC  Fence MiscFeature  \\\n",
       "0         Lvl    AllPub  ...         120        0    NaN  MnPrv         NaN   \n",
       "1         Lvl    AllPub  ...           0        0    NaN    NaN        Gar2   \n",
       "2         Lvl    AllPub  ...           0        0    NaN  MnPrv         NaN   \n",
       "3         Lvl    AllPub  ...           0        0    NaN    NaN         NaN   \n",
       "4         HLS    AllPub  ...         144        0    NaN    NaN         NaN   \n",
       "\n",
       "  MiscVal MoSold  YrSold  SaleType  SaleCondition  \n",
       "0       0      6    2010        WD         Normal  \n",
       "1   12500      6    2010        WD         Normal  \n",
       "2       0      3    2010        WD         Normal  \n",
       "3       0      6    2010        WD         Normal  \n",
       "4       0      1    2010        WD         Normal  \n",
       "\n",
       "[5 rows x 80 columns]"
      ]
     },
     "execution_count": 10,
     "metadata": {},
     "output_type": "execute_result"
    }
   ],
   "source": [
    "#preview the testing data set\n",
    "x_test.head()"
   ]
  },
  {
   "cell_type": "code",
   "execution_count": 11,
   "metadata": {
    "execution": {
     "iopub.execute_input": "2021-04-17T05:09:36.769921Z",
     "iopub.status.busy": "2021-04-17T05:09:36.768883Z",
     "iopub.status.idle": "2021-04-17T05:09:36.772469Z",
     "shell.execute_reply": "2021-04-17T05:09:36.773065Z"
    },
    "papermill": {
     "duration": 0.042859,
     "end_time": "2021-04-17T05:09:36.773238",
     "exception": false,
     "start_time": "2021-04-17T05:09:36.730379",
     "status": "completed"
    },
    "tags": []
   },
   "outputs": [
    {
     "name": "stdout",
     "output_type": "stream",
     "text": [
      "Number of Numerical features:  38\n",
      "Number of Categorical features:  43\n"
     ]
    }
   ],
   "source": [
    "numerical_feats = x_train.dtypes[x_train.dtypes != \"object\"].index\n",
    "print(\"Number of Numerical features: \", len(numerical_feats))\n",
    "\n",
    "categorical_feats = x_train.dtypes[x_train.dtypes == \"object\"].index\n",
    "print(\"Number of Categorical features: \", len(categorical_feats))"
   ]
  },
  {
   "cell_type": "code",
   "execution_count": 12,
   "metadata": {
    "execution": {
     "iopub.execute_input": "2021-04-17T05:09:36.851413Z",
     "iopub.status.busy": "2021-04-17T05:09:36.850549Z",
     "iopub.status.idle": "2021-04-17T05:09:36.905014Z",
     "shell.execute_reply": "2021-04-17T05:09:36.904290Z"
    },
    "papermill": {
     "duration": 0.100686,
     "end_time": "2021-04-17T05:09:36.905301",
     "exception": false,
     "start_time": "2021-04-17T05:09:36.804615",
     "status": "completed"
    },
    "tags": []
   },
   "outputs": [
    {
     "data": {
      "text/html": [
       "<div>\n",
       "<style scoped>\n",
       "    .dataframe tbody tr th:only-of-type {\n",
       "        vertical-align: middle;\n",
       "    }\n",
       "\n",
       "    .dataframe tbody tr th {\n",
       "        vertical-align: top;\n",
       "    }\n",
       "\n",
       "    .dataframe thead th {\n",
       "        text-align: right;\n",
       "    }\n",
       "</style>\n",
       "<table border=\"1\" class=\"dataframe\">\n",
       "  <thead>\n",
       "    <tr style=\"text-align: right;\">\n",
       "      <th></th>\n",
       "      <th>Total</th>\n",
       "      <th>Percent</th>\n",
       "    </tr>\n",
       "  </thead>\n",
       "  <tbody>\n",
       "    <tr>\n",
       "      <th>PoolQC</th>\n",
       "      <td>1453</td>\n",
       "      <td>0.995205</td>\n",
       "    </tr>\n",
       "    <tr>\n",
       "      <th>MiscFeature</th>\n",
       "      <td>1406</td>\n",
       "      <td>0.963014</td>\n",
       "    </tr>\n",
       "    <tr>\n",
       "      <th>Alley</th>\n",
       "      <td>1369</td>\n",
       "      <td>0.937671</td>\n",
       "    </tr>\n",
       "    <tr>\n",
       "      <th>Fence</th>\n",
       "      <td>1179</td>\n",
       "      <td>0.807534</td>\n",
       "    </tr>\n",
       "    <tr>\n",
       "      <th>FireplaceQu</th>\n",
       "      <td>690</td>\n",
       "      <td>0.472603</td>\n",
       "    </tr>\n",
       "    <tr>\n",
       "      <th>LotFrontage</th>\n",
       "      <td>259</td>\n",
       "      <td>0.177397</td>\n",
       "    </tr>\n",
       "    <tr>\n",
       "      <th>GarageYrBlt</th>\n",
       "      <td>81</td>\n",
       "      <td>0.055479</td>\n",
       "    </tr>\n",
       "    <tr>\n",
       "      <th>GarageCond</th>\n",
       "      <td>81</td>\n",
       "      <td>0.055479</td>\n",
       "    </tr>\n",
       "    <tr>\n",
       "      <th>GarageType</th>\n",
       "      <td>81</td>\n",
       "      <td>0.055479</td>\n",
       "    </tr>\n",
       "    <tr>\n",
       "      <th>GarageFinish</th>\n",
       "      <td>81</td>\n",
       "      <td>0.055479</td>\n",
       "    </tr>\n",
       "  </tbody>\n",
       "</table>\n",
       "</div>"
      ],
      "text/plain": [
       "              Total   Percent\n",
       "PoolQC         1453  0.995205\n",
       "MiscFeature    1406  0.963014\n",
       "Alley          1369  0.937671\n",
       "Fence          1179  0.807534\n",
       "FireplaceQu     690  0.472603\n",
       "LotFrontage     259  0.177397\n",
       "GarageYrBlt      81  0.055479\n",
       "GarageCond       81  0.055479\n",
       "GarageType       81  0.055479\n",
       "GarageFinish     81  0.055479"
      ]
     },
     "execution_count": 12,
     "metadata": {},
     "output_type": "execute_result"
    }
   ],
   "source": [
    "total = x_train.isnull().sum().sort_values(ascending=False)\n",
    "percent = (x_train.isnull().sum()/x_train.isnull().count()).sort_values(ascending=False)\n",
    "missing_data = pd.concat([total, percent], axis=1, keys=['Total', 'Percent'])\n",
    "missing_data.head(10)"
   ]
  },
  {
   "cell_type": "code",
   "execution_count": 13,
   "metadata": {
    "execution": {
     "iopub.execute_input": "2021-04-17T05:09:36.976786Z",
     "iopub.status.busy": "2021-04-17T05:09:36.975858Z",
     "iopub.status.idle": "2021-04-17T05:09:36.979692Z",
     "shell.execute_reply": "2021-04-17T05:09:36.978842Z"
    },
    "papermill": {
     "duration": 0.043046,
     "end_time": "2021-04-17T05:09:36.979838",
     "exception": false,
     "start_time": "2021-04-17T05:09:36.936792",
     "status": "completed"
    },
    "tags": []
   },
   "outputs": [
    {
     "ename": "TypeError",
     "evalue": "'Index' object is not callable",
     "output_type": "error",
     "traceback": [
      "\u001b[0;31m---------------------------------------------------------------------------\u001b[0m",
      "\u001b[0;31mTypeError\u001b[0m                                 Traceback (most recent call last)",
      "\u001b[0;32m<ipython-input-13-14a90c8b5b63>\u001b[0m in \u001b[0;36m<module>\u001b[0;34m\u001b[0m\n\u001b[1;32m      7\u001b[0m \u001b[0;34m\u001b[0m\u001b[0m\n\u001b[1;32m      8\u001b[0m \u001b[0;31m# replace 'NaN' with 'None' in these columns\u001b[0m\u001b[0;34m\u001b[0m\u001b[0;34m\u001b[0m\u001b[0;34m\u001b[0m\u001b[0m\n\u001b[0;32m----> 9\u001b[0;31m \u001b[0;32mfor\u001b[0m \u001b[0mcol\u001b[0m \u001b[0;32min\u001b[0m \u001b[0mx_train\u001b[0m\u001b[0;34m.\u001b[0m\u001b[0mcolumns\u001b[0m\u001b[0;34m(\u001b[0m\u001b[0;34m)\u001b[0m\u001b[0;34m:\u001b[0m\u001b[0;34m\u001b[0m\u001b[0;34m\u001b[0m\u001b[0m\n\u001b[0m\u001b[1;32m     10\u001b[0m     \u001b[0mx_train\u001b[0m\u001b[0;34m[\u001b[0m\u001b[0mcol\u001b[0m\u001b[0;34m]\u001b[0m\u001b[0;34m.\u001b[0m\u001b[0mfillna\u001b[0m\u001b[0;34m(\u001b[0m\u001b[0;34m'None'\u001b[0m\u001b[0;34m,\u001b[0m\u001b[0minplace\u001b[0m\u001b[0;34m=\u001b[0m\u001b[0;32mTrue\u001b[0m\u001b[0;34m)\u001b[0m\u001b[0;34m\u001b[0m\u001b[0;34m\u001b[0m\u001b[0m\n\u001b[1;32m     11\u001b[0m     \u001b[0mx_test\u001b[0m\u001b[0;34m[\u001b[0m\u001b[0mcol\u001b[0m\u001b[0;34m]\u001b[0m\u001b[0;34m.\u001b[0m\u001b[0mfillna\u001b[0m\u001b[0;34m(\u001b[0m\u001b[0;34m'None'\u001b[0m\u001b[0;34m,\u001b[0m\u001b[0minplace\u001b[0m\u001b[0;34m=\u001b[0m\u001b[0;32mTrue\u001b[0m\u001b[0;34m)\u001b[0m\u001b[0;34m\u001b[0m\u001b[0;34m\u001b[0m\u001b[0m\n",
      "\u001b[0;31mTypeError\u001b[0m: 'Index' object is not callable"
     ]
    }
   ],
   "source": [
    "# columns where NaN values have meaning e.g. no pool etc.\n",
    "# cols_fillna = ['PoolQC','MiscFeature','Alley','Fence','MasVnrType','FireplaceQu',\n",
    "#                'GarageQual','GarageCond','GarageFinish','GarageType', 'Electrical',\n",
    "#                'KitchenQual', 'SaleType', 'Functional', 'Exterior2nd', 'Exterior1st',\n",
    "#                'BsmtExposure','BsmtCond','BsmtQual','BsmtFinType1','BsmtFinType2',\n",
    "#                'MSZoning', 'Utilities']\n",
    "\n",
    "# replace 'NaN' with 'None' in these columns\n",
    "for col in x_train.columns:\n",
    "    x_train[col].fillna('None',inplace=True)\n",
    "    x_test[col].fillna('None',inplace=True)"
   ]
  },
  {
   "cell_type": "code",
   "execution_count": null,
   "metadata": {
    "execution": {
     "iopub.execute_input": "2021-04-17T05:09:37.081493Z",
     "iopub.status.busy": "2021-04-17T05:09:37.073780Z",
     "iopub.status.idle": "2021-04-17T05:09:37.084806Z",
     "shell.execute_reply": "2021-04-17T05:09:37.084177Z"
    },
    "papermill": {
     "duration": 0.072907,
     "end_time": "2021-04-17T05:09:37.084953",
     "exception": false,
     "start_time": "2021-04-17T05:09:37.012046",
     "status": "completed"
    },
    "tags": []
   },
   "outputs": [],
   "source": [
    "# Replace object/string values with categorial values from the \"data_description\" file from Kaggle\n",
    "total = x_train.isnull().sum().sort_values(ascending=False)\n",
    "percent = (x_train.isnull().sum()/x_train.isnull().count()).sort_values(ascending=False)\n",
    "missing_data = pd.concat([total, percent], axis=1, keys=['Total', 'Percent'])\n",
    "missing_data.head(5)"
   ]
  },
  {
   "cell_type": "code",
   "execution_count": null,
   "metadata": {
    "execution": {
     "iopub.execute_input": "2021-04-17T05:09:37.160575Z",
     "iopub.status.busy": "2021-04-17T05:09:37.159854Z",
     "iopub.status.idle": "2021-04-17T05:09:37.432996Z",
     "shell.execute_reply": "2021-04-17T05:09:37.431668Z"
    },
    "papermill": {
     "duration": 0.314804,
     "end_time": "2021-04-17T05:09:37.433308",
     "exception": false,
     "start_time": "2021-04-17T05:09:37.118504",
     "status": "completed"
    },
    "tags": []
   },
   "outputs": [],
   "source": [
    "# fillna with mean or mode for the remaining values\n",
    "x_train.fillna(x_train.mean(), inplace=True)\n",
    "x_test.fillna(x_test.mean(), inplace=True)\n",
    "x_train.fillna(x_train.mode(), inplace=True)\n",
    "x_test.fillna(x_test.mode(), inplace=True)\n",
    "\n",
    "print('x_train {} | \\nx_test  {}'.format(x_train.shape, x_test.shape))"
   ]
  },
  {
   "cell_type": "code",
   "execution_count": null,
   "metadata": {},
   "outputs": [],
   "source": [
    "numerical_feats = x_train.dtypes[x_train.dtypes != \"object\"].index\n",
    "print(\"Number of Numerical features: \", len(numerical_feats))\n",
    "\n",
    "categorical_feats = x_train.dtypes[x_train.dtypes == \"object\"].index\n",
    "print(\"Number of Categorical features: \", len(categorical_feats))"
   ]
  },
  {
   "cell_type": "code",
   "execution_count": null,
   "metadata": {},
   "outputs": [],
   "source": [
    "# Replace object/string values with categorial values from the \"data_description\" file from Kaggle\n",
    "mappings = dict(\n",
    "Street_mapping        = {'nan':0, 'Grvl':1, 'Pave':2},\n",
    "Alley_mapping         = {'nan':0, 'Grvl':1, 'Pave':2, 'NaN':0},\n",
    "LotShape_mapping      = {'nan':0, 'Reg':1, 'IR1':2, 'IR2':3, 'IR3':4 },\n",
    "LandContour_mapping   = {'nan':0, 'Lvl':1, 'Bnk':2, 'HLS':3, 'Low':4},\n",
    "Utilities_mapping     = {'nan':0, 'AllPub':1, 'NoSewr':2, 'NoSeWa':3, 'ELO':4},\n",
    "LotConfig_mapping     = {'nan':0, 'Inside':1, 'Corner':2, 'CulDSac':3, 'FR2':4, 'FR3':5},\n",
    "LandSlope_mapping     = {'nan':0, 'Gtl':1, 'Mod':2, 'Sev':3},\n",
    "Condition1_mapping    = {'nan':0, 'Artery':1, 'Feedr':2, 'Norm':3, 'RRNn':4, 'RRAn':5, 'PosN':6, 'PosA':7, 'RRNe':8, 'RRAe':9},\n",
    "BldgType_mapping      = {'nan':0, '1Fam':1, '2fmCon':2, 'Duplex':3, 'Twnhs':4, 'TwnhsE':4, 'TwnhsI':5},\n",
    "HouseStyle_mapping    = {'nan':0, '1Story':1, '1.5Fin':2, '1.5Unf':3, '2Story':4, '2.5Fin':5, '2.5Unf':6, 'SFoyer':7, 'SLvl':8},\n",
    "RoofStyle_mapping     = {'nan':0, 'Flat':1, 'Gable':2, 'Gambrel':3, 'Hip':4, 'Mansard':5, 'Shed':6},\n",
    "RoofMatl_mapping      = {'nan':0, 'ClyTile':1, 'CompShg':2, 'Membran':3, 'Metal':4, \n",
    "                         'Roll':5, 'Tar&Grv':6, 'WdShake':7, 'WdShngl':8},\n",
    "Exterior1st_mapping   = {'nan':0, 'AsbShng':1, 'AsphShn':2, 'BrkComm':3, 'BrkFace':4, 'CBlock':5, 'CemntBd':6, \n",
    "                         'HdBoard':7, 'ImStucc':8, 'MetalSd':9, 'Other':10, 'Plywood':11, 'PreCast':12, 'Stone':13, \n",
    "                         'Stucco':14, 'VinylSd':15,'Wd Sdng':16, 'WdShing':17},\n",
    "Exterior2nd_mapping   = {'nan':0, 'AsbShng':1, 'AsphShn':2, 'Brk Cmn':3, 'BrkFace':4, 'CBlock':5, 'CmentBd':6, \n",
    "                         'HdBoard':7, 'ImStucc':8, 'MetalSd':9, 'Other':10, 'Plywood':11, 'PreCast':12, 'Stone':13, \n",
    "                         'Stucco':14, 'VinylSd':15, 'Wd Shng':16, 'Wd Sdng':16, 'WdShing':17},\n",
    "ExterCond_mapping     = {'nan':0, 'Ex':1, 'Gd':2, 'TA':3, 'Fa':4, 'Po':5},\n",
    "Foundation_mapping    = {'nan':0, 'BrkTil':1, 'CBlock':2, 'PConc':3, 'Slab':4, 'Stone':5, 'Wood':6},\n",
    "BsmtCond_mapping      = {'nan':0, 'Ex':1, 'Gd':2, 'TA':3, 'Fa':4, 'Po':5, 'NA':0},\n",
    "BsmtExposure_mapping  = {'nan':0, 'Gd':1, 'Av':2, 'Mn':3, 'No':4, 'NA':5},\n",
    "BsmtFinType1_mapping  = {'nan':0, 'GLQ':1, 'ALQ':2, 'BLQ':3, 'Rec':4, 'LwQ':5, 'Unf':6, 'NA':0},\n",
    "BsmtFinType2_mapping  = {'nan':0, 'GLQ':1, 'ALQ':2, 'BLQ':3, 'Rec':4, 'LwQ':5, 'Unf':6, 'NA':0},\n",
    "Heating_mapping       = {'nan':0, 'Floor':1, 'GasA':2, 'GasW':3, 'Grav':4, 'OthW':5, 'Wall':6},\n",
    "HeatingQC_mapping     = {'nan':0, 'Ex':1, 'Gd':2, 'TA':3, 'Fa':4, 'Po':5},\n",
    "Functional_mapping    = {'nan':0, 'Typ':1, 'Min1':2, 'Min2':3, 'Mod':4, 'Maj1':5, 'Maj2':6, 'Sev':7, 'Sal':8},\n",
    "FireplaceQu_mapping   = {'nan':0, 'Ex':1, 'Gd':2, 'TA':3, 'Fa':4, 'Po':5, 'NA':0},\n",
    "GarageType_mapping    = {'nan':0, '2Types':1, 'Attchd':2, 'Basment':3, 'BuiltIn':4, 'CarPort':5, 'Detchd':6, 'NA':0},\n",
    "GarageFinish_mapping  = {'nan':0, 'Fin':1, 'RFn':2, 'Unf':3, 'NA':0},\n",
    "GarageQual_mapping    = {'nan':0, 'Ex':1, 'Gd':2, 'TA':3, 'Fa':4, 'Po':5, 'NA':0},\n",
    "GarageCond_mapping    = {'nan':0, 'Ex':1, 'Gd':2, 'TA':3, 'Fa':4, 'Po':5, 'NA':0},\n",
    "PavedDrive_mapping    = {'nan':0, 'Y':1, 'P':2, 'N':3},\n",
    "PoolQC_mapping        = {'nan':0, 'Ex':1, 'Gd':2, 'TA':3, 'Fa':4, 'NA':0},\n",
    "Fence_mapping         = {'nan':0, 'GdPrv':1, 'MnPrv':2, 'GdWo':3, 'MnWw':4, 'NA':0},\n",
    "MiscFeature_mapping   = {'nan':0, 'Elev':1, 'Gar2':2, 'Othr':3, 'Shed':4, 'TenC':5, 'NA':0},\n",
    "SaleCondition_mapping = {'nan':0, 'Normal':1, 'Abnorml':2, 'AdjLand':3, 'Alloca':4, 'Family':5, 'Partial':6})"
   ]
  },
  {
   "cell_type": "code",
   "execution_count": null,
   "metadata": {},
   "outputs": [],
   "source": [
    "x_train_copy = x_train.copy()\n",
    "cols_to_drop = ['MSZoning', 'Neighborhood', 'Condition2', 'MasVnrType', 'ExterQual', 'BsmtQual',\n",
    "                'CentralAir', 'Electrical', 'KitchenQual', 'SaleType']\n",
    "for df in [x_train_copy]:\n",
    "    df.drop(cols_to_drop, inplace= True, axis = 1)\n",
    "\n",
    "non_num_vars = x_train_copy.dtypes[x_train.dtypes=='object'].index\n",
    "# del non_num_vars[0]\n",
    "# non_num_vars[0].pop('MSZoning')\n",
    "print(non_num_vars)"
   ]
  },
  {
   "cell_type": "code",
   "execution_count": null,
   "metadata": {},
   "outputs": [],
   "source": [
    "x_train = x_train.replace({list(non_num_vars)[k] : list(mappings.values())[k] \n",
    "                           for k in np.arange(len(list(non_num_vars)))}).fillna(0)\n",
    "x_test  = x_test.replace({list(non_num_vars)[k] : list(mappings.values())[k] \n",
    "                           for k in np.arange(len(list(non_num_vars)))}).fillna(0)\n",
    "\n",
    "print('x_train {} | \\nx_test  {}'.format(x_train.shape, x_test.shape))\n"
   ]
  },
  {
   "cell_type": "code",
   "execution_count": null,
   "metadata": {
    "execution": {
     "iopub.execute_input": "2021-04-17T05:09:37.507652Z",
     "iopub.status.busy": "2021-04-17T05:09:37.506563Z",
     "iopub.status.idle": "2021-04-17T05:09:37.512412Z",
     "shell.execute_reply": "2021-04-17T05:09:37.511834Z"
    },
    "papermill": {
     "duration": 0.046419,
     "end_time": "2021-04-17T05:09:37.512560",
     "exception": false,
     "start_time": "2021-04-17T05:09:37.466141",
     "status": "completed"
    },
    "tags": []
   },
   "outputs": [],
   "source": [
    "numerical_feats = x_train.dtypes[x_train.dtypes != \"object\"].index\n",
    "print(\"Number of Numerical features: \", len(numerical_feats))\n",
    "\n",
    "categorical_feats = x_train.dtypes[x_train.dtypes == \"object\"].index\n",
    "print(\"Number of Categorical features: \", len(categorical_feats))"
   ]
  },
  {
   "cell_type": "code",
   "execution_count": null,
   "metadata": {},
   "outputs": [],
   "source": [
    "x_train.isnull().sum().sum()"
   ]
  },
  {
   "cell_type": "code",
   "execution_count": null,
   "metadata": {},
   "outputs": [],
   "source": [
    "x_test.isnull().sum().sum()"
   ]
  },
  {
   "cell_type": "markdown",
   "metadata": {
    "papermill": {
     "duration": 0.034104,
     "end_time": "2021-04-17T05:09:37.579725",
     "exception": false,
     "start_time": "2021-04-17T05:09:37.545621",
     "status": "completed"
    },
    "tags": []
   },
   "source": [
    "***"
   ]
  },
  {
   "cell_type": "code",
   "execution_count": null,
   "metadata": {
    "execution": {
     "iopub.execute_input": "2021-04-17T05:09:37.656663Z",
     "iopub.status.busy": "2021-04-17T05:09:37.655978Z",
     "iopub.status.idle": "2021-04-17T05:09:37.675014Z",
     "shell.execute_reply": "2021-04-17T05:09:37.674193Z"
    },
    "papermill": {
     "duration": 0.062345,
     "end_time": "2021-04-17T05:09:37.675217",
     "exception": false,
     "start_time": "2021-04-17T05:09:37.612872",
     "status": "completed"
    },
    "scrolled": true,
    "tags": []
   },
   "outputs": [],
   "source": [
    "# target used for correlation \n",
    "target = 'SalePrice_Log'\n",
    "x_train['SalePrice_Log'] = np.log1p(x_train['SalePrice'])\n",
    "    \n",
    "# only columns with correlation above this threshold value  \n",
    "# are used for the ML Regressors in Part 3\n",
    "min_val_corr = 0.6    \n",
    "\n",
    "# switch for dropping columns that are similar to others already used and show a high correlation to these     \n",
    "drop_similar = 1"
   ]
  },
  {
   "cell_type": "code",
   "execution_count": null,
   "metadata": {},
   "outputs": [],
   "source": [
    "sns.distplot(x_train['SalePrice_Log']);\n",
    "# skewness and kurtosis\n",
    "print(\"Skewness: %f\" % x_train['SalePrice_Log'].skew())\n",
    "print(\"Kurtosis: %f\" % x_train['SalePrice_Log'].kurt())"
   ]
  },
  {
   "cell_type": "code",
   "execution_count": null,
   "metadata": {},
   "outputs": [],
   "source": [
    "for col in numerical_feats:\n",
    "    print(col)\n",
    "    print(\"Skewness: %f\" % x_train[col].skew())\n",
    "    print(\"Kurtosis: %f\" % x_train[col].kurt())\n",
    "    print(\"*\"*50)"
   ]
  },
  {
   "cell_type": "code",
   "execution_count": null,
   "metadata": {},
   "outputs": [],
   "source": [
    "sns.distplot(x_train['GrLivArea']);\n",
    "#skewness and kurtosis\n",
    "print(\"Skewness: %f\" % x_train['GrLivArea'].skew())\n",
    "print(\"Kurtosis: %f\" % x_train['GrLivArea'].kurt())"
   ]
  },
  {
   "cell_type": "code",
   "execution_count": null,
   "metadata": {},
   "outputs": [],
   "source": [
    "sns.distplot(x_train['LotArea']);\n",
    "#skewness and kurtosis\n",
    "print(\"Skewness: %f\" % x_train['LotArea'].skew())\n",
    "print(\"Kurtosis: %f\" % x_train['LotArea'].kurt())"
   ]
  },
  {
   "cell_type": "code",
   "execution_count": null,
   "metadata": {},
   "outputs": [],
   "source": [
    "for df in [x_train, x_test]:\n",
    "    df['GrLivArea_Log'] = np.log(df['GrLivArea'])\n",
    "    df.drop('GrLivArea', inplace= True, axis = 1)\n",
    "    df['LotArea_Log'] = np.log(df['LotArea'])\n",
    "    df.drop('LotArea', inplace= True, axis = 1)\n",
    "    \n",
    "    \n",
    "    \n",
    "numerical_feats = x_train.dtypes[x_train.dtypes != \"object\"].index"
   ]
  },
  {
   "cell_type": "code",
   "execution_count": null,
   "metadata": {},
   "outputs": [],
   "source": [
    "sns.distplot(x_train['GrLivArea_Log']);\n",
    "#skewness and kurtosis\n",
    "print(\"Skewness: %f\" % x_train['GrLivArea_Log'].skew())\n",
    "print(\"Kurtosis: %f\" % x_train['GrLivArea_Log'].kurt())"
   ]
  },
  {
   "cell_type": "code",
   "execution_count": null,
   "metadata": {},
   "outputs": [],
   "source": [
    "sns.distplot(x_train['LotArea_Log']);\n",
    "#skewness and kurtosis\n",
    "print(\"Skewness: %f\" % x_train['LotArea_Log'].skew())\n",
    "print(\"Kurtosis: %f\" % x_train['LotArea_Log'].kurt())"
   ]
  },
  {
   "cell_type": "code",
   "execution_count": null,
   "metadata": {
    "execution": {
     "iopub.execute_input": "2021-04-17T05:09:37.756846Z",
     "iopub.status.busy": "2021-04-17T05:09:37.752032Z",
     "iopub.status.idle": "2021-04-17T05:09:37.766817Z",
     "shell.execute_reply": "2021-04-17T05:09:37.766230Z"
    },
    "papermill": {
     "duration": 0.057671,
     "end_time": "2021-04-17T05:09:37.766957",
     "exception": false,
     "start_time": "2021-04-17T05:09:37.709286",
     "status": "completed"
    },
    "tags": []
   },
   "outputs": [],
   "source": [
    "corr = x_train.corr()\n",
    "corr_abs = corr.abs()\n",
    "\n",
    "nr_num_cols = len(numerical_feats)\n",
    "ser_corr = corr_abs.nlargest(nr_num_cols, target)[target]\n",
    "\n",
    "cols_abv_corr_limit = list(ser_corr[ser_corr.values > min_val_corr].index)\n",
    "cols_bel_corr_limit = list(ser_corr[ser_corr.values <= min_val_corr].index)"
   ]
  },
  {
   "cell_type": "code",
   "execution_count": null,
   "metadata": {},
   "outputs": [],
   "source": [
    "print(ser_corr)\n",
    "print(\"*\"*30)\n",
    "print(\"List of numerical features with r above min_val_corr :\")\n",
    "print(cols_abv_corr_limit)"
   ]
  },
  {
   "cell_type": "code",
   "execution_count": null,
   "metadata": {
    "execution": {
     "iopub.execute_input": "2021-04-17T05:09:37.845506Z",
     "iopub.status.busy": "2021-04-17T05:09:37.844458Z",
     "iopub.status.idle": "2021-04-17T05:09:38.023747Z",
     "shell.execute_reply": "2021-04-17T05:09:38.023065Z"
    },
    "papermill": {
     "duration": 0.222959,
     "end_time": "2021-04-17T05:09:38.023902",
     "exception": false,
     "start_time": "2021-04-17T05:09:37.800943",
     "status": "completed"
    },
    "tags": []
   },
   "outputs": [],
   "source": [
    "#full training set basic statistics\n",
    "x_train.describe()"
   ]
  },
  {
   "cell_type": "code",
   "execution_count": null,
   "metadata": {},
   "outputs": [],
   "source": [
    "x_test.describe()"
   ]
  },
  {
   "cell_type": "code",
   "execution_count": null,
   "metadata": {},
   "outputs": [],
   "source": [
    "catg_strong_corr = [ 'MSZoning', 'Neighborhood', 'Condition2', 'MasVnrType', 'ExterQual', \n",
    "                     'BsmtQual','CentralAir', 'Electrical', 'KitchenQual', 'SaleType']\n",
    "\n",
    "catg_weak_corr = ['Street', 'Alley', 'LotShape', 'LandContour', 'Utilities', 'LotConfig', \n",
    "                  'LandSlope', 'Condition1',  'BldgType', 'HouseStyle', 'RoofStyle', \n",
    "                  'RoofMatl', 'Exterior1st', 'Exterior2nd', 'ExterCond', 'Foundation', \n",
    "                  'BsmtCond', 'BsmtExposure', 'BsmtFinType1', 'BsmtFinType2', 'Heating', \n",
    "                  'HeatingQC', 'Functional', 'FireplaceQu', 'GarageType', 'GarageFinish', \n",
    "                  'GarageQual', 'GarageCond', 'PavedDrive', 'PoolQC', 'Fence', 'MiscFeature', \n",
    "                  'SaleCondition' ]\n",
    "      "
   ]
  },
  {
   "cell_type": "code",
   "execution_count": null,
   "metadata": {},
   "outputs": [],
   "source": [
    "to_drop_num  = cols_bel_corr_limit\n",
    "to_drop_catg = catg_weak_corr\n",
    "\n",
    "cols_to_drop = ['Id'] + to_drop_num + to_drop_catg \n",
    "\n",
    "# cols_to_drop = to_drop_num + to_drop_catg \n",
    "\n",
    "for df in [x_train, x_test]:\n",
    "    df.drop(cols_to_drop, inplace= True, axis = 1)"
   ]
  },
  {
   "cell_type": "code",
   "execution_count": null,
   "metadata": {},
   "outputs": [],
   "source": [
    "catg_list = catg_strong_corr.copy()\n",
    "catg_list.remove('Neighborhood')"
   ]
  },
  {
   "cell_type": "code",
   "execution_count": null,
   "metadata": {},
   "outputs": [],
   "source": [
    "# 'MSZoning'\n",
    "msz_catg2 = ['RM', 'RH']\n",
    "msz_catg3 = ['RL', 'FV'] \n",
    "\n",
    "\n",
    "# Neighborhood\n",
    "nbhd_catg2 = ['Blmngtn', 'ClearCr', 'CollgCr', 'Crawfor', 'Gilbert', 'NWAmes', 'Somerst', 'Timber', 'Veenker']\n",
    "nbhd_catg3 = ['NoRidge', 'NridgHt', 'StoneBr']\n",
    "\n",
    "# Condition2\n",
    "cond2_catg2 = ['Norm', 'RRAe']\n",
    "cond2_catg3 = ['PosA', 'PosN'] \n",
    "\n",
    "# SaleType\n",
    "SlTy_catg1 = ['Oth']\n",
    "SlTy_catg3 = ['CWD']\n",
    "SlTy_catg4 = ['New', 'Con']"
   ]
  },
  {
   "cell_type": "code",
   "execution_count": null,
   "metadata": {},
   "outputs": [],
   "source": [
    "for df in [x_train, x_test]:\n",
    "    \n",
    "    df['MSZ_num'] = 1  \n",
    "    df.loc[(df['MSZoning'].isin(msz_catg2) ), 'MSZ_num'] = 2    \n",
    "    df.loc[(df['MSZoning'].isin(msz_catg3) ), 'MSZ_num'] = 3        \n",
    "    \n",
    "    df['NbHd_num'] = 1       \n",
    "    df.loc[(df['Neighborhood'].isin(nbhd_catg2) ), 'NbHd_num'] = 2    \n",
    "    df.loc[(df['Neighborhood'].isin(nbhd_catg3) ), 'NbHd_num'] = 3    \n",
    "\n",
    "    df['Cond2_num'] = 1       \n",
    "    df.loc[(df['Condition2'].isin(cond2_catg2) ), 'Cond2_num'] = 2    \n",
    "    df.loc[(df['Condition2'].isin(cond2_catg3) ), 'Cond2_num'] = 3    \n",
    "    \n",
    "    df['Mas_num'] = 1       \n",
    "    df.loc[(df['MasVnrType'] == 'Stone' ), 'Mas_num'] = 2 \n",
    "    \n",
    "    df['ExtQ_num'] = 1       \n",
    "    df.loc[(df['ExterQual'] == 'TA' ), 'ExtQ_num'] = 2     \n",
    "    df.loc[(df['ExterQual'] == 'Gd' ), 'ExtQ_num'] = 3     \n",
    "    df.loc[(df['ExterQual'] == 'Ex' ), 'ExtQ_num'] = 4     \n",
    "   \n",
    "    df['BsQ_num'] = 1          \n",
    "    df.loc[(df['BsmtQual'] == 'Gd' ), 'BsQ_num'] = 2     \n",
    "    df.loc[(df['BsmtQual'] == 'Ex' ), 'BsQ_num'] = 3     \n",
    " \n",
    "    df['CA_num'] = 0          \n",
    "    df.loc[(df['CentralAir'] == 'Y' ), 'CA_num'] = 1    \n",
    "\n",
    "    df['Elc_num'] = 1       \n",
    "    df.loc[(df['Electrical'] == 'SBrkr' ), 'Elc_num'] = 2 \n",
    "\n",
    "\n",
    "    df['KiQ_num'] = 1       \n",
    "    df.loc[(df['KitchenQual'] == 'TA' ), 'KiQ_num'] = 2     \n",
    "    df.loc[(df['KitchenQual'] == 'Gd' ), 'KiQ_num'] = 3     \n",
    "    df.loc[(df['KitchenQual'] == 'Ex' ), 'KiQ_num'] = 4      \n",
    "    \n",
    "    df['SlTy_num'] = 2       \n",
    "    df.loc[(df['SaleType'].isin(SlTy_catg1) ), 'SlTy_num'] = 1  \n",
    "    df.loc[(df['SaleType'].isin(SlTy_catg3) ), 'SlTy_num'] = 3  \n",
    "    df.loc[(df['SaleType'].isin(SlTy_catg4) ), 'SlTy_num'] = 4  "
   ]
  },
  {
   "cell_type": "code",
   "execution_count": null,
   "metadata": {},
   "outputs": [],
   "source": [
    "catg_cols_to_drop = ['MSZoning', 'Neighborhood' , 'Condition2', 'MasVnrType', 'ExterQual', 'BsmtQual','CentralAir', 'Electrical', 'KitchenQual', 'SaleType']\n",
    "\n",
    "corr1 = x_train.corr()\n",
    "corr_abs_1 = corr1.abs()\n",
    "\n",
    "nr_all_cols = len(x_train)\n",
    "ser_corr_1 = corr_abs_1.nlargest(nr_all_cols, target)[target]\n",
    "\n",
    "print(ser_corr_1)\n",
    "cols_bel_corr_limit_1 = list(ser_corr_1[ser_corr_1.values <= min_val_corr].index)\n",
    "\n",
    "catg_cols_to_drop\n",
    "for df in [x_train, x_test] :\n",
    "    df.drop(catg_cols_to_drop, inplace= True, axis = 1)\n",
    "    df.drop(cols_bel_corr_limit_1, inplace= True, axis = 1)    "
   ]
  },
  {
   "cell_type": "code",
   "execution_count": null,
   "metadata": {},
   "outputs": [],
   "source": [
    "corr2 = x_train.corr()\n",
    "corr_abs_2 = corr2.abs()\n",
    "\n",
    "nr_all_cols = len(x_train)\n",
    "ser_corr_2 = corr_abs_2.nlargest(nr_all_cols, target)[target]\n",
    "\n",
    "print(ser_corr_2)"
   ]
  },
  {
   "cell_type": "code",
   "execution_count": null,
   "metadata": {},
   "outputs": [],
   "source": [
    "x_train.head()"
   ]
  },
  {
   "cell_type": "code",
   "execution_count": null,
   "metadata": {},
   "outputs": [],
   "source": [
    "x_test.head()"
   ]
  },
  {
   "cell_type": "code",
   "execution_count": null,
   "metadata": {},
   "outputs": [],
   "source": [
    "def plot_corr_matrix(df, nr_c, targ) :\n",
    "    \n",
    "    corr = df.corr()\n",
    "    corr_abs = corr.abs()\n",
    "    cols = corr_abs.nlargest(nr_c, targ)[targ].index\n",
    "    cm = np.corrcoef(df[cols].values.T)\n",
    "\n",
    "    plt.figure(figsize=(nr_c/1.5, nr_c/1.5))\n",
    "    sns.set(font_scale=1.25)\n",
    "    sns.heatmap(cm, linewidths=1.5, annot=True, square=True, \n",
    "                fmt='.2f', annot_kws={'size': 10}, \n",
    "                yticklabels=cols.values, xticklabels=cols.values\n",
    "               )\n",
    "    plt.show()"
   ]
  },
  {
   "cell_type": "code",
   "execution_count": null,
   "metadata": {},
   "outputs": [],
   "source": [
    "nr_feats=len(x_train.columns)\n",
    "plot_corr_matrix(x_train, nr_feats, target)"
   ]
  },
  {
   "cell_type": "code",
   "execution_count": null,
   "metadata": {},
   "outputs": [],
   "source": [
    "cols = corr_abs.nlargest(nr_all_cols, target)[target].index\n",
    "cols = list(cols)\n",
    "\n",
    "if drop_similar == 1 :\n",
    "    for col in ['GarageArea','1stFlrSF','TotRmsAbvGrd','GarageYrBlt'] :\n",
    "        if col in cols: \n",
    "            cols.remove(col)"
   ]
  },
  {
   "cell_type": "code",
   "execution_count": null,
   "metadata": {},
   "outputs": [],
   "source": [
    "cols = list(cols)\n",
    "print(cols)"
   ]
  },
  {
   "cell_type": "code",
   "execution_count": null,
   "metadata": {},
   "outputs": [],
   "source": [
    "feats = cols.copy()\n",
    "feats.remove('SalePrice_Log')\n",
    "feats.remove('SalePrice')\n",
    "\n",
    "print(feats)"
   ]
  },
  {
   "cell_type": "code",
   "execution_count": null,
   "metadata": {},
   "outputs": [],
   "source": [
    "print(x_train.columns)"
   ]
  },
  {
   "cell_type": "code",
   "execution_count": null,
   "metadata": {},
   "outputs": [],
   "source": [
    "df_train_ml = x_train.copy()\n",
    "df_test_ml  = x_test.copy()\n",
    "\n",
    "for df in [df_train_ml]:\n",
    "    for column in feats:\n",
    "        if column in df:\n",
    "            df.drop(column, inplace= True, axis = 1)\n",
    "            \n",
    "for df in [df_test_ml]:\n",
    "    for column in feats:\n",
    "        if column in df:\n",
    "            df.drop(column, inplace= True, axis = 1)\n",
    "\n",
    "y_train = x_train[target]"
   ]
  },
  {
   "cell_type": "code",
   "execution_count": null,
   "metadata": {},
   "outputs": [],
   "source": [
    "df_train_ml.head()"
   ]
  },
  {
   "cell_type": "code",
   "execution_count": null,
   "metadata": {},
   "outputs": [],
   "source": [
    "df_all = pd.concat([df_train_ml, df_test_ml])\n",
    "\n",
    "len_train = df_train_ml.shape[0]\n",
    "\n",
    "x_train = df_all[:len_train]\n",
    "x_test = df_all[len_train:]"
   ]
  },
  {
   "cell_type": "code",
   "execution_count": null,
   "metadata": {},
   "outputs": [],
   "source": [
    "numerical_feats = x_train.dtypes[x_train.dtypes != \"object\"].index\n",
    "print(\"Number of Numerical features: \", len(numerical_feats))\n",
    "\n",
    "categorical_feats = x_train.dtypes[x_train.dtypes == \"object\"].index\n",
    "print(\"Number of Categorical features: \", len(categorical_feats))"
   ]
  },
  {
   "cell_type": "code",
   "execution_count": null,
   "metadata": {
    "execution": {
     "iopub.execute_input": "2021-04-17T05:09:39.989007Z",
     "iopub.status.busy": "2021-04-17T05:09:39.988382Z",
     "iopub.status.idle": "2021-04-17T05:09:40.022329Z",
     "shell.execute_reply": "2021-04-17T05:09:40.023243Z"
    },
    "papermill": {
     "duration": 0.078655,
     "end_time": "2021-04-17T05:09:40.023553",
     "exception": false,
     "start_time": "2021-04-17T05:09:39.944898",
     "status": "completed"
    },
    "tags": []
   },
   "outputs": [],
   "source": [
    "from sklearn.linear_model import LinearRegression\n",
    "\n",
    "lr = LinearRegression()\n",
    "lr.fit(x_train, y_train)\n",
    "pred = lr.predict(x_test)\n",
    "pred_train = lr.predict(x_train)\n",
    "r2 = r2_score(y_train,pred_train)\n",
    "rmse = np.sqrt(mean_squared_error(y_train,pred_train))"
   ]
  },
  {
   "cell_type": "code",
   "execution_count": null,
   "metadata": {
    "execution": {
     "iopub.execute_input": "2021-04-17T05:09:40.156162Z",
     "iopub.status.busy": "2021-04-17T05:09:40.155318Z",
     "iopub.status.idle": "2021-04-17T05:09:40.158575Z",
     "shell.execute_reply": "2021-04-17T05:09:40.157884Z"
    },
    "papermill": {
     "duration": 0.058821,
     "end_time": "2021-04-17T05:09:40.158743",
     "exception": false,
     "start_time": "2021-04-17T05:09:40.099922",
     "status": "completed"
    },
    "tags": []
   },
   "outputs": [],
   "source": [
    "from sklearn.metrics import r2_score\n",
    "from sklearn.metrics import mean_absolute_error"
   ]
  },
  {
   "cell_type": "code",
   "execution_count": null,
   "metadata": {
    "execution": {
     "iopub.execute_input": "2021-04-17T05:09:40.245622Z",
     "iopub.status.busy": "2021-04-17T05:09:40.244358Z",
     "iopub.status.idle": "2021-04-17T05:09:40.250657Z",
     "shell.execute_reply": "2021-04-17T05:09:40.250051Z"
    },
    "papermill": {
     "duration": 0.052096,
     "end_time": "2021-04-17T05:09:40.250806",
     "exception": false,
     "start_time": "2021-04-17T05:09:40.198710",
     "status": "completed"
    },
    "tags": []
   },
   "outputs": [],
   "source": [
    "print( 'R^2:', r2_score(y_train, pred_train ))\n",
    "print( 'MAE:', mean_absolute_error(y_train, pred_train))"
   ]
  },
  {
   "cell_type": "code",
   "execution_count": null,
   "metadata": {
    "execution": {
     "iopub.execute_input": "2021-04-17T05:09:40.335815Z",
     "iopub.status.busy": "2021-04-17T05:09:40.334848Z",
     "iopub.status.idle": "2021-04-17T05:09:40.372501Z",
     "shell.execute_reply": "2021-04-17T05:09:40.371509Z"
    },
    "papermill": {
     "duration": 0.081188,
     "end_time": "2021-04-17T05:09:40.372672",
     "exception": false,
     "start_time": "2021-04-17T05:09:40.291484",
     "status": "completed"
    },
    "tags": []
   },
   "outputs": [],
   "source": [
    "from sklearn.ensemble import RandomForestRegressor"
   ]
  },
  {
   "cell_type": "code",
   "execution_count": null,
   "metadata": {
    "execution": {
     "iopub.execute_input": "2021-04-17T05:09:40.458504Z",
     "iopub.status.busy": "2021-04-17T05:09:40.457867Z",
     "iopub.status.idle": "2021-04-17T05:09:40.460277Z",
     "shell.execute_reply": "2021-04-17T05:09:40.460813Z"
    },
    "papermill": {
     "duration": 0.047201,
     "end_time": "2021-04-17T05:09:40.460982",
     "exception": false,
     "start_time": "2021-04-17T05:09:40.413781",
     "status": "completed"
    },
    "tags": []
   },
   "outputs": [],
   "source": [
    "rf = RandomForestRegressor() #default features\n",
    "rf_fit = rf.fit(x_train, y_train)\n",
    "pred = rf_fit.predict(x_test)\n",
    "pred_train = rf.predict(x_train)\n",
    "r2 = r2_score(y_train,pred_train)\n",
    "rmse = np.sqrt(mean_squared_error(y_train,pred_train))\n",
    "print( 'R^2:', r2_score(y_train, pred_train ))\n",
    "print( 'MAE:', mean_absolute_error(y_train, pred_train))"
   ]
  },
  {
   "cell_type": "code",
   "execution_count": null,
   "metadata": {
    "execution": {
     "iopub.execute_input": "2021-04-17T05:09:40.544868Z",
     "iopub.status.busy": "2021-04-17T05:09:40.544232Z",
     "iopub.status.idle": "2021-04-17T05:09:40.562810Z",
     "shell.execute_reply": "2021-04-17T05:09:40.560960Z"
    },
    "papermill": {
     "duration": 0.061706,
     "end_time": "2021-04-17T05:09:40.562981",
     "exception": false,
     "start_time": "2021-04-17T05:09:40.501275",
     "status": "completed"
    },
    "tags": []
   },
   "outputs": [],
   "source": [
    "id_test = test_df['Id']\n",
    "\n",
    "pred_pd = pd.DataFrame()\n",
    "pred_pd['Id'] = id_test\n",
    "pred_pd['SalePrice'] = pred\n",
    "\n",
    "pred_pd.head\n",
    "pred_pd.to_csv('submission_StochasticResults_RF.csv',index=False)"
   ]
  },
  {
   "cell_type": "markdown",
   "metadata": {
    "papermill": {
     "duration": 0.041467,
     "end_time": "2021-04-17T05:09:40.645681",
     "exception": false,
     "start_time": "2021-04-17T05:09:40.604214",
     "status": "completed"
    },
    "tags": []
   },
   "source": [
    "***"
   ]
  },
  {
   "cell_type": "markdown",
   "metadata": {
    "papermill": {
     "duration": 0.040855,
     "end_time": "2021-04-17T05:09:40.726941",
     "exception": false,
     "start_time": "2021-04-17T05:09:40.686086",
     "status": "completed"
    },
    "tags": []
   },
   "source": [
    "***"
   ]
  },
  {
   "cell_type": "markdown",
   "metadata": {
    "papermill": {
     "duration": 0.040282,
     "end_time": "2021-04-17T05:09:40.807773",
     "exception": false,
     "start_time": "2021-04-17T05:09:40.767491",
     "status": "completed"
    },
    "tags": []
   },
   "source": [
    "# End of Notebook"
   ]
  }
 ],
 "metadata": {
  "kernelspec": {
   "display_name": "ml_project",
   "language": "python",
   "name": "ml_project"
  },
  "language_info": {
   "codemirror_mode": {
    "name": "ipython",
    "version": 3
   },
   "file_extension": ".py",
   "mimetype": "text/x-python",
   "name": "python",
   "nbconvert_exporter": "python",
   "pygments_lexer": "ipython3",
   "version": "3.8.5"
  },
  "papermill": {
   "default_parameters": {},
   "duration": 21.692087,
   "end_time": "2021-04-17T05:09:41.961191",
   "environment_variables": {},
   "exception": null,
   "input_path": "__notebook__.ipynb",
   "output_path": "__notebook__.ipynb",
   "parameters": {},
   "start_time": "2021-04-17T05:09:20.269104",
   "version": "2.2.2"
  }
 },
 "nbformat": 4,
 "nbformat_minor": 4
}
