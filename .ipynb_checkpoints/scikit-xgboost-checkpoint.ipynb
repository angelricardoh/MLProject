{
 "cells": [
  {
   "cell_type": "markdown",
   "metadata": {
    "papermill": {
     "duration": 0.030439,
     "end_time": "2021-04-19T20:30:32.656951",
     "exception": false,
     "start_time": "2021-04-19T20:30:32.626512",
     "status": "completed"
    },
    "tags": []
   },
   "source": [
    "<h1> CSCI 567 - Machine Learning - Spring 2021 </h1>\n",
    "<h2> Project: Chekcpoint 1 - Data Preprocessing (03/10/21) </h2>\n",
    "<h3> Team <u>StochasticResults</u>: </h3>\n",
    " - Abel Salinas [8793999216] [abelsali@usc.edu] <br>\n",
    " - Angel Nieto [2211798052] [nietogar@usc.edu] <br>\n",
    " - Misael Morales [5832732058] [misaelmo@usc.edu]"
   ]
  },
  {
   "cell_type": "markdown",
   "metadata": {
    "papermill": {
     "duration": 0.027847,
     "end_time": "2021-04-19T20:30:32.712384",
     "exception": false,
     "start_time": "2021-04-19T20:30:32.684537",
     "status": "completed"
    },
    "tags": []
   },
   "source": [
    "***"
   ]
  },
  {
   "cell_type": "markdown",
   "metadata": {
    "papermill": {
     "duration": 0.028635,
     "end_time": "2021-04-19T20:30:32.770179",
     "exception": false,
     "start_time": "2021-04-19T20:30:32.741544",
     "status": "completed"
    },
    "tags": []
   },
   "source": [
    "The \"Housing Price\" dataset consists of 79 predictors for the house prices in Ames, Iowa. The training and testing set are already pre-split for us from the Kaggle version (https://www.kaggle.com/c/house-prices-advanced-regression-techniques/overview), and we will focus on different regression techniques to predict the housing SalePrice based on the given features.\n",
    "\n",
    "This notebook focuses on the data pre-processing, wrangling, visualization, and statistical analysis. It is a crucial step in any machine-learning/data-analytics application to ensure proper data formatting in order to optimize the techniques implemented. "
   ]
  },
  {
   "cell_type": "markdown",
   "metadata": {
    "papermill": {
     "duration": 0.027668,
     "end_time": "2021-04-19T20:30:32.826590",
     "exception": false,
     "start_time": "2021-04-19T20:30:32.798922",
     "status": "completed"
    },
    "tags": []
   },
   "source": [
    "# Table of Contents:\n",
    "1. Load required packages <br>\n",
    "2. Data wrangling <br>\n",
    "3. Data visualization <br>\n",
    "4. Exploratory data analysis"
   ]
  },
  {
   "cell_type": "markdown",
   "metadata": {
    "papermill": {
     "duration": 0.027088,
     "end_time": "2021-04-19T20:30:32.881451",
     "exception": false,
     "start_time": "2021-04-19T20:30:32.854363",
     "status": "completed"
    },
    "tags": []
   },
   "source": [
    "***"
   ]
  },
  {
   "cell_type": "markdown",
   "metadata": {
    "papermill": {
     "duration": 0.02978,
     "end_time": "2021-04-19T20:30:32.939430",
     "exception": false,
     "start_time": "2021-04-19T20:30:32.909650",
     "status": "completed"
    },
    "tags": []
   },
   "source": [
    "# 1. Load required libraries"
   ]
  },
  {
   "cell_type": "code",
   "execution_count": 5,
   "metadata": {
    "execution": {
     "iopub.execute_input": "2021-04-19T20:30:33.000377Z",
     "iopub.status.busy": "2021-04-19T20:30:32.999606Z",
     "iopub.status.idle": "2021-04-19T20:30:33.009436Z",
     "shell.execute_reply": "2021-04-19T20:30:33.010043Z"
    },
    "papermill": {
     "duration": 0.042987,
     "end_time": "2021-04-19T20:30:33.010379",
     "exception": false,
     "start_time": "2021-04-19T20:30:32.967392",
     "status": "completed"
    },
    "tags": []
   },
   "outputs": [],
   "source": [
    "# This Python 3 environment comes with many helpful analytics libraries installed\n",
    "# It is defined by the kaggle/python Docker image: https://github.com/kaggle/docker-python\n",
    "# For example, here's several helpful packages to load\n",
    "\n",
    "import numpy as np # linear algebra\n",
    "import pandas as pd # data processing, CSV file I/O (e.g. pd.read_csv)\n",
    "\n",
    "# Input data files are available in the read-only \"../input/\" directory\n",
    "# For example, running this (by clicking run or pressing Shift+Enter) will list all files under the input directory\n",
    "\n",
    "import os\n",
    "for dirname, _, filenames in os.walk('/kaggle/input'):\n",
    "    for filename in filenames:\n",
    "        print(os.path.join(dirname, filename))\n",
    "\n",
    "# You can write up to 20GB to the current directory (/kaggle/working/) that gets preserved as output when you create a version using \"Save & Run All\" \n",
    "# You can also write temporary files to /kaggle/temp/, but they won't be saved outside of the current session"
   ]
  },
  {
   "cell_type": "code",
   "execution_count": 6,
   "metadata": {
    "execution": {
     "iopub.execute_input": "2021-04-19T20:30:33.073410Z",
     "iopub.status.busy": "2021-04-19T20:30:33.072667Z",
     "iopub.status.idle": "2021-04-19T20:30:34.046430Z",
     "shell.execute_reply": "2021-04-19T20:30:34.045692Z"
    },
    "papermill": {
     "duration": 1.005283,
     "end_time": "2021-04-19T20:30:34.046580",
     "exception": false,
     "start_time": "2021-04-19T20:30:33.041297",
     "status": "completed"
    },
    "tags": []
   },
   "outputs": [],
   "source": [
    "# Basic data management packages\n",
    "import os\n",
    "import numpy as np\n",
    "import pandas as pd\n",
    "\n",
    "# Visualization packages\n",
    "import matplotlib.pyplot as plt\n",
    "import seaborn as sns\n",
    "import pandas.plotting as pd_plot\n",
    "%matplotlib inline"
   ]
  },
  {
   "cell_type": "code",
   "execution_count": 7,
   "metadata": {
    "execution": {
     "iopub.execute_input": "2021-04-19T20:30:34.111257Z",
     "iopub.status.busy": "2021-04-19T20:30:34.110419Z",
     "iopub.status.idle": "2021-04-19T20:30:34.850576Z",
     "shell.execute_reply": "2021-04-19T20:30:34.849729Z"
    },
    "papermill": {
     "duration": 0.774056,
     "end_time": "2021-04-19T20:30:34.850750",
     "exception": false,
     "start_time": "2021-04-19T20:30:34.076694",
     "status": "completed"
    },
    "tags": []
   },
   "outputs": [],
   "source": [
    "# Exploratory Data Analysis packages\n",
    "from sklearn.preprocessing import StandardScaler\n",
    "from sklearn.decomposition import PCA  \n",
    "from sklearn.manifold import TSNE\n",
    "from sklearn.cluster import KMeans, AgglomerativeClustering\n",
    "from sklearn.mixture import GaussianMixture\n",
    "from sklearn.neighbors import LocalOutlierFactor"
   ]
  },
  {
   "cell_type": "code",
   "execution_count": 8,
   "metadata": {
    "execution": {
     "iopub.execute_input": "2021-04-19T20:30:34.911360Z",
     "iopub.status.busy": "2021-04-19T20:30:34.910625Z",
     "iopub.status.idle": "2021-04-19T20:30:41.476071Z",
     "shell.execute_reply": "2021-04-19T20:30:41.476660Z"
    },
    "papermill": {
     "duration": 6.597531,
     "end_time": "2021-04-19T20:30:41.476879",
     "exception": false,
     "start_time": "2021-04-19T20:30:34.879348",
     "status": "completed"
    },
    "tags": []
   },
   "outputs": [
    {
     "ename": "ModuleNotFoundError",
     "evalue": "No module named 'tensorflow'",
     "output_type": "error",
     "traceback": [
      "\u001b[0;31m---------------------------------------------------------------------------\u001b[0m",
      "\u001b[0;31mModuleNotFoundError\u001b[0m                       Traceback (most recent call last)",
      "\u001b[0;32m<ipython-input-8-82e8ae8fa1b3>\u001b[0m in \u001b[0;36m<module>\u001b[0;34m\u001b[0m\n\u001b[1;32m      1\u001b[0m \u001b[0;31m# Regression and Modeling packages\u001b[0m\u001b[0;34m\u001b[0m\u001b[0;34m\u001b[0m\u001b[0;34m\u001b[0m\u001b[0m\n\u001b[0;32m----> 2\u001b[0;31m \u001b[0;32mimport\u001b[0m \u001b[0mtensorflow\u001b[0m \u001b[0;32mas\u001b[0m \u001b[0mtf\u001b[0m\u001b[0;34m\u001b[0m\u001b[0;34m\u001b[0m\u001b[0m\n\u001b[0m\u001b[1;32m      3\u001b[0m \u001b[0;32mimport\u001b[0m \u001b[0mkeras\u001b[0m\u001b[0;34m\u001b[0m\u001b[0;34m\u001b[0m\u001b[0m\n\u001b[1;32m      4\u001b[0m \u001b[0;32mfrom\u001b[0m \u001b[0mscipy\u001b[0m \u001b[0;32mimport\u001b[0m \u001b[0mstats\u001b[0m\u001b[0;34m\u001b[0m\u001b[0;34m\u001b[0m\u001b[0m\n\u001b[1;32m      5\u001b[0m \u001b[0;32mfrom\u001b[0m \u001b[0msklearn\u001b[0m\u001b[0;34m.\u001b[0m\u001b[0mmetrics\u001b[0m \u001b[0;32mimport\u001b[0m \u001b[0mmean_squared_error\u001b[0m\u001b[0;34m,\u001b[0m \u001b[0mr2_score\u001b[0m\u001b[0;34m\u001b[0m\u001b[0;34m\u001b[0m\u001b[0m\n",
      "\u001b[0;31mModuleNotFoundError\u001b[0m: No module named 'tensorflow'"
     ]
    }
   ],
   "source": [
    "# Regression and Modeling packages\n",
    "import tensorflow as tf\n",
    "import keras\n",
    "from scipy import stats\n",
    "from sklearn.metrics import mean_squared_error, r2_score\n",
    "\n",
    "# Verify GPU compatibility\n",
    "print(\"Tensorflow Version:\", tf.__version__)\n",
    "print(\"Tensorflow built with CUDA?\", tf.test.is_built_with_cuda())\n",
    "print(tf.config.list_physical_devices('CPU'))\n",
    "print(tf.config.list_physical_devices('GPU'))\n",
    "print(\"Num GPU Available:\", len(tf.config.list_physical_devices('GPU')))"
   ]
  },
  {
   "cell_type": "code",
   "execution_count": null,
   "metadata": {
    "execution": {
     "iopub.execute_input": "2021-04-19T20:30:41.540324Z",
     "iopub.status.busy": "2021-04-19T20:30:41.539599Z",
     "iopub.status.idle": "2021-04-19T20:30:41.543265Z",
     "shell.execute_reply": "2021-04-19T20:30:41.542721Z"
    },
    "papermill": {
     "duration": 0.037494,
     "end_time": "2021-04-19T20:30:41.543499",
     "exception": false,
     "start_time": "2021-04-19T20:30:41.506005",
     "status": "completed"
    },
    "tags": []
   },
   "outputs": [],
   "source": [
    "# Preprocessing choice\n",
    "# preprocessing_method = 'HousePreprocessor'\n",
    "preprocessing_method = 'Mappings'"
   ]
  },
  {
   "cell_type": "markdown",
   "metadata": {
    "papermill": {
     "duration": 0.028164,
     "end_time": "2021-04-19T20:30:41.600160",
     "exception": false,
     "start_time": "2021-04-19T20:30:41.571996",
     "status": "completed"
    },
    "tags": []
   },
   "source": [
    "***"
   ]
  },
  {
   "cell_type": "code",
   "execution_count": null,
   "metadata": {
    "execution": {
     "iopub.execute_input": "2021-04-19T20:30:41.662290Z",
     "iopub.status.busy": "2021-04-19T20:30:41.661610Z",
     "iopub.status.idle": "2021-04-19T20:30:41.752426Z",
     "shell.execute_reply": "2021-04-19T20:30:41.751607Z"
    },
    "papermill": {
     "duration": 0.123918,
     "end_time": "2021-04-19T20:30:41.752587",
     "exception": false,
     "start_time": "2021-04-19T20:30:41.628669",
     "status": "completed"
    },
    "tags": []
   },
   "outputs": [],
   "source": [
    "# Read CSV files for Train/Test datasets\n",
    "train_df = pd.read_csv('/kaggle/input/house-prices-advanced-regression-techniques/train.csv')\n",
    "test_df  = pd.read_csv('/kaggle/input/house-prices-advanced-regression-techniques/test.csv')"
   ]
  },
  {
   "cell_type": "code",
   "execution_count": null,
   "metadata": {
    "execution": {
     "iopub.execute_input": "2021-04-19T20:30:41.822755Z",
     "iopub.status.busy": "2021-04-19T20:30:41.822091Z",
     "iopub.status.idle": "2021-04-19T20:30:41.830374Z",
     "shell.execute_reply": "2021-04-19T20:30:41.831111Z"
    },
    "papermill": {
     "duration": 0.049817,
     "end_time": "2021-04-19T20:30:41.831289",
     "exception": false,
     "start_time": "2021-04-19T20:30:41.781472",
     "status": "completed"
    },
    "tags": []
   },
   "outputs": [],
   "source": [
    "print('Train Shape: {} | types: {} \\nTest Shape:  {} | types: {}'.format(train_df.shape, pd.unique(train_df.dtypes), \n",
    "                                                                       test_df.shape, pd.unique(test_df.dtypes)))\n",
    "print('Set difference train-vs-test: {}'.format(set(train_df.columns).difference(set(test_df.columns))))"
   ]
  },
  {
   "cell_type": "code",
   "execution_count": null,
   "metadata": {
    "execution": {
     "iopub.execute_input": "2021-04-19T20:30:41.892993Z",
     "iopub.status.busy": "2021-04-19T20:30:41.892246Z",
     "iopub.status.idle": "2021-04-19T20:30:41.902835Z",
     "shell.execute_reply": "2021-04-19T20:30:41.903574Z"
    },
    "papermill": {
     "duration": 0.043579,
     "end_time": "2021-04-19T20:30:41.903829",
     "exception": false,
     "start_time": "2021-04-19T20:30:41.860250",
     "status": "completed"
    },
    "tags": []
   },
   "outputs": [],
   "source": [
    "x_train = train_df.iloc[:,1:-1]  #79 train features\n",
    "y_train = train_df.iloc[:,-1]    #SalePrice training target\n",
    "x_test  = test_df.iloc[:,1:]     #79 test features\n",
    "print('x_train {} | y_train {} \\nx_test  {}'.format(x_train.shape, y_train.shape, x_test.shape))"
   ]
  },
  {
   "cell_type": "code",
   "execution_count": null,
   "metadata": {
    "execution": {
     "iopub.execute_input": "2021-04-19T20:30:41.969054Z",
     "iopub.status.busy": "2021-04-19T20:30:41.968202Z",
     "iopub.status.idle": "2021-04-19T20:30:42.010201Z",
     "shell.execute_reply": "2021-04-19T20:30:42.010696Z"
    },
    "papermill": {
     "duration": 0.076302,
     "end_time": "2021-04-19T20:30:42.010917",
     "exception": false,
     "start_time": "2021-04-19T20:30:41.934615",
     "status": "completed"
    },
    "tags": []
   },
   "outputs": [],
   "source": [
    "#preview the training data set\n",
    "x_train.head()"
   ]
  },
  {
   "cell_type": "code",
   "execution_count": null,
   "metadata": {
    "execution": {
     "iopub.execute_input": "2021-04-19T20:30:42.077462Z",
     "iopub.status.busy": "2021-04-19T20:30:42.076811Z",
     "iopub.status.idle": "2021-04-19T20:30:42.103564Z",
     "shell.execute_reply": "2021-04-19T20:30:42.104291Z"
    },
    "papermill": {
     "duration": 0.061315,
     "end_time": "2021-04-19T20:30:42.104490",
     "exception": false,
     "start_time": "2021-04-19T20:30:42.043175",
     "status": "completed"
    },
    "tags": []
   },
   "outputs": [],
   "source": [
    "#preview the testing data set\n",
    "x_test.head()"
   ]
  },
  {
   "cell_type": "code",
   "execution_count": null,
   "metadata": {
    "execution": {
     "iopub.execute_input": "2021-04-19T20:30:42.170775Z",
     "iopub.status.busy": "2021-04-19T20:30:42.170132Z",
     "iopub.status.idle": "2021-04-19T20:30:42.178187Z",
     "shell.execute_reply": "2021-04-19T20:30:42.178757Z"
    },
    "papermill": {
     "duration": 0.042812,
     "end_time": "2021-04-19T20:30:42.178972",
     "exception": false,
     "start_time": "2021-04-19T20:30:42.136160",
     "status": "completed"
    },
    "tags": []
   },
   "outputs": [],
   "source": [
    "numerical_feats = x_train.dtypes[x_train.dtypes != \"object\"].index\n",
    "print(\"Number of Numerical features: \", len(numerical_feats))\n",
    "\n",
    "categorical_feats = x_train.dtypes[x_train.dtypes == \"object\"].index\n",
    "print(\"Number of Categorical features: \", len(categorical_feats))"
   ]
  },
  {
   "cell_type": "code",
   "execution_count": null,
   "metadata": {
    "execution": {
     "iopub.execute_input": "2021-04-19T20:30:42.246408Z",
     "iopub.status.busy": "2021-04-19T20:30:42.245720Z",
     "iopub.status.idle": "2021-04-19T20:30:42.305739Z",
     "shell.execute_reply": "2021-04-19T20:30:42.305093Z"
    },
    "papermill": {
     "duration": 0.095634,
     "end_time": "2021-04-19T20:30:42.305916",
     "exception": false,
     "start_time": "2021-04-19T20:30:42.210282",
     "status": "completed"
    },
    "tags": []
   },
   "outputs": [],
   "source": [
    "total = x_train.isnull().sum().sort_values(ascending=False)\n",
    "percent = (x_train.isnull().sum()/x_train.isnull().count()).sort_values(ascending=False)\n",
    "missing_data = pd.concat([total, percent], axis=1, keys=['Total', 'Percent'])\n",
    "missing_data.head(10)"
   ]
  },
  {
   "cell_type": "code",
   "execution_count": null,
   "metadata": {
    "execution": {
     "iopub.execute_input": "2021-04-19T20:30:42.378214Z",
     "iopub.status.busy": "2021-04-19T20:30:42.377321Z",
     "iopub.status.idle": "2021-04-19T20:30:42.380816Z",
     "shell.execute_reply": "2021-04-19T20:30:42.381539Z"
    },
    "papermill": {
     "duration": 0.043047,
     "end_time": "2021-04-19T20:30:42.381761",
     "exception": false,
     "start_time": "2021-04-19T20:30:42.338714",
     "status": "completed"
    },
    "tags": []
   },
   "outputs": [],
   "source": [
    "# Non-numeric variables that require attention\n",
    "non_num_vars = x_train.dtypes[x_train.dtypes=='object'].index\n",
    "print(non_num_vars)"
   ]
  },
  {
   "cell_type": "code",
   "execution_count": null,
   "metadata": {
    "execution": {
     "iopub.execute_input": "2021-04-19T20:30:42.457748Z",
     "iopub.status.busy": "2021-04-19T20:30:42.456747Z",
     "iopub.status.idle": "2021-04-19T20:30:42.492115Z",
     "shell.execute_reply": "2021-04-19T20:30:42.492639Z"
    },
    "papermill": {
     "duration": 0.076938,
     "end_time": "2021-04-19T20:30:42.492897",
     "exception": false,
     "start_time": "2021-04-19T20:30:42.415959",
     "status": "completed"
    },
    "tags": []
   },
   "outputs": [],
   "source": [
    "# Replace object/string values with categorial values from the \"data_description\" file from Kaggle\n",
    "mappings = dict(\n",
    "MSZoning_mapping      = {'nan':0, 'A':1, 'C (all)':2, 'FV':3, 'I':4, 'RH':5, 'RL':6, 'RP':7, 'RM':8},\n",
    "Street_mapping        = {'nan':0, 'Grvl':1, 'Pave':2},\n",
    "Alley_mapping         = {'nan':0, 'Grvl':1, 'Pave':2, 'NaN':0},\n",
    "LotShape_mapping      = {'nan':0, 'Reg':1, 'IR1':2, 'IR2':3, 'IR3':4 },\n",
    "LandContour_mapping   = {'nan':0, 'Lvl':1, 'Bnk':2, 'HLS':3, 'Low':4},\n",
    "Utilities_mapping     = {'nan':0, 'AllPub':1, 'NoSewr':2, 'NoSeWa':3, 'ELO':4},\n",
    "LotConfig_mapping     = {'nan':0, 'Inside':1, 'Corner':2, 'CulDSac':3, 'FR2':4, 'FR3':5},\n",
    "LandSlope_mapping     = {'nan':0, 'Gtl':1, 'Mod':2, 'Sev':3},\n",
    "Neighborhood_mapping  = {'nan':0, 'Blmngtn':1, 'Blueste':2, 'BrDale':3, 'BrkSide':4, 'ClearCr':5, 'CollgCr':6, 'Crawfor':7,\n",
    "                         'Edwards':8, 'Gilbert':9, 'IDOTRR':10, 'MeadowV':11, 'Mitchel':12, 'NAmes':13, 'NoRidge':14, \n",
    "                         'NPkVill':15, 'NridgHt':16, 'NWAmes':17, 'OldTown':18, 'SWISU':19, 'Sawyer':20, 'SawyerW':21, \n",
    "                         'Somerst':22, 'StoneBr':23, 'Timber':24, 'Veenker':25},\n",
    "Condition1_mapping    = {'nan':0, 'Artery':1, 'Feedr':2, 'Norm':3, 'RRNn':4, 'RRAn':5, 'PosN':6, 'PosA':7, 'RRNe':8, 'RRAe':9},\n",
    "Condition2_mapping    = {'nan':0, 'Artery':1, 'Feedr':2, 'Norm':3, 'RRNn':4, 'RRAn':5, 'PosN':6, 'PosA':7, 'RRNe':8, 'RRAe':9},\n",
    "BldgType_mapping      = {'nan':0, '1Fam':1, '2fmCon':2, 'Duplex':3, 'Twnhs':4, 'TwnhsE':4, 'TwnhsI':5},\n",
    "HouseStyle_mapping    = {'nan':0, '1Story':1, '1.5Fin':2, '1.5Unf':3, '2Story':4, '2.5Fin':5, '2.5Unf':6, 'SFoyer':7, 'SLvl':8},\n",
    "RoofStyle_mapping     = {'nan':0, 'Flat':1, 'Gable':2, 'Gambrel':3, 'Hip':4, 'Mansard':5, 'Shed':6},\n",
    "RoofMatl_mapping      = {'nan':0, 'ClyTile':1, 'CompShg':2, 'Membran':3, 'Metal':4, \n",
    "                         'Roll':5, 'Tar&Grv':6, 'WdShake':7, 'WdShngl':8},\n",
    "Exterior1st_mapping   = {'nan':0, 'AsbShng':1, 'AsphShn':2, 'BrkComm':3, 'BrkFace':4, 'CBlock':5, 'CemntBd':6, \n",
    "                         'HdBoard':7, 'ImStucc':8, 'MetalSd':9, 'Other':10, 'Plywood':11, 'PreCast':12, 'Stone':13, \n",
    "                         'Stucco':14, 'VinylSd':15,'Wd Sdng':16, 'WdShing':17},\n",
    "Exterior2nd_mapping   = {'nan':0, 'AsbShng':1, 'AsphShn':2, 'Brk Cmn':3, 'BrkFace':4, 'CBlock':5, 'CmentBd':6, \n",
    "                         'HdBoard':7, 'ImStucc':8, 'MetalSd':9, 'Other':10, 'Plywood':11, 'PreCast':12, 'Stone':13, \n",
    "                         'Stucco':14, 'VinylSd':15, 'Wd Shng':16, 'Wd Sdng':16, 'WdShing':17},\n",
    "MasVnrType_mapping    = {'nan':0, 'BrkCmn':1, 'BrkFace':2, 'CBlock':3, 'None':4, 'Stone':5},\n",
    "ExterQual_mapping     = {'nan':0, 'Ex':1, 'Gd':2, 'TA':3, 'Fa':4, 'Po':5},\n",
    "ExterCond_mapping     = {'nan':0, 'Ex':1, 'Gd':2, 'TA':3, 'Fa':4, 'Po':5},\n",
    "Foundation_mapping    = {'nan':0, 'BrkTil':1, 'CBlock':2, 'PConc':3, 'Slab':4, 'Stone':5, 'Wood':6},\n",
    "BsmtQual_mapping      = {'nan':0, 'Ex':1, 'Gd':2, 'TA':3, 'Fa':4, 'Po':5, 'NA':0},\n",
    "BsmtCond_mapping      = {'nan':0, 'Ex':1, 'Gd':2, 'TA':3, 'Fa':4, 'Po':5, 'NA':0},\n",
    "BsmtExposure_mapping  = {'nan':0, 'Gd':1, 'Av':2, 'Mn':3, 'No':4, 'NA':5},\n",
    "BsmtFinType1_mapping  = {'nan':0, 'GLQ':1, 'ALQ':2, 'BLQ':3, 'Rec':4, 'LwQ':5, 'Unf':6, 'NA':0},\n",
    "BsmtFinType2_mapping  = {'nan':0, 'GLQ':1, 'ALQ':2, 'BLQ':3, 'Rec':4, 'LwQ':5, 'Unf':6, 'NA':0},\n",
    "Heating_mapping       = {'nan':0, 'Floor':1, 'GasA':2, 'GasW':3, 'Grav':4, 'OthW':5, 'Wall':6},\n",
    "HeatingQC_mapping     = {'nan':0, 'Ex':1, 'Gd':2, 'TA':3, 'Fa':4, 'Po':5},\n",
    "CentralAir_mapping    = {'nan':0, 'N':1, 'Y':2},\n",
    "Electrical_mapping    = {'nan':0, 'SBrkr':1, 'FuseA':2, 'FuseF':3, 'FuseP':4, 'Mix':5},\n",
    "KitchenQual_mapping   = {'nan':0, 'Ex':1, 'Gd':2, 'TA':3, 'Fa':4, 'Po':5},\n",
    "Functional_mapping    = {'nan':0, 'Typ':1, 'Min1':2, 'Min2':3, 'Mod':4, 'Maj1':5, 'Maj2':6, 'Sev':7, 'Sal':8},\n",
    "FireplaceQu_mapping   = {'nan':0, 'Ex':1, 'Gd':2, 'TA':3, 'Fa':4, 'Po':5, 'NA':0},\n",
    "GarageType_mapping    = {'nan':0, '2Types':1, 'Attchd':2, 'Basment':3, 'BuiltIn':4, 'CarPort':5, 'Detchd':6, 'NA':0},\n",
    "GarageFinish_mapping  = {'nan':0, 'Fin':1, 'RFn':2, 'Unf':3, 'NA':0},\n",
    "GarageQual_mapping    = {'nan':0, 'Ex':1, 'Gd':2, 'TA':3, 'Fa':4, 'Po':5, 'NA':0},\n",
    "GarageCond_mapping    = {'nan':0, 'Ex':1, 'Gd':2, 'TA':3, 'Fa':4, 'Po':5, 'NA':0},\n",
    "PavedDrive_mapping    = {'nan':0, 'Y':1, 'P':2, 'N':3},\n",
    "PoolQC_mapping        = {'nan':0, 'Ex':1, 'Gd':2, 'TA':3, 'Fa':4, 'NA':0},\n",
    "Fence_mapping         = {'nan':0, 'GdPrv':1, 'MnPrv':2, 'GdWo':3, 'MnWw':4, 'NA':0},\n",
    "MiscFeature_mapping   = {'nan':0, 'Elev':1, 'Gar2':2, 'Othr':3, 'Shed':4, 'TenC':5, 'NA':0},\n",
    "SaleType_mapping      = {'nan':0, 'WD':1, 'CWD':2, 'VWD':3, 'New':4, 'COD':5, 'Con':6, 'ConLw':7, 'ConLI':8,\n",
    "                         'ConLD':9, 'Oth':10},\n",
    "SaleCondition_mapping = {'nan':0, 'Normal':1, 'Abnorml':2, 'AdjLand':3, 'Alloca':4, 'Family':5, 'Partial':6})"
   ]
  },
  {
   "cell_type": "code",
   "execution_count": null,
   "metadata": {
    "execution": {
     "iopub.execute_input": "2021-04-19T20:30:42.563291Z",
     "iopub.status.busy": "2021-04-19T20:30:42.562588Z",
     "iopub.status.idle": "2021-04-19T20:30:42.827757Z",
     "shell.execute_reply": "2021-04-19T20:30:42.827101Z"
    },
    "papermill": {
     "duration": 0.302318,
     "end_time": "2021-04-19T20:30:42.827935",
     "exception": false,
     "start_time": "2021-04-19T20:30:42.525617",
     "status": "completed"
    },
    "tags": []
   },
   "outputs": [],
   "source": [
    "x_train = x_train.replace({list(non_num_vars)[k] : list(mappings.values())[k] \n",
    "                           for k in np.arange(len(list(non_num_vars)))}).fillna(0)\n",
    "x_test  = x_test.replace({list(non_num_vars)[k] : list(mappings.values())[k] \n",
    "                           for k in np.arange(len(list(non_num_vars)))}).fillna(0)\n",
    "\n",
    "print('x_train {} | y_train {} \\nx_test  {}'.format(x_train.shape, y_train.shape, x_test.shape))"
   ]
  },
  {
   "cell_type": "code",
   "execution_count": null,
   "metadata": {
    "execution": {
     "iopub.execute_input": "2021-04-19T20:30:42.902359Z",
     "iopub.status.busy": "2021-04-19T20:30:42.901422Z",
     "iopub.status.idle": "2021-04-19T20:30:42.906845Z",
     "shell.execute_reply": "2021-04-19T20:30:42.907359Z"
    },
    "papermill": {
     "duration": 0.046089,
     "end_time": "2021-04-19T20:30:42.907541",
     "exception": false,
     "start_time": "2021-04-19T20:30:42.861452",
     "status": "completed"
    },
    "tags": []
   },
   "outputs": [],
   "source": [
    "numerical_feats = x_train.dtypes[x_train.dtypes != \"object\"].index\n",
    "print(\"Number of Numerical features: \", len(numerical_feats))\n",
    "\n",
    "categorical_feats = x_train.dtypes[x_train.dtypes == \"object\"].index\n",
    "print(\"Number of Categorical features: \", len(categorical_feats))"
   ]
  },
  {
   "cell_type": "markdown",
   "metadata": {
    "papermill": {
     "duration": 0.034878,
     "end_time": "2021-04-19T20:30:42.976592",
     "exception": false,
     "start_time": "2021-04-19T20:30:42.941714",
     "status": "completed"
    },
    "tags": []
   },
   "source": [
    "***"
   ]
  },
  {
   "cell_type": "code",
   "execution_count": null,
   "metadata": {
    "execution": {
     "iopub.execute_input": "2021-04-19T20:30:43.058816Z",
     "iopub.status.busy": "2021-04-19T20:30:43.058097Z",
     "iopub.status.idle": "2021-04-19T20:30:43.075296Z",
     "shell.execute_reply": "2021-04-19T20:30:43.076099Z"
    },
    "papermill": {
     "duration": 0.064388,
     "end_time": "2021-04-19T20:30:43.076365",
     "exception": false,
     "start_time": "2021-04-19T20:30:43.011977",
     "status": "completed"
    },
    "scrolled": true,
    "tags": []
   },
   "outputs": [],
   "source": [
    "corr_mat = np.corrcoef(x_train.join(y_train),rowvar = False)\n",
    "corr_vec = corr_mat[:-1,-1]   #correlation of features to target only\n",
    "print(corr_mat.round(2))            "
   ]
  },
  {
   "cell_type": "code",
   "execution_count": null,
   "metadata": {
    "execution": {
     "iopub.execute_input": "2021-04-19T20:30:43.160145Z",
     "iopub.status.busy": "2021-04-19T20:30:43.159347Z",
     "iopub.status.idle": "2021-04-19T20:30:43.170182Z",
     "shell.execute_reply": "2021-04-19T20:30:43.170774Z"
    },
    "papermill": {
     "duration": 0.058942,
     "end_time": "2021-04-19T20:30:43.170979",
     "exception": false,
     "start_time": "2021-04-19T20:30:43.112037",
     "status": "completed"
    },
    "tags": []
   },
   "outputs": [],
   "source": [
    "#View features that have a +/- correlation greater than the user-specified corrrelation bound (corr_bound)\n",
    "corr_bound = 0.6\n",
    "corr_dat = (x_train.iloc[:, corr_vec<-corr_bound]).join(x_train.iloc[:, corr_vec>corr_bound])\n",
    "corr_dat"
   ]
  },
  {
   "cell_type": "code",
   "execution_count": null,
   "metadata": {
    "execution": {
     "iopub.execute_input": "2021-04-19T20:30:43.252334Z",
     "iopub.status.busy": "2021-04-19T20:30:43.251429Z",
     "iopub.status.idle": "2021-04-19T20:30:43.430625Z",
     "shell.execute_reply": "2021-04-19T20:30:43.429959Z"
    },
    "papermill": {
     "duration": 0.223645,
     "end_time": "2021-04-19T20:30:43.430767",
     "exception": false,
     "start_time": "2021-04-19T20:30:43.207122",
     "status": "completed"
    },
    "tags": []
   },
   "outputs": [],
   "source": [
    "#full training set basic statistics\n",
    "x_train.describe()"
   ]
  },
  {
   "cell_type": "code",
   "execution_count": null,
   "metadata": {
    "execution": {
     "iopub.execute_input": "2021-04-19T20:30:43.511363Z",
     "iopub.status.busy": "2021-04-19T20:30:43.509149Z",
     "iopub.status.idle": "2021-04-19T20:30:43.542893Z",
     "shell.execute_reply": "2021-04-19T20:30:43.542349Z"
    },
    "papermill": {
     "duration": 0.075902,
     "end_time": "2021-04-19T20:30:43.543046",
     "exception": false,
     "start_time": "2021-04-19T20:30:43.467144",
     "status": "completed"
    },
    "tags": []
   },
   "outputs": [],
   "source": [
    "#main features (based on correlation coefficient) basic statistics\n",
    "corr_dat.describe()"
   ]
  },
  {
   "cell_type": "code",
   "execution_count": null,
   "metadata": {
    "execution": {
     "iopub.execute_input": "2021-04-19T20:30:43.625254Z",
     "iopub.status.busy": "2021-04-19T20:30:43.623145Z",
     "iopub.status.idle": "2021-04-19T20:30:43.633274Z",
     "shell.execute_reply": "2021-04-19T20:30:43.632532Z"
    },
    "papermill": {
     "duration": 0.053352,
     "end_time": "2021-04-19T20:30:43.633426",
     "exception": false,
     "start_time": "2021-04-19T20:30:43.580074",
     "status": "completed"
    },
    "tags": []
   },
   "outputs": [],
   "source": [
    "corr_dat.join(y_train).corr()['SalePrice']"
   ]
  },
  {
   "cell_type": "code",
   "execution_count": null,
   "metadata": {
    "execution": {
     "iopub.execute_input": "2021-04-19T20:30:43.716908Z",
     "iopub.status.busy": "2021-04-19T20:30:43.716217Z",
     "iopub.status.idle": "2021-04-19T20:30:43.720217Z",
     "shell.execute_reply": "2021-04-19T20:30:43.719571Z"
    },
    "papermill": {
     "duration": 0.049794,
     "end_time": "2021-04-19T20:30:43.720359",
     "exception": false,
     "start_time": "2021-04-19T20:30:43.670565",
     "status": "completed"
    },
    "tags": []
   },
   "outputs": [],
   "source": [
    "target = np.log10(y_train)\n",
    "print('       SalePrice: Mean {:.3e} | Std. Dev {:.3e}'.format(y_train.mean(), y_train.std()))\n",
    "print('Log10(SalePrice): Mean {:.3f}     | Std. Dev {:.3f}'.format(target.mean(), target.std()))"
   ]
  },
  {
   "cell_type": "code",
   "execution_count": null,
   "metadata": {
    "execution": {
     "iopub.execute_input": "2021-04-19T20:30:43.803403Z",
     "iopub.status.busy": "2021-04-19T20:30:43.802675Z",
     "iopub.status.idle": "2021-04-19T20:30:43.814947Z",
     "shell.execute_reply": "2021-04-19T20:30:43.814358Z"
    },
    "papermill": {
     "duration": 0.057505,
     "end_time": "2021-04-19T20:30:43.815114",
     "exception": false,
     "start_time": "2021-04-19T20:30:43.757609",
     "status": "completed"
    },
    "tags": []
   },
   "outputs": [],
   "source": [
    "target_name = 'SalePrice'\n",
    "\n",
    "corr_abs = train_df.corr().abs()\n",
    "ser_corr = corr_abs.nlargest(len(numerical_feats), target_name)[target_name]\n",
    "\n",
    "cols_abv_corr_limit = list(ser_corr[ser_corr.values >= corr_bound].index)\n",
    "cols_bel_corr_limit = list(ser_corr[ser_corr.values < corr_bound].index)\n",
    "\n",
    "nr_feats = len(cols_abv_corr_limit)"
   ]
  },
  {
   "cell_type": "code",
   "execution_count": null,
   "metadata": {
    "execution": {
     "iopub.execute_input": "2021-04-19T20:30:43.901103Z",
     "iopub.status.busy": "2021-04-19T20:30:43.900222Z",
     "iopub.status.idle": "2021-04-19T20:30:43.907047Z",
     "shell.execute_reply": "2021-04-19T20:30:43.906304Z"
    },
    "papermill": {
     "duration": 0.054739,
     "end_time": "2021-04-19T20:30:43.907204",
     "exception": false,
     "start_time": "2021-04-19T20:30:43.852465",
     "status": "completed"
    },
    "tags": []
   },
   "outputs": [],
   "source": [
    "scaler = StandardScaler()\n",
    "x_train_s = scaler.fit_transform(corr_dat)"
   ]
  },
  {
   "cell_type": "code",
   "execution_count": null,
   "metadata": {
    "execution": {
     "iopub.execute_input": "2021-04-19T20:30:43.991878Z",
     "iopub.status.busy": "2021-04-19T20:30:43.991150Z",
     "iopub.status.idle": "2021-04-19T20:30:44.021219Z",
     "shell.execute_reply": "2021-04-19T20:30:44.022467Z"
    },
    "papermill": {
     "duration": 0.077446,
     "end_time": "2021-04-19T20:30:44.022756",
     "exception": false,
     "start_time": "2021-04-19T20:30:43.945310",
     "status": "completed"
    },
    "tags": []
   },
   "outputs": [],
   "source": [
    "n_components = 4\n",
    "pca = PCA(n_components=n_components)\n",
    "pca.fit(x_train_s)\n",
    "\n",
    "#variance explained by each PC\n",
    "print('PC Variance Explained: {}'.format(pca.explained_variance_ratio_))\n",
    "print('Cumulative Variance Explained: {}'.format(np.sum(pca.explained_variance_ratio_).round(4)))"
   ]
  },
  {
   "cell_type": "code",
   "execution_count": null,
   "metadata": {
    "execution": {
     "iopub.execute_input": "2021-04-19T20:30:44.149873Z",
     "iopub.status.busy": "2021-04-19T20:30:44.148855Z",
     "iopub.status.idle": "2021-04-19T20:30:44.151941Z",
     "shell.execute_reply": "2021-04-19T20:30:44.152608Z"
    },
    "papermill": {
     "duration": 0.060723,
     "end_time": "2021-04-19T20:30:44.152854",
     "exception": false,
     "start_time": "2021-04-19T20:30:44.092131",
     "status": "completed"
    },
    "tags": []
   },
   "outputs": [],
   "source": [
    "x_trans = pca.transform(x_train_s)  "
   ]
  },
  {
   "cell_type": "code",
   "execution_count": null,
   "metadata": {
    "execution": {
     "iopub.execute_input": "2021-04-19T20:30:44.239022Z",
     "iopub.status.busy": "2021-04-19T20:30:44.238306Z",
     "iopub.status.idle": "2021-04-19T20:30:44.533887Z",
     "shell.execute_reply": "2021-04-19T20:30:44.534851Z"
    },
    "papermill": {
     "duration": 0.341545,
     "end_time": "2021-04-19T20:30:44.535132",
     "exception": false,
     "start_time": "2021-04-19T20:30:44.193587",
     "status": "completed"
    },
    "tags": []
   },
   "outputs": [],
   "source": [
    "n_clusters = 3\n",
    "kmeans = KMeans(n_clusters = n_clusters).fit(X=x_train_s, y=target).labels_\n",
    "hclust = AgglomerativeClustering(n_clusters = n_clusters).fit(X=x_train_s, y=target).labels_\n",
    "gmm    = GaussianMixture(n_components=n_clusters).fit_predict(X=x_train_s, y=target)"
   ]
  },
  {
   "cell_type": "code",
   "execution_count": null,
   "metadata": {
    "execution": {
     "iopub.execute_input": "2021-04-19T20:30:44.672764Z",
     "iopub.status.busy": "2021-04-19T20:30:44.671765Z",
     "iopub.status.idle": "2021-04-19T20:30:44.684939Z",
     "shell.execute_reply": "2021-04-19T20:30:44.684176Z"
    },
    "papermill": {
     "duration": 0.079057,
     "end_time": "2021-04-19T20:30:44.685100",
     "exception": false,
     "start_time": "2021-04-19T20:30:44.606043",
     "status": "completed"
    },
    "tags": []
   },
   "outputs": [],
   "source": [
    "df_all = pd.concat([x_train, x_test])\n",
    "\n",
    "len_train = x_train.shape[0]"
   ]
  },
  {
   "cell_type": "code",
   "execution_count": null,
   "metadata": {
    "execution": {
     "iopub.execute_input": "2021-04-19T20:30:44.772646Z",
     "iopub.status.busy": "2021-04-19T20:30:44.771904Z",
     "iopub.status.idle": "2021-04-19T20:30:44.795716Z",
     "shell.execute_reply": "2021-04-19T20:30:44.795135Z"
    },
    "papermill": {
     "duration": 0.072054,
     "end_time": "2021-04-19T20:30:44.795890",
     "exception": false,
     "start_time": "2021-04-19T20:30:44.723836",
     "status": "completed"
    },
    "tags": []
   },
   "outputs": [],
   "source": [
    "# StandardScaler from Scikit-Learn\n",
    "from sklearn.preprocessing import StandardScaler\n",
    "\n",
    "# Initialize instance of StandardScaler\n",
    "scaler = StandardScaler()\n",
    "\n",
    "# Fit and transform item_data\n",
    "data_scaled = scaler.fit_transform(df_all)\n",
    "\n",
    "# Display first 5 rows of item_data_scaled\n",
    "data_scaled[:5]"
   ]
  },
  {
   "cell_type": "code",
   "execution_count": null,
   "metadata": {
    "execution": {
     "iopub.execute_input": "2021-04-19T20:30:44.881092Z",
     "iopub.status.busy": "2021-04-19T20:30:44.880378Z",
     "iopub.status.idle": "2021-04-19T20:30:45.015225Z",
     "shell.execute_reply": "2021-04-19T20:30:45.016138Z"
    },
    "papermill": {
     "duration": 0.180983,
     "end_time": "2021-04-19T20:30:45.016441",
     "exception": false,
     "start_time": "2021-04-19T20:30:44.835458",
     "status": "completed"
    },
    "tags": []
   },
   "outputs": [],
   "source": [
    "pca = PCA(n_components=n_components)\n",
    "pca.fit(data_scaled)\n",
    "\n",
    "PC_items = pca.transform(data_scaled)"
   ]
  },
  {
   "cell_type": "code",
   "execution_count": null,
   "metadata": {
    "execution": {
     "iopub.execute_input": "2021-04-19T20:30:45.154827Z",
     "iopub.status.busy": "2021-04-19T20:30:45.154031Z",
     "iopub.status.idle": "2021-04-19T20:30:45.159173Z",
     "shell.execute_reply": "2021-04-19T20:30:45.158304Z"
    },
    "papermill": {
     "duration": 0.069899,
     "end_time": "2021-04-19T20:30:45.159378",
     "exception": false,
     "start_time": "2021-04-19T20:30:45.089479",
     "status": "completed"
    },
    "tags": []
   },
   "outputs": [],
   "source": [
    "# Put PC_items into a dataframe\n",
    "items_pca = pd.DataFrame(PC_items)\n",
    "\n",
    "# Name the columns\n",
    "items_pca.columns = ['PC{}'.format(i + 1) for i in range(PC_items.shape[1])]\n",
    "\n",
    "# Update its index\n",
    "items_pca.index = df_all.index\n",
    "\n",
    "# Display first 5 rows\n",
    "items_pca.head()"
   ]
  },
  {
   "cell_type": "code",
   "execution_count": null,
   "metadata": {
    "execution": {
     "iopub.execute_input": "2021-04-19T20:30:45.359412Z",
     "iopub.status.busy": "2021-04-19T20:30:45.358350Z",
     "iopub.status.idle": "2021-04-19T20:30:45.398671Z",
     "shell.execute_reply": "2021-04-19T20:30:45.397633Z"
    },
    "papermill": {
     "duration": 0.08689,
     "end_time": "2021-04-19T20:30:45.398932",
     "exception": false,
     "start_time": "2021-04-19T20:30:45.312042",
     "status": "completed"
    },
    "tags": []
   },
   "outputs": [],
   "source": [
    "# from sklearn.linear_model import LinearRegression\n",
    "\n",
    "# lr = LinearRegression()\n",
    "# lr.fit(x_train, y_train)\n",
    "# pred = lr.predict(x_test)\n",
    "# pred_train = lr.predict(x_train)\n",
    "# r2 = r2_score(y_train,pred_train)\n",
    "# rmse = np.sqrt(mean_squared_error(y_train,pred_train))"
   ]
  },
  {
   "cell_type": "code",
   "execution_count": null,
   "metadata": {
    "execution": {
     "iopub.execute_input": "2021-04-19T20:30:45.573613Z",
     "iopub.status.busy": "2021-04-19T20:30:45.572728Z",
     "iopub.status.idle": "2021-04-19T20:30:45.578932Z",
     "shell.execute_reply": "2021-04-19T20:30:45.580064Z"
    },
    "papermill": {
     "duration": 0.073106,
     "end_time": "2021-04-19T20:30:45.580362",
     "exception": false,
     "start_time": "2021-04-19T20:30:45.507256",
     "status": "completed"
    },
    "tags": []
   },
   "outputs": [],
   "source": [
    "from sklearn.metrics import r2_score\n",
    "from sklearn.metrics import mean_absolute_error"
   ]
  },
  {
   "cell_type": "code",
   "execution_count": null,
   "metadata": {
    "execution": {
     "iopub.execute_input": "2021-04-19T20:30:45.684654Z",
     "iopub.status.busy": "2021-04-19T20:30:45.683353Z",
     "iopub.status.idle": "2021-04-19T20:30:45.689715Z",
     "shell.execute_reply": "2021-04-19T20:30:45.690589Z"
    },
    "papermill": {
     "duration": 0.053763,
     "end_time": "2021-04-19T20:30:45.690863",
     "exception": false,
     "start_time": "2021-04-19T20:30:45.637100",
     "status": "completed"
    },
    "tags": []
   },
   "outputs": [],
   "source": [
    "print( 'R^2:', r2_score(y_train, pred_train ))\n",
    "print( 'MAE:', mean_absolute_error(y_train, pred_train))"
   ]
  },
  {
   "cell_type": "code",
   "execution_count": null,
   "metadata": {
    "execution": {
     "iopub.execute_input": "2021-04-19T20:30:45.787670Z",
     "iopub.status.busy": "2021-04-19T20:30:45.786976Z",
     "iopub.status.idle": "2021-04-19T20:30:45.826056Z",
     "shell.execute_reply": "2021-04-19T20:30:45.825215Z"
    },
    "papermill": {
     "duration": 0.08552,
     "end_time": "2021-04-19T20:30:45.826239",
     "exception": false,
     "start_time": "2021-04-19T20:30:45.740719",
     "status": "completed"
    },
    "tags": []
   },
   "outputs": [],
   "source": [
    "from sklearn.ensemble import RandomForestRegressor"
   ]
  },
  {
   "cell_type": "code",
   "execution_count": null,
   "metadata": {
    "execution": {
     "iopub.execute_input": "2021-04-19T20:30:45.924844Z",
     "iopub.status.busy": "2021-04-19T20:30:45.923933Z",
     "iopub.status.idle": "2021-04-19T20:30:45.928944Z",
     "shell.execute_reply": "2021-04-19T20:30:45.928152Z"
    },
    "papermill": {
     "duration": 0.05866,
     "end_time": "2021-04-19T20:30:45.929118",
     "exception": false,
     "start_time": "2021-04-19T20:30:45.870458",
     "status": "completed"
    },
    "tags": []
   },
   "outputs": [],
   "source": [
    "# rf = RandomForestRegressor() #default features\n",
    "# rf_fit = rf.fit(x_train, y_train)\n",
    "# pred = rf_fit.predict(x_test)\n",
    "# pred_train = rf.predict(x_train)\n",
    "# r2 = r2_score(y_train,pred_train)\n",
    "# rmse = np.sqrt(mean_squared_error(y_train,pred_train))\n",
    "# print( 'R^2:', r2_score(y_train, pred_train ))\n",
    "# print( 'MAE:', mean_absolute_error(y_train, pred_train))"
   ]
  },
  {
   "cell_type": "code",
   "execution_count": null,
   "metadata": {
    "execution": {
     "iopub.execute_input": "2021-04-19T20:30:46.025109Z",
     "iopub.status.busy": "2021-04-19T20:30:46.024359Z",
     "iopub.status.idle": "2021-04-19T20:30:46.824426Z",
     "shell.execute_reply": "2021-04-19T20:30:46.825014Z"
    },
    "papermill": {
     "duration": 0.853546,
     "end_time": "2021-04-19T20:30:46.825234",
     "exception": false,
     "start_time": "2021-04-19T20:30:45.971688",
     "status": "completed"
    },
    "tags": []
   },
   "outputs": [],
   "source": [
    "# import xgboost\n",
    "# reg = xgboost.XGBRegressor().fit(x_train, y_train)\n",
    "# pred = reg.predict(x_test)\n",
    "# pred_train = reg.predict(x_train)\n",
    "# r2 = r2_score(y_train,pred_train)\n",
    "# rmse = np.sqrt(mean_squared_error(y_train,pred_train))\n",
    "# print( 'R^2:', r2_score(y_train, pred_train ))\n",
    "# print( 'MAE:', mean_absolute_error(y_train, pred_train))"
   ]
  },
  {
   "cell_type": "code",
   "execution_count": null,
   "metadata": {},
   "outputs": [],
   "source": [
    "x_train"
   ]
  },
  {
   "cell_type": "code",
   "execution_count": null,
   "metadata": {},
   "outputs": [],
   "source": [
    "from sklearn.ensemble import GradientBoostingRegressor\n",
    "\n",
    "gbrt = GradientBoostingRegressor(max_depth=2, warm_start=True)\n",
    "min_val_error = float(\"inf\") \n",
    "error_going_up = 0\n",
    "size=len(x_train)\n",
    "x_val, y_val = x_train[size-400:], y_train[size-400:]\n",
    "x_train_new, y_train_new = x_train[:-400], y_train[:-400]\n",
    "\n",
    "for n_estimators in range(1, 120):\n",
    "    gbrt.n_estimators = n_estimators \n",
    "    gbrt.fit(x_train_new, y_train_new)\n",
    "    y_pred = gbrt.predict(x_val)\n",
    "    val_error = mean_squared_error(y_val, y_pred) \n",
    "    if val_error < min_val_error:\n",
    "        min_val_error = val_error\n",
    "        error_going_up = 0\n",
    "    else:\n",
    "        error_going_up += 1\n",
    "        if error_going_up == 5:\n",
    "            break # early stopping\n",
    "            \n",
    "pred = gbrt.predict(x_test)\n",
    "pred_train = gbrt.predict(x_train)\n",
    "r2 = r2_score(y_train,pred_train)\n",
    "rmse = np.sqrt(mean_squared_error(y_train,pred_train))\n",
    "print( 'R^2:', r2_score(y_train, pred_train ))\n",
    "print( 'MAE:', mean_absolute_error(y_train, pred_train))"
   ]
  },
  {
   "cell_type": "code",
   "execution_count": null,
   "metadata": {
    "execution": {
     "iopub.execute_input": "2021-04-19T20:30:46.920931Z",
     "iopub.status.busy": "2021-04-19T20:30:46.919435Z",
     "iopub.status.idle": "2021-04-19T20:30:46.932077Z",
     "shell.execute_reply": "2021-04-19T20:30:46.931322Z"
    },
    "papermill": {
     "duration": 0.063232,
     "end_time": "2021-04-19T20:30:46.932236",
     "exception": false,
     "start_time": "2021-04-19T20:30:46.869004",
     "status": "completed"
    },
    "tags": []
   },
   "outputs": [],
   "source": [
    "id_test = test_df['Id']\n",
    "\n",
    "pred_pd = pd.DataFrame()\n",
    "pred_pd['Id'] = id_test\n",
    "pred_pd['SalePrice'] = pred\n",
    "\n",
    "pred_pd.head\n",
    "pred_pd.to_csv('submission_StochasticResults_RF.csv',index=False)"
   ]
  },
  {
   "cell_type": "markdown",
   "metadata": {
    "papermill": {
     "duration": 0.043315,
     "end_time": "2021-04-19T20:30:47.017337",
     "exception": false,
     "start_time": "2021-04-19T20:30:46.974022",
     "status": "completed"
    },
    "tags": []
   },
   "source": [
    "***"
   ]
  },
  {
   "cell_type": "markdown",
   "metadata": {
    "papermill": {
     "duration": 0.041503,
     "end_time": "2021-04-19T20:30:47.101814",
     "exception": false,
     "start_time": "2021-04-19T20:30:47.060311",
     "status": "completed"
    },
    "tags": []
   },
   "source": [
    "***"
   ]
  },
  {
   "cell_type": "markdown",
   "metadata": {
    "papermill": {
     "duration": 0.041397,
     "end_time": "2021-04-19T20:30:47.185854",
     "exception": false,
     "start_time": "2021-04-19T20:30:47.144457",
     "status": "completed"
    },
    "tags": []
   },
   "source": [
    "# End of Notebook"
   ]
  }
 ],
 "metadata": {
  "kernelspec": {
   "display_name": "Python 3",
   "language": "python",
   "name": "python3"
  },
  "language_info": {
   "codemirror_mode": {
    "name": "ipython",
    "version": 3
   },
   "file_extension": ".py",
   "mimetype": "text/x-python",
   "name": "python",
   "nbconvert_exporter": "python",
   "pygments_lexer": "ipython3",
   "version": "3.8.5"
  },
  "papermill": {
   "default_parameters": {},
   "duration": 22.417113,
   "end_time": "2021-04-19T20:30:48.342131",
   "environment_variables": {},
   "exception": null,
   "input_path": "__notebook__.ipynb",
   "output_path": "__notebook__.ipynb",
   "parameters": {},
   "start_time": "2021-04-19T20:30:25.925018",
   "version": "2.2.2"
  }
 },
 "nbformat": 4,
 "nbformat_minor": 4
}
