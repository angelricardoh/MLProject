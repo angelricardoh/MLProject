{
 "cells": [
  {
   "cell_type": "markdown",
   "metadata": {
    "papermill": {
     "duration": 0.030439,
     "end_time": "2021-04-19T20:30:32.656951",
     "exception": false,
     "start_time": "2021-04-19T20:30:32.626512",
     "status": "completed"
    },
    "tags": []
   },
   "source": [
    "<h1> CSCI 567 - Machine Learning - Spring 2021 </h1>\n",
    "<h2> Project: Chekcpoint 1 - Data Preprocessing (03/10/21) </h2>\n",
    "<h3> Team <u>StochasticResults</u>: </h3>\n",
    " - Abel Salinas [8793999216] [abelsali@usc.edu] <br>\n",
    " - Angel Nieto [2211798052] [nietogar@usc.edu] <br>\n",
    " - Misael Morales [5832732058] [misaelmo@usc.edu]"
   ]
  },
  {
   "cell_type": "markdown",
   "metadata": {
    "papermill": {
     "duration": 0.027847,
     "end_time": "2021-04-19T20:30:32.712384",
     "exception": false,
     "start_time": "2021-04-19T20:30:32.684537",
     "status": "completed"
    },
    "tags": []
   },
   "source": [
    "***"
   ]
  },
  {
   "cell_type": "markdown",
   "metadata": {
    "papermill": {
     "duration": 0.028635,
     "end_time": "2021-04-19T20:30:32.770179",
     "exception": false,
     "start_time": "2021-04-19T20:30:32.741544",
     "status": "completed"
    },
    "tags": []
   },
   "source": [
    "The \"Housing Price\" dataset consists of 79 predictors for the house prices in Ames, Iowa. The training and testing set are already pre-split for us from the Kaggle version (https://www.kaggle.com/c/house-prices-advanced-regression-techniques/overview), and we will focus on different regression techniques to predict the housing SalePrice based on the given features.\n",
    "\n",
    "This notebook focuses on the data pre-processing, wrangling, visualization, and statistical analysis. It is a crucial step in any machine-learning/data-analytics application to ensure proper data formatting in order to optimize the techniques implemented. "
   ]
  },
  {
   "cell_type": "markdown",
   "metadata": {
    "papermill": {
     "duration": 0.027668,
     "end_time": "2021-04-19T20:30:32.826590",
     "exception": false,
     "start_time": "2021-04-19T20:30:32.798922",
     "status": "completed"
    },
    "tags": []
   },
   "source": [
    "# Table of Contents:\n",
    "1. Load required packages <br>\n",
    "2. Data wrangling <br>\n",
    "3. Data visualization <br>\n",
    "4. Exploratory data analysis"
   ]
  },
  {
   "cell_type": "markdown",
   "metadata": {
    "papermill": {
     "duration": 0.027088,
     "end_time": "2021-04-19T20:30:32.881451",
     "exception": false,
     "start_time": "2021-04-19T20:30:32.854363",
     "status": "completed"
    },
    "tags": []
   },
   "source": [
    "***"
   ]
  },
  {
   "cell_type": "markdown",
   "metadata": {
    "papermill": {
     "duration": 0.02978,
     "end_time": "2021-04-19T20:30:32.939430",
     "exception": false,
     "start_time": "2021-04-19T20:30:32.909650",
     "status": "completed"
    },
    "tags": []
   },
   "source": [
    "# 1. Load required libraries"
   ]
  },
  {
   "cell_type": "code",
   "execution_count": 1,
   "metadata": {
    "execution": {
     "iopub.execute_input": "2021-04-19T20:30:33.000377Z",
     "iopub.status.busy": "2021-04-19T20:30:32.999606Z",
     "iopub.status.idle": "2021-04-19T20:30:33.009436Z",
     "shell.execute_reply": "2021-04-19T20:30:33.010043Z"
    },
    "papermill": {
     "duration": 0.042987,
     "end_time": "2021-04-19T20:30:33.010379",
     "exception": false,
     "start_time": "2021-04-19T20:30:32.967392",
     "status": "completed"
    },
    "tags": []
   },
   "outputs": [
    {
     "name": "stdout",
     "output_type": "stream",
     "text": [
      "/kaggle/input/house-prices-advanced-regression-techniques/sample_submission.csv\n",
      "/kaggle/input/house-prices-advanced-regression-techniques/data_description.txt\n",
      "/kaggle/input/house-prices-advanced-regression-techniques/train.csv\n",
      "/kaggle/input/house-prices-advanced-regression-techniques/test.csv\n"
     ]
    }
   ],
   "source": [
    "# This Python 3 environment comes with many helpful analytics libraries installed\n",
    "# It is defined by the kaggle/python Docker image: https://github.com/kaggle/docker-python\n",
    "# For example, here's several helpful packages to load\n",
    "\n",
    "import numpy as np # linear algebra\n",
    "import pandas as pd # data processing, CSV file I/O (e.g. pd.read_csv)\n",
    "\n",
    "# Input data files are available in the read-only \"../input/\" directory\n",
    "# For example, running this (by clicking run or pressing Shift+Enter) will list all files under the input directory\n",
    "\n",
    "import os\n",
    "for dirname, _, filenames in os.walk('/kaggle/input'):\n",
    "    for filename in filenames:\n",
    "        print(os.path.join(dirname, filename))\n",
    "\n",
    "# You can write up to 20GB to the current directory (/kaggle/working/) that gets preserved as output when you create a version using \"Save & Run All\" \n",
    "# You can also write temporary files to /kaggle/temp/, but they won't be saved outside of the current session"
   ]
  },
  {
   "cell_type": "code",
   "execution_count": 2,
   "metadata": {
    "execution": {
     "iopub.execute_input": "2021-04-19T20:30:33.073410Z",
     "iopub.status.busy": "2021-04-19T20:30:33.072667Z",
     "iopub.status.idle": "2021-04-19T20:30:34.046430Z",
     "shell.execute_reply": "2021-04-19T20:30:34.045692Z"
    },
    "papermill": {
     "duration": 1.005283,
     "end_time": "2021-04-19T20:30:34.046580",
     "exception": false,
     "start_time": "2021-04-19T20:30:33.041297",
     "status": "completed"
    },
    "tags": []
   },
   "outputs": [],
   "source": [
    "# Basic data management packages\n",
    "import os\n",
    "import numpy as np\n",
    "import pandas as pd\n",
    "\n",
    "# Visualization packages\n",
    "import matplotlib.pyplot as plt\n",
    "import seaborn as sns\n",
    "import pandas.plotting as pd_plot\n",
    "%matplotlib inline"
   ]
  },
  {
   "cell_type": "code",
   "execution_count": 3,
   "metadata": {
    "execution": {
     "iopub.execute_input": "2021-04-19T20:30:34.111257Z",
     "iopub.status.busy": "2021-04-19T20:30:34.110419Z",
     "iopub.status.idle": "2021-04-19T20:30:34.850576Z",
     "shell.execute_reply": "2021-04-19T20:30:34.849729Z"
    },
    "papermill": {
     "duration": 0.774056,
     "end_time": "2021-04-19T20:30:34.850750",
     "exception": false,
     "start_time": "2021-04-19T20:30:34.076694",
     "status": "completed"
    },
    "tags": []
   },
   "outputs": [],
   "source": [
    "# Exploratory Data Analysis packages\n",
    "from sklearn.preprocessing import StandardScaler\n",
    "from sklearn.decomposition import PCA  \n",
    "from sklearn.manifold import TSNE\n",
    "from sklearn.cluster import KMeans, AgglomerativeClustering\n",
    "from sklearn.mixture import GaussianMixture\n",
    "from sklearn.neighbors import LocalOutlierFactor"
   ]
  },
  {
   "cell_type": "code",
   "execution_count": 4,
   "metadata": {
    "execution": {
     "iopub.execute_input": "2021-04-19T20:30:34.911360Z",
     "iopub.status.busy": "2021-04-19T20:30:34.910625Z",
     "iopub.status.idle": "2021-04-19T20:30:41.476071Z",
     "shell.execute_reply": "2021-04-19T20:30:41.476660Z"
    },
    "papermill": {
     "duration": 6.597531,
     "end_time": "2021-04-19T20:30:41.476879",
     "exception": false,
     "start_time": "2021-04-19T20:30:34.879348",
     "status": "completed"
    },
    "tags": []
   },
   "outputs": [
    {
     "name": "stdout",
     "output_type": "stream",
     "text": [
      "Tensorflow Version: 2.4.1\n",
      "Tensorflow built with CUDA? False\n",
      "[PhysicalDevice(name='/physical_device:CPU:0', device_type='CPU')]\n",
      "[]\n",
      "Num GPU Available: 0\n"
     ]
    }
   ],
   "source": [
    "# Regression and Modeling packages\n",
    "import tensorflow as tf\n",
    "import keras\n",
    "from scipy import stats\n",
    "from sklearn.metrics import mean_squared_error, r2_score\n",
    "\n",
    "# Verify GPU compatibility\n",
    "print(\"Tensorflow Version:\", tf.__version__)\n",
    "print(\"Tensorflow built with CUDA?\", tf.test.is_built_with_cuda())\n",
    "print(tf.config.list_physical_devices('CPU'))\n",
    "print(tf.config.list_physical_devices('GPU'))\n",
    "print(\"Num GPU Available:\", len(tf.config.list_physical_devices('GPU')))"
   ]
  },
  {
   "cell_type": "code",
   "execution_count": 5,
   "metadata": {
    "execution": {
     "iopub.execute_input": "2021-04-19T20:30:41.540324Z",
     "iopub.status.busy": "2021-04-19T20:30:41.539599Z",
     "iopub.status.idle": "2021-04-19T20:30:41.543265Z",
     "shell.execute_reply": "2021-04-19T20:30:41.542721Z"
    },
    "papermill": {
     "duration": 0.037494,
     "end_time": "2021-04-19T20:30:41.543499",
     "exception": false,
     "start_time": "2021-04-19T20:30:41.506005",
     "status": "completed"
    },
    "tags": []
   },
   "outputs": [],
   "source": [
    "# Preprocessing choice\n",
    "# preprocessing_method = 'HousePreprocessor'\n",
    "preprocessing_method = 'Mappings'"
   ]
  },
  {
   "cell_type": "markdown",
   "metadata": {
    "papermill": {
     "duration": 0.028164,
     "end_time": "2021-04-19T20:30:41.600160",
     "exception": false,
     "start_time": "2021-04-19T20:30:41.571996",
     "status": "completed"
    },
    "tags": []
   },
   "source": [
    "***"
   ]
  },
  {
   "cell_type": "code",
   "execution_count": 6,
   "metadata": {
    "execution": {
     "iopub.execute_input": "2021-04-19T20:30:41.662290Z",
     "iopub.status.busy": "2021-04-19T20:30:41.661610Z",
     "iopub.status.idle": "2021-04-19T20:30:41.752426Z",
     "shell.execute_reply": "2021-04-19T20:30:41.751607Z"
    },
    "papermill": {
     "duration": 0.123918,
     "end_time": "2021-04-19T20:30:41.752587",
     "exception": false,
     "start_time": "2021-04-19T20:30:41.628669",
     "status": "completed"
    },
    "tags": []
   },
   "outputs": [],
   "source": [
    "# Read CSV files for Train/Test datasets\n",
    "train_df = pd.read_csv('/kaggle/input/house-prices-advanced-regression-techniques/train.csv')\n",
    "test_df  = pd.read_csv('/kaggle/input/house-prices-advanced-regression-techniques/test.csv')"
   ]
  },
  {
   "cell_type": "code",
   "execution_count": 7,
   "metadata": {
    "execution": {
     "iopub.execute_input": "2021-04-19T20:30:41.822755Z",
     "iopub.status.busy": "2021-04-19T20:30:41.822091Z",
     "iopub.status.idle": "2021-04-19T20:30:41.830374Z",
     "shell.execute_reply": "2021-04-19T20:30:41.831111Z"
    },
    "papermill": {
     "duration": 0.049817,
     "end_time": "2021-04-19T20:30:41.831289",
     "exception": false,
     "start_time": "2021-04-19T20:30:41.781472",
     "status": "completed"
    },
    "tags": []
   },
   "outputs": [
    {
     "name": "stdout",
     "output_type": "stream",
     "text": [
      "Train Shape: (1460, 81) | types: [dtype('int64') dtype('O') dtype('float64')] \n",
      "Test Shape:  (1459, 80) | types: [dtype('int64') dtype('O') dtype('float64')]\n",
      "Set difference train-vs-test: {'SalePrice'}\n"
     ]
    }
   ],
   "source": [
    "print('Train Shape: {} | types: {} \\nTest Shape:  {} | types: {}'.format(train_df.shape, pd.unique(train_df.dtypes), \n",
    "                                                                       test_df.shape, pd.unique(test_df.dtypes)))\n",
    "print('Set difference train-vs-test: {}'.format(set(train_df.columns).difference(set(test_df.columns))))"
   ]
  },
  {
   "cell_type": "code",
   "execution_count": 8,
   "metadata": {
    "execution": {
     "iopub.execute_input": "2021-04-19T20:30:41.892993Z",
     "iopub.status.busy": "2021-04-19T20:30:41.892246Z",
     "iopub.status.idle": "2021-04-19T20:30:41.902835Z",
     "shell.execute_reply": "2021-04-19T20:30:41.903574Z"
    },
    "papermill": {
     "duration": 0.043579,
     "end_time": "2021-04-19T20:30:41.903829",
     "exception": false,
     "start_time": "2021-04-19T20:30:41.860250",
     "status": "completed"
    },
    "tags": []
   },
   "outputs": [
    {
     "name": "stdout",
     "output_type": "stream",
     "text": [
      "x_train (1460, 79) | y_train (1460,) \n",
      "x_test  (1459, 79)\n"
     ]
    }
   ],
   "source": [
    "x_train = train_df.iloc[:,1:-1]  #79 train features\n",
    "y_train = train_df.iloc[:,-1]    #SalePrice training target\n",
    "x_test  = test_df.iloc[:,1:]     #79 test features\n",
    "print('x_train {} | y_train {} \\nx_test  {}'.format(x_train.shape, y_train.shape, x_test.shape))"
   ]
  },
  {
   "cell_type": "code",
   "execution_count": 9,
   "metadata": {
    "execution": {
     "iopub.execute_input": "2021-04-19T20:30:41.969054Z",
     "iopub.status.busy": "2021-04-19T20:30:41.968202Z",
     "iopub.status.idle": "2021-04-19T20:30:42.010201Z",
     "shell.execute_reply": "2021-04-19T20:30:42.010696Z"
    },
    "papermill": {
     "duration": 0.076302,
     "end_time": "2021-04-19T20:30:42.010917",
     "exception": false,
     "start_time": "2021-04-19T20:30:41.934615",
     "status": "completed"
    },
    "tags": []
   },
   "outputs": [
    {
     "data": {
      "text/html": [
       "<div>\n",
       "<style scoped>\n",
       "    .dataframe tbody tr th:only-of-type {\n",
       "        vertical-align: middle;\n",
       "    }\n",
       "\n",
       "    .dataframe tbody tr th {\n",
       "        vertical-align: top;\n",
       "    }\n",
       "\n",
       "    .dataframe thead th {\n",
       "        text-align: right;\n",
       "    }\n",
       "</style>\n",
       "<table border=\"1\" class=\"dataframe\">\n",
       "  <thead>\n",
       "    <tr style=\"text-align: right;\">\n",
       "      <th></th>\n",
       "      <th>MSSubClass</th>\n",
       "      <th>MSZoning</th>\n",
       "      <th>LotFrontage</th>\n",
       "      <th>LotArea</th>\n",
       "      <th>Street</th>\n",
       "      <th>Alley</th>\n",
       "      <th>LotShape</th>\n",
       "      <th>LandContour</th>\n",
       "      <th>Utilities</th>\n",
       "      <th>LotConfig</th>\n",
       "      <th>...</th>\n",
       "      <th>ScreenPorch</th>\n",
       "      <th>PoolArea</th>\n",
       "      <th>PoolQC</th>\n",
       "      <th>Fence</th>\n",
       "      <th>MiscFeature</th>\n",
       "      <th>MiscVal</th>\n",
       "      <th>MoSold</th>\n",
       "      <th>YrSold</th>\n",
       "      <th>SaleType</th>\n",
       "      <th>SaleCondition</th>\n",
       "    </tr>\n",
       "  </thead>\n",
       "  <tbody>\n",
       "    <tr>\n",
       "      <th>0</th>\n",
       "      <td>60</td>\n",
       "      <td>RL</td>\n",
       "      <td>65.0</td>\n",
       "      <td>8450</td>\n",
       "      <td>Pave</td>\n",
       "      <td>NaN</td>\n",
       "      <td>Reg</td>\n",
       "      <td>Lvl</td>\n",
       "      <td>AllPub</td>\n",
       "      <td>Inside</td>\n",
       "      <td>...</td>\n",
       "      <td>0</td>\n",
       "      <td>0</td>\n",
       "      <td>NaN</td>\n",
       "      <td>NaN</td>\n",
       "      <td>NaN</td>\n",
       "      <td>0</td>\n",
       "      <td>2</td>\n",
       "      <td>2008</td>\n",
       "      <td>WD</td>\n",
       "      <td>Normal</td>\n",
       "    </tr>\n",
       "    <tr>\n",
       "      <th>1</th>\n",
       "      <td>20</td>\n",
       "      <td>RL</td>\n",
       "      <td>80.0</td>\n",
       "      <td>9600</td>\n",
       "      <td>Pave</td>\n",
       "      <td>NaN</td>\n",
       "      <td>Reg</td>\n",
       "      <td>Lvl</td>\n",
       "      <td>AllPub</td>\n",
       "      <td>FR2</td>\n",
       "      <td>...</td>\n",
       "      <td>0</td>\n",
       "      <td>0</td>\n",
       "      <td>NaN</td>\n",
       "      <td>NaN</td>\n",
       "      <td>NaN</td>\n",
       "      <td>0</td>\n",
       "      <td>5</td>\n",
       "      <td>2007</td>\n",
       "      <td>WD</td>\n",
       "      <td>Normal</td>\n",
       "    </tr>\n",
       "    <tr>\n",
       "      <th>2</th>\n",
       "      <td>60</td>\n",
       "      <td>RL</td>\n",
       "      <td>68.0</td>\n",
       "      <td>11250</td>\n",
       "      <td>Pave</td>\n",
       "      <td>NaN</td>\n",
       "      <td>IR1</td>\n",
       "      <td>Lvl</td>\n",
       "      <td>AllPub</td>\n",
       "      <td>Inside</td>\n",
       "      <td>...</td>\n",
       "      <td>0</td>\n",
       "      <td>0</td>\n",
       "      <td>NaN</td>\n",
       "      <td>NaN</td>\n",
       "      <td>NaN</td>\n",
       "      <td>0</td>\n",
       "      <td>9</td>\n",
       "      <td>2008</td>\n",
       "      <td>WD</td>\n",
       "      <td>Normal</td>\n",
       "    </tr>\n",
       "    <tr>\n",
       "      <th>3</th>\n",
       "      <td>70</td>\n",
       "      <td>RL</td>\n",
       "      <td>60.0</td>\n",
       "      <td>9550</td>\n",
       "      <td>Pave</td>\n",
       "      <td>NaN</td>\n",
       "      <td>IR1</td>\n",
       "      <td>Lvl</td>\n",
       "      <td>AllPub</td>\n",
       "      <td>Corner</td>\n",
       "      <td>...</td>\n",
       "      <td>0</td>\n",
       "      <td>0</td>\n",
       "      <td>NaN</td>\n",
       "      <td>NaN</td>\n",
       "      <td>NaN</td>\n",
       "      <td>0</td>\n",
       "      <td>2</td>\n",
       "      <td>2006</td>\n",
       "      <td>WD</td>\n",
       "      <td>Abnorml</td>\n",
       "    </tr>\n",
       "    <tr>\n",
       "      <th>4</th>\n",
       "      <td>60</td>\n",
       "      <td>RL</td>\n",
       "      <td>84.0</td>\n",
       "      <td>14260</td>\n",
       "      <td>Pave</td>\n",
       "      <td>NaN</td>\n",
       "      <td>IR1</td>\n",
       "      <td>Lvl</td>\n",
       "      <td>AllPub</td>\n",
       "      <td>FR2</td>\n",
       "      <td>...</td>\n",
       "      <td>0</td>\n",
       "      <td>0</td>\n",
       "      <td>NaN</td>\n",
       "      <td>NaN</td>\n",
       "      <td>NaN</td>\n",
       "      <td>0</td>\n",
       "      <td>12</td>\n",
       "      <td>2008</td>\n",
       "      <td>WD</td>\n",
       "      <td>Normal</td>\n",
       "    </tr>\n",
       "  </tbody>\n",
       "</table>\n",
       "<p>5 rows × 79 columns</p>\n",
       "</div>"
      ],
      "text/plain": [
       "   MSSubClass MSZoning  LotFrontage  LotArea Street Alley LotShape  \\\n",
       "0          60       RL         65.0     8450   Pave   NaN      Reg   \n",
       "1          20       RL         80.0     9600   Pave   NaN      Reg   \n",
       "2          60       RL         68.0    11250   Pave   NaN      IR1   \n",
       "3          70       RL         60.0     9550   Pave   NaN      IR1   \n",
       "4          60       RL         84.0    14260   Pave   NaN      IR1   \n",
       "\n",
       "  LandContour Utilities LotConfig  ... ScreenPorch PoolArea PoolQC Fence  \\\n",
       "0         Lvl    AllPub    Inside  ...           0        0    NaN   NaN   \n",
       "1         Lvl    AllPub       FR2  ...           0        0    NaN   NaN   \n",
       "2         Lvl    AllPub    Inside  ...           0        0    NaN   NaN   \n",
       "3         Lvl    AllPub    Corner  ...           0        0    NaN   NaN   \n",
       "4         Lvl    AllPub       FR2  ...           0        0    NaN   NaN   \n",
       "\n",
       "  MiscFeature MiscVal  MoSold  YrSold  SaleType  SaleCondition  \n",
       "0         NaN       0       2    2008        WD         Normal  \n",
       "1         NaN       0       5    2007        WD         Normal  \n",
       "2         NaN       0       9    2008        WD         Normal  \n",
       "3         NaN       0       2    2006        WD        Abnorml  \n",
       "4         NaN       0      12    2008        WD         Normal  \n",
       "\n",
       "[5 rows x 79 columns]"
      ]
     },
     "execution_count": 9,
     "metadata": {},
     "output_type": "execute_result"
    }
   ],
   "source": [
    "#preview the training data set\n",
    "x_train.head()"
   ]
  },
  {
   "cell_type": "code",
   "execution_count": 10,
   "metadata": {
    "execution": {
     "iopub.execute_input": "2021-04-19T20:30:42.077462Z",
     "iopub.status.busy": "2021-04-19T20:30:42.076811Z",
     "iopub.status.idle": "2021-04-19T20:30:42.103564Z",
     "shell.execute_reply": "2021-04-19T20:30:42.104291Z"
    },
    "papermill": {
     "duration": 0.061315,
     "end_time": "2021-04-19T20:30:42.104490",
     "exception": false,
     "start_time": "2021-04-19T20:30:42.043175",
     "status": "completed"
    },
    "tags": []
   },
   "outputs": [
    {
     "data": {
      "text/html": [
       "<div>\n",
       "<style scoped>\n",
       "    .dataframe tbody tr th:only-of-type {\n",
       "        vertical-align: middle;\n",
       "    }\n",
       "\n",
       "    .dataframe tbody tr th {\n",
       "        vertical-align: top;\n",
       "    }\n",
       "\n",
       "    .dataframe thead th {\n",
       "        text-align: right;\n",
       "    }\n",
       "</style>\n",
       "<table border=\"1\" class=\"dataframe\">\n",
       "  <thead>\n",
       "    <tr style=\"text-align: right;\">\n",
       "      <th></th>\n",
       "      <th>MSSubClass</th>\n",
       "      <th>MSZoning</th>\n",
       "      <th>LotFrontage</th>\n",
       "      <th>LotArea</th>\n",
       "      <th>Street</th>\n",
       "      <th>Alley</th>\n",
       "      <th>LotShape</th>\n",
       "      <th>LandContour</th>\n",
       "      <th>Utilities</th>\n",
       "      <th>LotConfig</th>\n",
       "      <th>...</th>\n",
       "      <th>ScreenPorch</th>\n",
       "      <th>PoolArea</th>\n",
       "      <th>PoolQC</th>\n",
       "      <th>Fence</th>\n",
       "      <th>MiscFeature</th>\n",
       "      <th>MiscVal</th>\n",
       "      <th>MoSold</th>\n",
       "      <th>YrSold</th>\n",
       "      <th>SaleType</th>\n",
       "      <th>SaleCondition</th>\n",
       "    </tr>\n",
       "  </thead>\n",
       "  <tbody>\n",
       "    <tr>\n",
       "      <th>0</th>\n",
       "      <td>20</td>\n",
       "      <td>RH</td>\n",
       "      <td>80.0</td>\n",
       "      <td>11622</td>\n",
       "      <td>Pave</td>\n",
       "      <td>NaN</td>\n",
       "      <td>Reg</td>\n",
       "      <td>Lvl</td>\n",
       "      <td>AllPub</td>\n",
       "      <td>Inside</td>\n",
       "      <td>...</td>\n",
       "      <td>120</td>\n",
       "      <td>0</td>\n",
       "      <td>NaN</td>\n",
       "      <td>MnPrv</td>\n",
       "      <td>NaN</td>\n",
       "      <td>0</td>\n",
       "      <td>6</td>\n",
       "      <td>2010</td>\n",
       "      <td>WD</td>\n",
       "      <td>Normal</td>\n",
       "    </tr>\n",
       "    <tr>\n",
       "      <th>1</th>\n",
       "      <td>20</td>\n",
       "      <td>RL</td>\n",
       "      <td>81.0</td>\n",
       "      <td>14267</td>\n",
       "      <td>Pave</td>\n",
       "      <td>NaN</td>\n",
       "      <td>IR1</td>\n",
       "      <td>Lvl</td>\n",
       "      <td>AllPub</td>\n",
       "      <td>Corner</td>\n",
       "      <td>...</td>\n",
       "      <td>0</td>\n",
       "      <td>0</td>\n",
       "      <td>NaN</td>\n",
       "      <td>NaN</td>\n",
       "      <td>Gar2</td>\n",
       "      <td>12500</td>\n",
       "      <td>6</td>\n",
       "      <td>2010</td>\n",
       "      <td>WD</td>\n",
       "      <td>Normal</td>\n",
       "    </tr>\n",
       "    <tr>\n",
       "      <th>2</th>\n",
       "      <td>60</td>\n",
       "      <td>RL</td>\n",
       "      <td>74.0</td>\n",
       "      <td>13830</td>\n",
       "      <td>Pave</td>\n",
       "      <td>NaN</td>\n",
       "      <td>IR1</td>\n",
       "      <td>Lvl</td>\n",
       "      <td>AllPub</td>\n",
       "      <td>Inside</td>\n",
       "      <td>...</td>\n",
       "      <td>0</td>\n",
       "      <td>0</td>\n",
       "      <td>NaN</td>\n",
       "      <td>MnPrv</td>\n",
       "      <td>NaN</td>\n",
       "      <td>0</td>\n",
       "      <td>3</td>\n",
       "      <td>2010</td>\n",
       "      <td>WD</td>\n",
       "      <td>Normal</td>\n",
       "    </tr>\n",
       "    <tr>\n",
       "      <th>3</th>\n",
       "      <td>60</td>\n",
       "      <td>RL</td>\n",
       "      <td>78.0</td>\n",
       "      <td>9978</td>\n",
       "      <td>Pave</td>\n",
       "      <td>NaN</td>\n",
       "      <td>IR1</td>\n",
       "      <td>Lvl</td>\n",
       "      <td>AllPub</td>\n",
       "      <td>Inside</td>\n",
       "      <td>...</td>\n",
       "      <td>0</td>\n",
       "      <td>0</td>\n",
       "      <td>NaN</td>\n",
       "      <td>NaN</td>\n",
       "      <td>NaN</td>\n",
       "      <td>0</td>\n",
       "      <td>6</td>\n",
       "      <td>2010</td>\n",
       "      <td>WD</td>\n",
       "      <td>Normal</td>\n",
       "    </tr>\n",
       "    <tr>\n",
       "      <th>4</th>\n",
       "      <td>120</td>\n",
       "      <td>RL</td>\n",
       "      <td>43.0</td>\n",
       "      <td>5005</td>\n",
       "      <td>Pave</td>\n",
       "      <td>NaN</td>\n",
       "      <td>IR1</td>\n",
       "      <td>HLS</td>\n",
       "      <td>AllPub</td>\n",
       "      <td>Inside</td>\n",
       "      <td>...</td>\n",
       "      <td>144</td>\n",
       "      <td>0</td>\n",
       "      <td>NaN</td>\n",
       "      <td>NaN</td>\n",
       "      <td>NaN</td>\n",
       "      <td>0</td>\n",
       "      <td>1</td>\n",
       "      <td>2010</td>\n",
       "      <td>WD</td>\n",
       "      <td>Normal</td>\n",
       "    </tr>\n",
       "  </tbody>\n",
       "</table>\n",
       "<p>5 rows × 79 columns</p>\n",
       "</div>"
      ],
      "text/plain": [
       "   MSSubClass MSZoning  LotFrontage  LotArea Street Alley LotShape  \\\n",
       "0          20       RH         80.0    11622   Pave   NaN      Reg   \n",
       "1          20       RL         81.0    14267   Pave   NaN      IR1   \n",
       "2          60       RL         74.0    13830   Pave   NaN      IR1   \n",
       "3          60       RL         78.0     9978   Pave   NaN      IR1   \n",
       "4         120       RL         43.0     5005   Pave   NaN      IR1   \n",
       "\n",
       "  LandContour Utilities LotConfig  ... ScreenPorch PoolArea PoolQC  Fence  \\\n",
       "0         Lvl    AllPub    Inside  ...         120        0    NaN  MnPrv   \n",
       "1         Lvl    AllPub    Corner  ...           0        0    NaN    NaN   \n",
       "2         Lvl    AllPub    Inside  ...           0        0    NaN  MnPrv   \n",
       "3         Lvl    AllPub    Inside  ...           0        0    NaN    NaN   \n",
       "4         HLS    AllPub    Inside  ...         144        0    NaN    NaN   \n",
       "\n",
       "  MiscFeature MiscVal  MoSold  YrSold  SaleType  SaleCondition  \n",
       "0         NaN       0       6    2010        WD         Normal  \n",
       "1        Gar2   12500       6    2010        WD         Normal  \n",
       "2         NaN       0       3    2010        WD         Normal  \n",
       "3         NaN       0       6    2010        WD         Normal  \n",
       "4         NaN       0       1    2010        WD         Normal  \n",
       "\n",
       "[5 rows x 79 columns]"
      ]
     },
     "execution_count": 10,
     "metadata": {},
     "output_type": "execute_result"
    }
   ],
   "source": [
    "#preview the testing data set\n",
    "x_test.head()"
   ]
  },
  {
   "cell_type": "code",
   "execution_count": 11,
   "metadata": {
    "execution": {
     "iopub.execute_input": "2021-04-19T20:30:42.170775Z",
     "iopub.status.busy": "2021-04-19T20:30:42.170132Z",
     "iopub.status.idle": "2021-04-19T20:30:42.178187Z",
     "shell.execute_reply": "2021-04-19T20:30:42.178757Z"
    },
    "papermill": {
     "duration": 0.042812,
     "end_time": "2021-04-19T20:30:42.178972",
     "exception": false,
     "start_time": "2021-04-19T20:30:42.136160",
     "status": "completed"
    },
    "tags": []
   },
   "outputs": [
    {
     "name": "stdout",
     "output_type": "stream",
     "text": [
      "Number of Numerical features:  36\n",
      "Number of Categorical features:  43\n"
     ]
    }
   ],
   "source": [
    "numerical_feats = x_train.dtypes[x_train.dtypes != \"object\"].index\n",
    "print(\"Number of Numerical features: \", len(numerical_feats))\n",
    "\n",
    "categorical_feats = x_train.dtypes[x_train.dtypes == \"object\"].index\n",
    "print(\"Number of Categorical features: \", len(categorical_feats))"
   ]
  },
  {
   "cell_type": "code",
   "execution_count": 12,
   "metadata": {
    "execution": {
     "iopub.execute_input": "2021-04-19T20:30:42.246408Z",
     "iopub.status.busy": "2021-04-19T20:30:42.245720Z",
     "iopub.status.idle": "2021-04-19T20:30:42.305739Z",
     "shell.execute_reply": "2021-04-19T20:30:42.305093Z"
    },
    "papermill": {
     "duration": 0.095634,
     "end_time": "2021-04-19T20:30:42.305916",
     "exception": false,
     "start_time": "2021-04-19T20:30:42.210282",
     "status": "completed"
    },
    "tags": []
   },
   "outputs": [
    {
     "data": {
      "text/html": [
       "<div>\n",
       "<style scoped>\n",
       "    .dataframe tbody tr th:only-of-type {\n",
       "        vertical-align: middle;\n",
       "    }\n",
       "\n",
       "    .dataframe tbody tr th {\n",
       "        vertical-align: top;\n",
       "    }\n",
       "\n",
       "    .dataframe thead th {\n",
       "        text-align: right;\n",
       "    }\n",
       "</style>\n",
       "<table border=\"1\" class=\"dataframe\">\n",
       "  <thead>\n",
       "    <tr style=\"text-align: right;\">\n",
       "      <th></th>\n",
       "      <th>Total</th>\n",
       "      <th>Percent</th>\n",
       "    </tr>\n",
       "  </thead>\n",
       "  <tbody>\n",
       "    <tr>\n",
       "      <th>PoolQC</th>\n",
       "      <td>1453</td>\n",
       "      <td>0.995205</td>\n",
       "    </tr>\n",
       "    <tr>\n",
       "      <th>MiscFeature</th>\n",
       "      <td>1406</td>\n",
       "      <td>0.963014</td>\n",
       "    </tr>\n",
       "    <tr>\n",
       "      <th>Alley</th>\n",
       "      <td>1369</td>\n",
       "      <td>0.937671</td>\n",
       "    </tr>\n",
       "    <tr>\n",
       "      <th>Fence</th>\n",
       "      <td>1179</td>\n",
       "      <td>0.807534</td>\n",
       "    </tr>\n",
       "    <tr>\n",
       "      <th>FireplaceQu</th>\n",
       "      <td>690</td>\n",
       "      <td>0.472603</td>\n",
       "    </tr>\n",
       "    <tr>\n",
       "      <th>LotFrontage</th>\n",
       "      <td>259</td>\n",
       "      <td>0.177397</td>\n",
       "    </tr>\n",
       "    <tr>\n",
       "      <th>GarageType</th>\n",
       "      <td>81</td>\n",
       "      <td>0.055479</td>\n",
       "    </tr>\n",
       "    <tr>\n",
       "      <th>GarageYrBlt</th>\n",
       "      <td>81</td>\n",
       "      <td>0.055479</td>\n",
       "    </tr>\n",
       "    <tr>\n",
       "      <th>GarageQual</th>\n",
       "      <td>81</td>\n",
       "      <td>0.055479</td>\n",
       "    </tr>\n",
       "    <tr>\n",
       "      <th>GarageCond</th>\n",
       "      <td>81</td>\n",
       "      <td>0.055479</td>\n",
       "    </tr>\n",
       "  </tbody>\n",
       "</table>\n",
       "</div>"
      ],
      "text/plain": [
       "             Total   Percent\n",
       "PoolQC        1453  0.995205\n",
       "MiscFeature   1406  0.963014\n",
       "Alley         1369  0.937671\n",
       "Fence         1179  0.807534\n",
       "FireplaceQu    690  0.472603\n",
       "LotFrontage    259  0.177397\n",
       "GarageType      81  0.055479\n",
       "GarageYrBlt     81  0.055479\n",
       "GarageQual      81  0.055479\n",
       "GarageCond      81  0.055479"
      ]
     },
     "execution_count": 12,
     "metadata": {},
     "output_type": "execute_result"
    }
   ],
   "source": [
    "total = x_train.isnull().sum().sort_values(ascending=False)\n",
    "percent = (x_train.isnull().sum()/x_train.isnull().count()).sort_values(ascending=False)\n",
    "missing_data = pd.concat([total, percent], axis=1, keys=['Total', 'Percent'])\n",
    "missing_data.head(10)"
   ]
  },
  {
   "cell_type": "code",
   "execution_count": 13,
   "metadata": {
    "execution": {
     "iopub.execute_input": "2021-04-19T20:30:42.378214Z",
     "iopub.status.busy": "2021-04-19T20:30:42.377321Z",
     "iopub.status.idle": "2021-04-19T20:30:42.380816Z",
     "shell.execute_reply": "2021-04-19T20:30:42.381539Z"
    },
    "papermill": {
     "duration": 0.043047,
     "end_time": "2021-04-19T20:30:42.381761",
     "exception": false,
     "start_time": "2021-04-19T20:30:42.338714",
     "status": "completed"
    },
    "tags": []
   },
   "outputs": [
    {
     "name": "stdout",
     "output_type": "stream",
     "text": [
      "Index(['MSZoning', 'Street', 'Alley', 'LotShape', 'LandContour', 'Utilities',\n",
      "       'LotConfig', 'LandSlope', 'Neighborhood', 'Condition1', 'Condition2',\n",
      "       'BldgType', 'HouseStyle', 'RoofStyle', 'RoofMatl', 'Exterior1st',\n",
      "       'Exterior2nd', 'MasVnrType', 'ExterQual', 'ExterCond', 'Foundation',\n",
      "       'BsmtQual', 'BsmtCond', 'BsmtExposure', 'BsmtFinType1', 'BsmtFinType2',\n",
      "       'Heating', 'HeatingQC', 'CentralAir', 'Electrical', 'KitchenQual',\n",
      "       'Functional', 'FireplaceQu', 'GarageType', 'GarageFinish', 'GarageQual',\n",
      "       'GarageCond', 'PavedDrive', 'PoolQC', 'Fence', 'MiscFeature',\n",
      "       'SaleType', 'SaleCondition'],\n",
      "      dtype='object')\n"
     ]
    }
   ],
   "source": [
    "# Non-numeric variables that require attention\n",
    "non_num_vars = x_train.dtypes[x_train.dtypes=='object'].index\n",
    "print(non_num_vars)"
   ]
  },
  {
   "cell_type": "code",
   "execution_count": 14,
   "metadata": {
    "execution": {
     "iopub.execute_input": "2021-04-19T20:30:42.457748Z",
     "iopub.status.busy": "2021-04-19T20:30:42.456747Z",
     "iopub.status.idle": "2021-04-19T20:30:42.492115Z",
     "shell.execute_reply": "2021-04-19T20:30:42.492639Z"
    },
    "papermill": {
     "duration": 0.076938,
     "end_time": "2021-04-19T20:30:42.492897",
     "exception": false,
     "start_time": "2021-04-19T20:30:42.415959",
     "status": "completed"
    },
    "tags": []
   },
   "outputs": [],
   "source": [
    "# Replace object/string values with categorial values from the \"data_description\" file from Kaggle\n",
    "mappings = dict(\n",
    "MSZoning_mapping      = {'nan':0, 'A':1, 'C (all)':2, 'FV':3, 'I':4, 'RH':5, 'RL':6, 'RP':7, 'RM':8},\n",
    "Street_mapping        = {'nan':0, 'Grvl':1, 'Pave':2},\n",
    "Alley_mapping         = {'nan':0, 'Grvl':1, 'Pave':2, 'NaN':0},\n",
    "LotShape_mapping      = {'nan':0, 'Reg':1, 'IR1':2, 'IR2':3, 'IR3':4 },\n",
    "LandContour_mapping   = {'nan':0, 'Lvl':1, 'Bnk':2, 'HLS':3, 'Low':4},\n",
    "Utilities_mapping     = {'nan':0, 'AllPub':1, 'NoSewr':2, 'NoSeWa':3, 'ELO':4},\n",
    "LotConfig_mapping     = {'nan':0, 'Inside':1, 'Corner':2, 'CulDSac':3, 'FR2':4, 'FR3':5},\n",
    "LandSlope_mapping     = {'nan':0, 'Gtl':1, 'Mod':2, 'Sev':3},\n",
    "Neighborhood_mapping  = {'nan':0, 'Blmngtn':1, 'Blueste':2, 'BrDale':3, 'BrkSide':4, 'ClearCr':5, 'CollgCr':6, 'Crawfor':7,\n",
    "                         'Edwards':8, 'Gilbert':9, 'IDOTRR':10, 'MeadowV':11, 'Mitchel':12, 'NAmes':13, 'NoRidge':14, \n",
    "                         'NPkVill':15, 'NridgHt':16, 'NWAmes':17, 'OldTown':18, 'SWISU':19, 'Sawyer':20, 'SawyerW':21, \n",
    "                         'Somerst':22, 'StoneBr':23, 'Timber':24, 'Veenker':25},\n",
    "Condition1_mapping    = {'nan':0, 'Artery':1, 'Feedr':2, 'Norm':3, 'RRNn':4, 'RRAn':5, 'PosN':6, 'PosA':7, 'RRNe':8, 'RRAe':9},\n",
    "Condition2_mapping    = {'nan':0, 'Artery':1, 'Feedr':2, 'Norm':3, 'RRNn':4, 'RRAn':5, 'PosN':6, 'PosA':7, 'RRNe':8, 'RRAe':9},\n",
    "BldgType_mapping      = {'nan':0, '1Fam':1, '2fmCon':2, 'Duplex':3, 'Twnhs':4, 'TwnhsE':4, 'TwnhsI':5},\n",
    "HouseStyle_mapping    = {'nan':0, '1Story':1, '1.5Fin':2, '1.5Unf':3, '2Story':4, '2.5Fin':5, '2.5Unf':6, 'SFoyer':7, 'SLvl':8},\n",
    "RoofStyle_mapping     = {'nan':0, 'Flat':1, 'Gable':2, 'Gambrel':3, 'Hip':4, 'Mansard':5, 'Shed':6},\n",
    "RoofMatl_mapping      = {'nan':0, 'ClyTile':1, 'CompShg':2, 'Membran':3, 'Metal':4, \n",
    "                         'Roll':5, 'Tar&Grv':6, 'WdShake':7, 'WdShngl':8},\n",
    "Exterior1st_mapping   = {'nan':0, 'AsbShng':1, 'AsphShn':2, 'BrkComm':3, 'BrkFace':4, 'CBlock':5, 'CemntBd':6, \n",
    "                         'HdBoard':7, 'ImStucc':8, 'MetalSd':9, 'Other':10, 'Plywood':11, 'PreCast':12, 'Stone':13, \n",
    "                         'Stucco':14, 'VinylSd':15,'Wd Sdng':16, 'WdShing':17},\n",
    "Exterior2nd_mapping   = {'nan':0, 'AsbShng':1, 'AsphShn':2, 'Brk Cmn':3, 'BrkFace':4, 'CBlock':5, 'CmentBd':6, \n",
    "                         'HdBoard':7, 'ImStucc':8, 'MetalSd':9, 'Other':10, 'Plywood':11, 'PreCast':12, 'Stone':13, \n",
    "                         'Stucco':14, 'VinylSd':15, 'Wd Shng':16, 'Wd Sdng':16, 'WdShing':17},\n",
    "MasVnrType_mapping    = {'nan':0, 'BrkCmn':1, 'BrkFace':2, 'CBlock':3, 'None':4, 'Stone':5},\n",
    "ExterQual_mapping     = {'nan':0, 'Ex':1, 'Gd':2, 'TA':3, 'Fa':4, 'Po':5},\n",
    "ExterCond_mapping     = {'nan':0, 'Ex':1, 'Gd':2, 'TA':3, 'Fa':4, 'Po':5},\n",
    "Foundation_mapping    = {'nan':0, 'BrkTil':1, 'CBlock':2, 'PConc':3, 'Slab':4, 'Stone':5, 'Wood':6},\n",
    "BsmtQual_mapping      = {'nan':0, 'Ex':1, 'Gd':2, 'TA':3, 'Fa':4, 'Po':5, 'NA':0},\n",
    "BsmtCond_mapping      = {'nan':0, 'Ex':1, 'Gd':2, 'TA':3, 'Fa':4, 'Po':5, 'NA':0},\n",
    "BsmtExposure_mapping  = {'nan':0, 'Gd':1, 'Av':2, 'Mn':3, 'No':4, 'NA':5},\n",
    "BsmtFinType1_mapping  = {'nan':0, 'GLQ':1, 'ALQ':2, 'BLQ':3, 'Rec':4, 'LwQ':5, 'Unf':6, 'NA':0},\n",
    "BsmtFinType2_mapping  = {'nan':0, 'GLQ':1, 'ALQ':2, 'BLQ':3, 'Rec':4, 'LwQ':5, 'Unf':6, 'NA':0},\n",
    "Heating_mapping       = {'nan':0, 'Floor':1, 'GasA':2, 'GasW':3, 'Grav':4, 'OthW':5, 'Wall':6},\n",
    "HeatingQC_mapping     = {'nan':0, 'Ex':1, 'Gd':2, 'TA':3, 'Fa':4, 'Po':5},\n",
    "CentralAir_mapping    = {'nan':0, 'N':1, 'Y':2},\n",
    "Electrical_mapping    = {'nan':0, 'SBrkr':1, 'FuseA':2, 'FuseF':3, 'FuseP':4, 'Mix':5},\n",
    "KitchenQual_mapping   = {'nan':0, 'Ex':1, 'Gd':2, 'TA':3, 'Fa':4, 'Po':5},\n",
    "Functional_mapping    = {'nan':0, 'Typ':1, 'Min1':2, 'Min2':3, 'Mod':4, 'Maj1':5, 'Maj2':6, 'Sev':7, 'Sal':8},\n",
    "FireplaceQu_mapping   = {'nan':0, 'Ex':1, 'Gd':2, 'TA':3, 'Fa':4, 'Po':5, 'NA':0},\n",
    "GarageType_mapping    = {'nan':0, '2Types':1, 'Attchd':2, 'Basment':3, 'BuiltIn':4, 'CarPort':5, 'Detchd':6, 'NA':0},\n",
    "GarageFinish_mapping  = {'nan':0, 'Fin':1, 'RFn':2, 'Unf':3, 'NA':0},\n",
    "GarageQual_mapping    = {'nan':0, 'Ex':1, 'Gd':2, 'TA':3, 'Fa':4, 'Po':5, 'NA':0},\n",
    "GarageCond_mapping    = {'nan':0, 'Ex':1, 'Gd':2, 'TA':3, 'Fa':4, 'Po':5, 'NA':0},\n",
    "PavedDrive_mapping    = {'nan':0, 'Y':1, 'P':2, 'N':3},\n",
    "PoolQC_mapping        = {'nan':0, 'Ex':1, 'Gd':2, 'TA':3, 'Fa':4, 'NA':0},\n",
    "Fence_mapping         = {'nan':0, 'GdPrv':1, 'MnPrv':2, 'GdWo':3, 'MnWw':4, 'NA':0},\n",
    "MiscFeature_mapping   = {'nan':0, 'Elev':1, 'Gar2':2, 'Othr':3, 'Shed':4, 'TenC':5, 'NA':0},\n",
    "SaleType_mapping      = {'nan':0, 'WD':1, 'CWD':2, 'VWD':3, 'New':4, 'COD':5, 'Con':6, 'ConLw':7, 'ConLI':8,\n",
    "                         'ConLD':9, 'Oth':10},\n",
    "SaleCondition_mapping = {'nan':0, 'Normal':1, 'Abnorml':2, 'AdjLand':3, 'Alloca':4, 'Family':5, 'Partial':6})"
   ]
  },
  {
   "cell_type": "code",
   "execution_count": 15,
   "metadata": {
    "execution": {
     "iopub.execute_input": "2021-04-19T20:30:42.563291Z",
     "iopub.status.busy": "2021-04-19T20:30:42.562588Z",
     "iopub.status.idle": "2021-04-19T20:30:42.827757Z",
     "shell.execute_reply": "2021-04-19T20:30:42.827101Z"
    },
    "papermill": {
     "duration": 0.302318,
     "end_time": "2021-04-19T20:30:42.827935",
     "exception": false,
     "start_time": "2021-04-19T20:30:42.525617",
     "status": "completed"
    },
    "tags": []
   },
   "outputs": [
    {
     "name": "stdout",
     "output_type": "stream",
     "text": [
      "x_train (1460, 79) | y_train (1460,) \n",
      "x_test  (1459, 79)\n"
     ]
    }
   ],
   "source": [
    "x_train = x_train.replace({list(non_num_vars)[k] : list(mappings.values())[k] \n",
    "                           for k in np.arange(len(list(non_num_vars)))}).fillna(0)\n",
    "x_test  = x_test.replace({list(non_num_vars)[k] : list(mappings.values())[k] \n",
    "                           for k in np.arange(len(list(non_num_vars)))}).fillna(0)\n",
    "\n",
    "print('x_train {} | y_train {} \\nx_test  {}'.format(x_train.shape, y_train.shape, x_test.shape))"
   ]
  },
  {
   "cell_type": "code",
   "execution_count": 16,
   "metadata": {
    "execution": {
     "iopub.execute_input": "2021-04-19T20:30:42.902359Z",
     "iopub.status.busy": "2021-04-19T20:30:42.901422Z",
     "iopub.status.idle": "2021-04-19T20:30:42.906845Z",
     "shell.execute_reply": "2021-04-19T20:30:42.907359Z"
    },
    "papermill": {
     "duration": 0.046089,
     "end_time": "2021-04-19T20:30:42.907541",
     "exception": false,
     "start_time": "2021-04-19T20:30:42.861452",
     "status": "completed"
    },
    "tags": []
   },
   "outputs": [
    {
     "name": "stdout",
     "output_type": "stream",
     "text": [
      "Number of Numerical features:  79\n",
      "Number of Categorical features:  0\n"
     ]
    }
   ],
   "source": [
    "numerical_feats = x_train.dtypes[x_train.dtypes != \"object\"].index\n",
    "print(\"Number of Numerical features: \", len(numerical_feats))\n",
    "\n",
    "categorical_feats = x_train.dtypes[x_train.dtypes == \"object\"].index\n",
    "print(\"Number of Categorical features: \", len(categorical_feats))"
   ]
  },
  {
   "cell_type": "markdown",
   "metadata": {
    "papermill": {
     "duration": 0.034878,
     "end_time": "2021-04-19T20:30:42.976592",
     "exception": false,
     "start_time": "2021-04-19T20:30:42.941714",
     "status": "completed"
    },
    "tags": []
   },
   "source": [
    "***"
   ]
  },
  {
   "cell_type": "code",
   "execution_count": 17,
   "metadata": {
    "execution": {
     "iopub.execute_input": "2021-04-19T20:30:43.058816Z",
     "iopub.status.busy": "2021-04-19T20:30:43.058097Z",
     "iopub.status.idle": "2021-04-19T20:30:43.075296Z",
     "shell.execute_reply": "2021-04-19T20:30:43.076099Z"
    },
    "papermill": {
     "duration": 0.064388,
     "end_time": "2021-04-19T20:30:43.076365",
     "exception": false,
     "start_time": "2021-04-19T20:30:43.011977",
     "status": "completed"
    },
    "scrolled": true,
    "tags": []
   },
   "outputs": [
    {
     "name": "stdout",
     "output_type": "stream",
     "text": [
      "[[ 1.    0.08 -0.22 ... -0.   -0.04 -0.08]\n",
      " [ 0.08  1.   -0.07 ... -0.13 -0.16 -0.21]\n",
      " [-0.22 -0.07  1.   ...  0.11  0.18  0.21]\n",
      " ...\n",
      " [-0.   -0.13  0.11 ...  1.    0.54  0.15]\n",
      " [-0.04 -0.16  0.18 ...  0.54  1.    0.29]\n",
      " [-0.08 -0.21  0.21 ...  0.15  0.29  1.  ]]\n"
     ]
    }
   ],
   "source": [
    "corr_mat = np.corrcoef(x_train.join(y_train),rowvar = False)\n",
    "corr_vec = corr_mat[:-1,-1]   #correlation of features to target only\n",
    "print(corr_mat.round(2))            "
   ]
  },
  {
   "cell_type": "code",
   "execution_count": 18,
   "metadata": {
    "execution": {
     "iopub.execute_input": "2021-04-19T20:30:43.160145Z",
     "iopub.status.busy": "2021-04-19T20:30:43.159347Z",
     "iopub.status.idle": "2021-04-19T20:30:43.170182Z",
     "shell.execute_reply": "2021-04-19T20:30:43.170774Z"
    },
    "papermill": {
     "duration": 0.058942,
     "end_time": "2021-04-19T20:30:43.170979",
     "exception": false,
     "start_time": "2021-04-19T20:30:43.112037",
     "status": "completed"
    },
    "tags": []
   },
   "outputs": [
    {
     "data": {
      "text/html": [
       "<div>\n",
       "<style scoped>\n",
       "    .dataframe tbody tr th:only-of-type {\n",
       "        vertical-align: middle;\n",
       "    }\n",
       "\n",
       "    .dataframe tbody tr th {\n",
       "        vertical-align: top;\n",
       "    }\n",
       "\n",
       "    .dataframe thead th {\n",
       "        text-align: right;\n",
       "    }\n",
       "</style>\n",
       "<table border=\"1\" class=\"dataframe\">\n",
       "  <thead>\n",
       "    <tr style=\"text-align: right;\">\n",
       "      <th></th>\n",
       "      <th>ExterQual</th>\n",
       "      <th>KitchenQual</th>\n",
       "      <th>OverallQual</th>\n",
       "      <th>TotalBsmtSF</th>\n",
       "      <th>1stFlrSF</th>\n",
       "      <th>GrLivArea</th>\n",
       "      <th>GarageCars</th>\n",
       "      <th>GarageArea</th>\n",
       "    </tr>\n",
       "  </thead>\n",
       "  <tbody>\n",
       "    <tr>\n",
       "      <th>0</th>\n",
       "      <td>2</td>\n",
       "      <td>2</td>\n",
       "      <td>7</td>\n",
       "      <td>856</td>\n",
       "      <td>856</td>\n",
       "      <td>1710</td>\n",
       "      <td>2</td>\n",
       "      <td>548</td>\n",
       "    </tr>\n",
       "    <tr>\n",
       "      <th>1</th>\n",
       "      <td>3</td>\n",
       "      <td>3</td>\n",
       "      <td>6</td>\n",
       "      <td>1262</td>\n",
       "      <td>1262</td>\n",
       "      <td>1262</td>\n",
       "      <td>2</td>\n",
       "      <td>460</td>\n",
       "    </tr>\n",
       "    <tr>\n",
       "      <th>2</th>\n",
       "      <td>2</td>\n",
       "      <td>2</td>\n",
       "      <td>7</td>\n",
       "      <td>920</td>\n",
       "      <td>920</td>\n",
       "      <td>1786</td>\n",
       "      <td>2</td>\n",
       "      <td>608</td>\n",
       "    </tr>\n",
       "    <tr>\n",
       "      <th>3</th>\n",
       "      <td>3</td>\n",
       "      <td>2</td>\n",
       "      <td>7</td>\n",
       "      <td>756</td>\n",
       "      <td>961</td>\n",
       "      <td>1717</td>\n",
       "      <td>3</td>\n",
       "      <td>642</td>\n",
       "    </tr>\n",
       "    <tr>\n",
       "      <th>4</th>\n",
       "      <td>2</td>\n",
       "      <td>2</td>\n",
       "      <td>8</td>\n",
       "      <td>1145</td>\n",
       "      <td>1145</td>\n",
       "      <td>2198</td>\n",
       "      <td>3</td>\n",
       "      <td>836</td>\n",
       "    </tr>\n",
       "    <tr>\n",
       "      <th>...</th>\n",
       "      <td>...</td>\n",
       "      <td>...</td>\n",
       "      <td>...</td>\n",
       "      <td>...</td>\n",
       "      <td>...</td>\n",
       "      <td>...</td>\n",
       "      <td>...</td>\n",
       "      <td>...</td>\n",
       "    </tr>\n",
       "    <tr>\n",
       "      <th>1455</th>\n",
       "      <td>3</td>\n",
       "      <td>3</td>\n",
       "      <td>6</td>\n",
       "      <td>953</td>\n",
       "      <td>953</td>\n",
       "      <td>1647</td>\n",
       "      <td>2</td>\n",
       "      <td>460</td>\n",
       "    </tr>\n",
       "    <tr>\n",
       "      <th>1456</th>\n",
       "      <td>3</td>\n",
       "      <td>3</td>\n",
       "      <td>6</td>\n",
       "      <td>1542</td>\n",
       "      <td>2073</td>\n",
       "      <td>2073</td>\n",
       "      <td>2</td>\n",
       "      <td>500</td>\n",
       "    </tr>\n",
       "    <tr>\n",
       "      <th>1457</th>\n",
       "      <td>1</td>\n",
       "      <td>2</td>\n",
       "      <td>7</td>\n",
       "      <td>1152</td>\n",
       "      <td>1188</td>\n",
       "      <td>2340</td>\n",
       "      <td>1</td>\n",
       "      <td>252</td>\n",
       "    </tr>\n",
       "    <tr>\n",
       "      <th>1458</th>\n",
       "      <td>3</td>\n",
       "      <td>2</td>\n",
       "      <td>5</td>\n",
       "      <td>1078</td>\n",
       "      <td>1078</td>\n",
       "      <td>1078</td>\n",
       "      <td>1</td>\n",
       "      <td>240</td>\n",
       "    </tr>\n",
       "    <tr>\n",
       "      <th>1459</th>\n",
       "      <td>2</td>\n",
       "      <td>3</td>\n",
       "      <td>5</td>\n",
       "      <td>1256</td>\n",
       "      <td>1256</td>\n",
       "      <td>1256</td>\n",
       "      <td>1</td>\n",
       "      <td>276</td>\n",
       "    </tr>\n",
       "  </tbody>\n",
       "</table>\n",
       "<p>1460 rows × 8 columns</p>\n",
       "</div>"
      ],
      "text/plain": [
       "      ExterQual  KitchenQual  OverallQual  TotalBsmtSF  1stFlrSF  GrLivArea  \\\n",
       "0             2            2            7          856       856       1710   \n",
       "1             3            3            6         1262      1262       1262   \n",
       "2             2            2            7          920       920       1786   \n",
       "3             3            2            7          756       961       1717   \n",
       "4             2            2            8         1145      1145       2198   \n",
       "...         ...          ...          ...          ...       ...        ...   \n",
       "1455          3            3            6          953       953       1647   \n",
       "1456          3            3            6         1542      2073       2073   \n",
       "1457          1            2            7         1152      1188       2340   \n",
       "1458          3            2            5         1078      1078       1078   \n",
       "1459          2            3            5         1256      1256       1256   \n",
       "\n",
       "      GarageCars  GarageArea  \n",
       "0              2         548  \n",
       "1              2         460  \n",
       "2              2         608  \n",
       "3              3         642  \n",
       "4              3         836  \n",
       "...          ...         ...  \n",
       "1455           2         460  \n",
       "1456           2         500  \n",
       "1457           1         252  \n",
       "1458           1         240  \n",
       "1459           1         276  \n",
       "\n",
       "[1460 rows x 8 columns]"
      ]
     },
     "execution_count": 18,
     "metadata": {},
     "output_type": "execute_result"
    }
   ],
   "source": [
    "#View features that have a +/- correlation greater than the user-specified corrrelation bound (corr_bound)\n",
    "corr_bound = 0.6\n",
    "corr_dat = (x_train.iloc[:, corr_vec<-corr_bound]).join(x_train.iloc[:, corr_vec>corr_bound])\n",
    "corr_dat"
   ]
  },
  {
   "cell_type": "code",
   "execution_count": 19,
   "metadata": {
    "execution": {
     "iopub.execute_input": "2021-04-19T20:30:43.252334Z",
     "iopub.status.busy": "2021-04-19T20:30:43.251429Z",
     "iopub.status.idle": "2021-04-19T20:30:43.430625Z",
     "shell.execute_reply": "2021-04-19T20:30:43.429959Z"
    },
    "papermill": {
     "duration": 0.223645,
     "end_time": "2021-04-19T20:30:43.430767",
     "exception": false,
     "start_time": "2021-04-19T20:30:43.207122",
     "status": "completed"
    },
    "tags": []
   },
   "outputs": [
    {
     "data": {
      "text/html": [
       "<div>\n",
       "<style scoped>\n",
       "    .dataframe tbody tr th:only-of-type {\n",
       "        vertical-align: middle;\n",
       "    }\n",
       "\n",
       "    .dataframe tbody tr th {\n",
       "        vertical-align: top;\n",
       "    }\n",
       "\n",
       "    .dataframe thead th {\n",
       "        text-align: right;\n",
       "    }\n",
       "</style>\n",
       "<table border=\"1\" class=\"dataframe\">\n",
       "  <thead>\n",
       "    <tr style=\"text-align: right;\">\n",
       "      <th></th>\n",
       "      <th>MSSubClass</th>\n",
       "      <th>MSZoning</th>\n",
       "      <th>LotFrontage</th>\n",
       "      <th>LotArea</th>\n",
       "      <th>Street</th>\n",
       "      <th>Alley</th>\n",
       "      <th>LotShape</th>\n",
       "      <th>LandContour</th>\n",
       "      <th>Utilities</th>\n",
       "      <th>LotConfig</th>\n",
       "      <th>...</th>\n",
       "      <th>ScreenPorch</th>\n",
       "      <th>PoolArea</th>\n",
       "      <th>PoolQC</th>\n",
       "      <th>Fence</th>\n",
       "      <th>MiscFeature</th>\n",
       "      <th>MiscVal</th>\n",
       "      <th>MoSold</th>\n",
       "      <th>YrSold</th>\n",
       "      <th>SaleType</th>\n",
       "      <th>SaleCondition</th>\n",
       "    </tr>\n",
       "  </thead>\n",
       "  <tbody>\n",
       "    <tr>\n",
       "      <th>count</th>\n",
       "      <td>1460.000000</td>\n",
       "      <td>1460.000000</td>\n",
       "      <td>1460.000000</td>\n",
       "      <td>1460.000000</td>\n",
       "      <td>1460.000000</td>\n",
       "      <td>1460.000000</td>\n",
       "      <td>1460.000000</td>\n",
       "      <td>1460.000000</td>\n",
       "      <td>1460.000000</td>\n",
       "      <td>1460.000000</td>\n",
       "      <td>...</td>\n",
       "      <td>1460.000000</td>\n",
       "      <td>1460.000000</td>\n",
       "      <td>1460.000000</td>\n",
       "      <td>1460.000000</td>\n",
       "      <td>1460.000000</td>\n",
       "      <td>1460.000000</td>\n",
       "      <td>1460.000000</td>\n",
       "      <td>1460.000000</td>\n",
       "      <td>1460.000000</td>\n",
       "      <td>1460.000000</td>\n",
       "    </tr>\n",
       "    <tr>\n",
       "      <th>mean</th>\n",
       "      <td>56.897260</td>\n",
       "      <td>6.126712</td>\n",
       "      <td>57.623288</td>\n",
       "      <td>10516.828082</td>\n",
       "      <td>1.995890</td>\n",
       "      <td>0.090411</td>\n",
       "      <td>1.408219</td>\n",
       "      <td>1.185616</td>\n",
       "      <td>1.001370</td>\n",
       "      <td>1.416438</td>\n",
       "      <td>...</td>\n",
       "      <td>15.060959</td>\n",
       "      <td>2.758904</td>\n",
       "      <td>0.010959</td>\n",
       "      <td>0.396575</td>\n",
       "      <td>0.144521</td>\n",
       "      <td>43.489041</td>\n",
       "      <td>6.321918</td>\n",
       "      <td>2007.815753</td>\n",
       "      <td>1.490411</td>\n",
       "      <td>1.582192</td>\n",
       "    </tr>\n",
       "    <tr>\n",
       "      <th>std</th>\n",
       "      <td>42.300571</td>\n",
       "      <td>1.050330</td>\n",
       "      <td>34.664304</td>\n",
       "      <td>9981.264932</td>\n",
       "      <td>0.063996</td>\n",
       "      <td>0.372151</td>\n",
       "      <td>0.582296</td>\n",
       "      <td>0.606509</td>\n",
       "      <td>0.052342</td>\n",
       "      <td>0.773448</td>\n",
       "      <td>...</td>\n",
       "      <td>55.757415</td>\n",
       "      <td>40.177307</td>\n",
       "      <td>0.177224</td>\n",
       "      <td>0.875914</td>\n",
       "      <td>0.742569</td>\n",
       "      <td>496.123024</td>\n",
       "      <td>2.703626</td>\n",
       "      <td>1.328095</td>\n",
       "      <td>1.368616</td>\n",
       "      <td>1.475209</td>\n",
       "    </tr>\n",
       "    <tr>\n",
       "      <th>min</th>\n",
       "      <td>20.000000</td>\n",
       "      <td>2.000000</td>\n",
       "      <td>0.000000</td>\n",
       "      <td>1300.000000</td>\n",
       "      <td>1.000000</td>\n",
       "      <td>0.000000</td>\n",
       "      <td>1.000000</td>\n",
       "      <td>1.000000</td>\n",
       "      <td>1.000000</td>\n",
       "      <td>1.000000</td>\n",
       "      <td>...</td>\n",
       "      <td>0.000000</td>\n",
       "      <td>0.000000</td>\n",
       "      <td>0.000000</td>\n",
       "      <td>0.000000</td>\n",
       "      <td>0.000000</td>\n",
       "      <td>0.000000</td>\n",
       "      <td>1.000000</td>\n",
       "      <td>2006.000000</td>\n",
       "      <td>1.000000</td>\n",
       "      <td>1.000000</td>\n",
       "    </tr>\n",
       "    <tr>\n",
       "      <th>25%</th>\n",
       "      <td>20.000000</td>\n",
       "      <td>6.000000</td>\n",
       "      <td>42.000000</td>\n",
       "      <td>7553.500000</td>\n",
       "      <td>2.000000</td>\n",
       "      <td>0.000000</td>\n",
       "      <td>1.000000</td>\n",
       "      <td>1.000000</td>\n",
       "      <td>1.000000</td>\n",
       "      <td>1.000000</td>\n",
       "      <td>...</td>\n",
       "      <td>0.000000</td>\n",
       "      <td>0.000000</td>\n",
       "      <td>0.000000</td>\n",
       "      <td>0.000000</td>\n",
       "      <td>0.000000</td>\n",
       "      <td>0.000000</td>\n",
       "      <td>5.000000</td>\n",
       "      <td>2007.000000</td>\n",
       "      <td>1.000000</td>\n",
       "      <td>1.000000</td>\n",
       "    </tr>\n",
       "    <tr>\n",
       "      <th>50%</th>\n",
       "      <td>50.000000</td>\n",
       "      <td>6.000000</td>\n",
       "      <td>63.000000</td>\n",
       "      <td>9478.500000</td>\n",
       "      <td>2.000000</td>\n",
       "      <td>0.000000</td>\n",
       "      <td>1.000000</td>\n",
       "      <td>1.000000</td>\n",
       "      <td>1.000000</td>\n",
       "      <td>1.000000</td>\n",
       "      <td>...</td>\n",
       "      <td>0.000000</td>\n",
       "      <td>0.000000</td>\n",
       "      <td>0.000000</td>\n",
       "      <td>0.000000</td>\n",
       "      <td>0.000000</td>\n",
       "      <td>0.000000</td>\n",
       "      <td>6.000000</td>\n",
       "      <td>2008.000000</td>\n",
       "      <td>1.000000</td>\n",
       "      <td>1.000000</td>\n",
       "    </tr>\n",
       "    <tr>\n",
       "      <th>75%</th>\n",
       "      <td>70.000000</td>\n",
       "      <td>6.000000</td>\n",
       "      <td>79.000000</td>\n",
       "      <td>11601.500000</td>\n",
       "      <td>2.000000</td>\n",
       "      <td>0.000000</td>\n",
       "      <td>2.000000</td>\n",
       "      <td>1.000000</td>\n",
       "      <td>1.000000</td>\n",
       "      <td>2.000000</td>\n",
       "      <td>...</td>\n",
       "      <td>0.000000</td>\n",
       "      <td>0.000000</td>\n",
       "      <td>0.000000</td>\n",
       "      <td>0.000000</td>\n",
       "      <td>0.000000</td>\n",
       "      <td>0.000000</td>\n",
       "      <td>8.000000</td>\n",
       "      <td>2009.000000</td>\n",
       "      <td>1.000000</td>\n",
       "      <td>1.000000</td>\n",
       "    </tr>\n",
       "    <tr>\n",
       "      <th>max</th>\n",
       "      <td>190.000000</td>\n",
       "      <td>8.000000</td>\n",
       "      <td>313.000000</td>\n",
       "      <td>215245.000000</td>\n",
       "      <td>2.000000</td>\n",
       "      <td>2.000000</td>\n",
       "      <td>4.000000</td>\n",
       "      <td>4.000000</td>\n",
       "      <td>3.000000</td>\n",
       "      <td>5.000000</td>\n",
       "      <td>...</td>\n",
       "      <td>480.000000</td>\n",
       "      <td>738.000000</td>\n",
       "      <td>4.000000</td>\n",
       "      <td>4.000000</td>\n",
       "      <td>5.000000</td>\n",
       "      <td>15500.000000</td>\n",
       "      <td>12.000000</td>\n",
       "      <td>2010.000000</td>\n",
       "      <td>10.000000</td>\n",
       "      <td>6.000000</td>\n",
       "    </tr>\n",
       "  </tbody>\n",
       "</table>\n",
       "<p>8 rows × 79 columns</p>\n",
       "</div>"
      ],
      "text/plain": [
       "        MSSubClass     MSZoning  LotFrontage        LotArea       Street  \\\n",
       "count  1460.000000  1460.000000  1460.000000    1460.000000  1460.000000   \n",
       "mean     56.897260     6.126712    57.623288   10516.828082     1.995890   \n",
       "std      42.300571     1.050330    34.664304    9981.264932     0.063996   \n",
       "min      20.000000     2.000000     0.000000    1300.000000     1.000000   \n",
       "25%      20.000000     6.000000    42.000000    7553.500000     2.000000   \n",
       "50%      50.000000     6.000000    63.000000    9478.500000     2.000000   \n",
       "75%      70.000000     6.000000    79.000000   11601.500000     2.000000   \n",
       "max     190.000000     8.000000   313.000000  215245.000000     2.000000   \n",
       "\n",
       "             Alley     LotShape  LandContour    Utilities    LotConfig  ...  \\\n",
       "count  1460.000000  1460.000000  1460.000000  1460.000000  1460.000000  ...   \n",
       "mean      0.090411     1.408219     1.185616     1.001370     1.416438  ...   \n",
       "std       0.372151     0.582296     0.606509     0.052342     0.773448  ...   \n",
       "min       0.000000     1.000000     1.000000     1.000000     1.000000  ...   \n",
       "25%       0.000000     1.000000     1.000000     1.000000     1.000000  ...   \n",
       "50%       0.000000     1.000000     1.000000     1.000000     1.000000  ...   \n",
       "75%       0.000000     2.000000     1.000000     1.000000     2.000000  ...   \n",
       "max       2.000000     4.000000     4.000000     3.000000     5.000000  ...   \n",
       "\n",
       "       ScreenPorch     PoolArea       PoolQC        Fence  MiscFeature  \\\n",
       "count  1460.000000  1460.000000  1460.000000  1460.000000  1460.000000   \n",
       "mean     15.060959     2.758904     0.010959     0.396575     0.144521   \n",
       "std      55.757415    40.177307     0.177224     0.875914     0.742569   \n",
       "min       0.000000     0.000000     0.000000     0.000000     0.000000   \n",
       "25%       0.000000     0.000000     0.000000     0.000000     0.000000   \n",
       "50%       0.000000     0.000000     0.000000     0.000000     0.000000   \n",
       "75%       0.000000     0.000000     0.000000     0.000000     0.000000   \n",
       "max     480.000000   738.000000     4.000000     4.000000     5.000000   \n",
       "\n",
       "            MiscVal       MoSold       YrSold     SaleType  SaleCondition  \n",
       "count   1460.000000  1460.000000  1460.000000  1460.000000    1460.000000  \n",
       "mean      43.489041     6.321918  2007.815753     1.490411       1.582192  \n",
       "std      496.123024     2.703626     1.328095     1.368616       1.475209  \n",
       "min        0.000000     1.000000  2006.000000     1.000000       1.000000  \n",
       "25%        0.000000     5.000000  2007.000000     1.000000       1.000000  \n",
       "50%        0.000000     6.000000  2008.000000     1.000000       1.000000  \n",
       "75%        0.000000     8.000000  2009.000000     1.000000       1.000000  \n",
       "max    15500.000000    12.000000  2010.000000    10.000000       6.000000  \n",
       "\n",
       "[8 rows x 79 columns]"
      ]
     },
     "execution_count": 19,
     "metadata": {},
     "output_type": "execute_result"
    }
   ],
   "source": [
    "#full training set basic statistics\n",
    "x_train.describe()"
   ]
  },
  {
   "cell_type": "code",
   "execution_count": 20,
   "metadata": {
    "execution": {
     "iopub.execute_input": "2021-04-19T20:30:43.511363Z",
     "iopub.status.busy": "2021-04-19T20:30:43.509149Z",
     "iopub.status.idle": "2021-04-19T20:30:43.542893Z",
     "shell.execute_reply": "2021-04-19T20:30:43.542349Z"
    },
    "papermill": {
     "duration": 0.075902,
     "end_time": "2021-04-19T20:30:43.543046",
     "exception": false,
     "start_time": "2021-04-19T20:30:43.467144",
     "status": "completed"
    },
    "tags": []
   },
   "outputs": [
    {
     "data": {
      "text/html": [
       "<div>\n",
       "<style scoped>\n",
       "    .dataframe tbody tr th:only-of-type {\n",
       "        vertical-align: middle;\n",
       "    }\n",
       "\n",
       "    .dataframe tbody tr th {\n",
       "        vertical-align: top;\n",
       "    }\n",
       "\n",
       "    .dataframe thead th {\n",
       "        text-align: right;\n",
       "    }\n",
       "</style>\n",
       "<table border=\"1\" class=\"dataframe\">\n",
       "  <thead>\n",
       "    <tr style=\"text-align: right;\">\n",
       "      <th></th>\n",
       "      <th>ExterQual</th>\n",
       "      <th>KitchenQual</th>\n",
       "      <th>OverallQual</th>\n",
       "      <th>TotalBsmtSF</th>\n",
       "      <th>1stFlrSF</th>\n",
       "      <th>GrLivArea</th>\n",
       "      <th>GarageCars</th>\n",
       "      <th>GarageArea</th>\n",
       "    </tr>\n",
       "  </thead>\n",
       "  <tbody>\n",
       "    <tr>\n",
       "      <th>count</th>\n",
       "      <td>1460.00000</td>\n",
       "      <td>1460.000000</td>\n",
       "      <td>1460.000000</td>\n",
       "      <td>1460.000000</td>\n",
       "      <td>1460.000000</td>\n",
       "      <td>1460.000000</td>\n",
       "      <td>1460.000000</td>\n",
       "      <td>1460.000000</td>\n",
       "    </tr>\n",
       "    <tr>\n",
       "      <th>mean</th>\n",
       "      <td>2.60411</td>\n",
       "      <td>2.488356</td>\n",
       "      <td>6.099315</td>\n",
       "      <td>1057.429452</td>\n",
       "      <td>1162.626712</td>\n",
       "      <td>1515.463699</td>\n",
       "      <td>1.767123</td>\n",
       "      <td>472.980137</td>\n",
       "    </tr>\n",
       "    <tr>\n",
       "      <th>std</th>\n",
       "      <td>0.57428</td>\n",
       "      <td>0.663760</td>\n",
       "      <td>1.382997</td>\n",
       "      <td>438.705324</td>\n",
       "      <td>386.587738</td>\n",
       "      <td>525.480383</td>\n",
       "      <td>0.747315</td>\n",
       "      <td>213.804841</td>\n",
       "    </tr>\n",
       "    <tr>\n",
       "      <th>min</th>\n",
       "      <td>1.00000</td>\n",
       "      <td>1.000000</td>\n",
       "      <td>1.000000</td>\n",
       "      <td>0.000000</td>\n",
       "      <td>334.000000</td>\n",
       "      <td>334.000000</td>\n",
       "      <td>0.000000</td>\n",
       "      <td>0.000000</td>\n",
       "    </tr>\n",
       "    <tr>\n",
       "      <th>25%</th>\n",
       "      <td>2.00000</td>\n",
       "      <td>2.000000</td>\n",
       "      <td>5.000000</td>\n",
       "      <td>795.750000</td>\n",
       "      <td>882.000000</td>\n",
       "      <td>1129.500000</td>\n",
       "      <td>1.000000</td>\n",
       "      <td>334.500000</td>\n",
       "    </tr>\n",
       "    <tr>\n",
       "      <th>50%</th>\n",
       "      <td>3.00000</td>\n",
       "      <td>3.000000</td>\n",
       "      <td>6.000000</td>\n",
       "      <td>991.500000</td>\n",
       "      <td>1087.000000</td>\n",
       "      <td>1464.000000</td>\n",
       "      <td>2.000000</td>\n",
       "      <td>480.000000</td>\n",
       "    </tr>\n",
       "    <tr>\n",
       "      <th>75%</th>\n",
       "      <td>3.00000</td>\n",
       "      <td>3.000000</td>\n",
       "      <td>7.000000</td>\n",
       "      <td>1298.250000</td>\n",
       "      <td>1391.250000</td>\n",
       "      <td>1776.750000</td>\n",
       "      <td>2.000000</td>\n",
       "      <td>576.000000</td>\n",
       "    </tr>\n",
       "    <tr>\n",
       "      <th>max</th>\n",
       "      <td>4.00000</td>\n",
       "      <td>4.000000</td>\n",
       "      <td>10.000000</td>\n",
       "      <td>6110.000000</td>\n",
       "      <td>4692.000000</td>\n",
       "      <td>5642.000000</td>\n",
       "      <td>4.000000</td>\n",
       "      <td>1418.000000</td>\n",
       "    </tr>\n",
       "  </tbody>\n",
       "</table>\n",
       "</div>"
      ],
      "text/plain": [
       "        ExterQual  KitchenQual  OverallQual  TotalBsmtSF     1stFlrSF  \\\n",
       "count  1460.00000  1460.000000  1460.000000  1460.000000  1460.000000   \n",
       "mean      2.60411     2.488356     6.099315  1057.429452  1162.626712   \n",
       "std       0.57428     0.663760     1.382997   438.705324   386.587738   \n",
       "min       1.00000     1.000000     1.000000     0.000000   334.000000   \n",
       "25%       2.00000     2.000000     5.000000   795.750000   882.000000   \n",
       "50%       3.00000     3.000000     6.000000   991.500000  1087.000000   \n",
       "75%       3.00000     3.000000     7.000000  1298.250000  1391.250000   \n",
       "max       4.00000     4.000000    10.000000  6110.000000  4692.000000   \n",
       "\n",
       "         GrLivArea   GarageCars   GarageArea  \n",
       "count  1460.000000  1460.000000  1460.000000  \n",
       "mean   1515.463699     1.767123   472.980137  \n",
       "std     525.480383     0.747315   213.804841  \n",
       "min     334.000000     0.000000     0.000000  \n",
       "25%    1129.500000     1.000000   334.500000  \n",
       "50%    1464.000000     2.000000   480.000000  \n",
       "75%    1776.750000     2.000000   576.000000  \n",
       "max    5642.000000     4.000000  1418.000000  "
      ]
     },
     "execution_count": 20,
     "metadata": {},
     "output_type": "execute_result"
    }
   ],
   "source": [
    "#main features (based on correlation coefficient) basic statistics\n",
    "corr_dat.describe()"
   ]
  },
  {
   "cell_type": "code",
   "execution_count": 21,
   "metadata": {
    "execution": {
     "iopub.execute_input": "2021-04-19T20:30:43.625254Z",
     "iopub.status.busy": "2021-04-19T20:30:43.623145Z",
     "iopub.status.idle": "2021-04-19T20:30:43.633274Z",
     "shell.execute_reply": "2021-04-19T20:30:43.632532Z"
    },
    "papermill": {
     "duration": 0.053352,
     "end_time": "2021-04-19T20:30:43.633426",
     "exception": false,
     "start_time": "2021-04-19T20:30:43.580074",
     "status": "completed"
    },
    "tags": []
   },
   "outputs": [
    {
     "data": {
      "text/plain": [
       "ExterQual     -0.682639\n",
       "KitchenQual   -0.659600\n",
       "OverallQual    0.790982\n",
       "TotalBsmtSF    0.613581\n",
       "1stFlrSF       0.605852\n",
       "GrLivArea      0.708624\n",
       "GarageCars     0.640409\n",
       "GarageArea     0.623431\n",
       "SalePrice      1.000000\n",
       "Name: SalePrice, dtype: float64"
      ]
     },
     "execution_count": 21,
     "metadata": {},
     "output_type": "execute_result"
    }
   ],
   "source": [
    "corr_dat.join(y_train).corr()['SalePrice']"
   ]
  },
  {
   "cell_type": "code",
   "execution_count": 22,
   "metadata": {
    "execution": {
     "iopub.execute_input": "2021-04-19T20:30:43.716908Z",
     "iopub.status.busy": "2021-04-19T20:30:43.716217Z",
     "iopub.status.idle": "2021-04-19T20:30:43.720217Z",
     "shell.execute_reply": "2021-04-19T20:30:43.719571Z"
    },
    "papermill": {
     "duration": 0.049794,
     "end_time": "2021-04-19T20:30:43.720359",
     "exception": false,
     "start_time": "2021-04-19T20:30:43.670565",
     "status": "completed"
    },
    "tags": []
   },
   "outputs": [
    {
     "name": "stdout",
     "output_type": "stream",
     "text": [
      "       SalePrice: Mean 1.809e+05 | Std. Dev 7.944e+04\n",
      "Log10(SalePrice): Mean 5.222     | Std. Dev 0.173\n"
     ]
    }
   ],
   "source": [
    "target = np.log10(y_train)\n",
    "print('       SalePrice: Mean {:.3e} | Std. Dev {:.3e}'.format(y_train.mean(), y_train.std()))\n",
    "print('Log10(SalePrice): Mean {:.3f}     | Std. Dev {:.3f}'.format(target.mean(), target.std()))"
   ]
  },
  {
   "cell_type": "code",
   "execution_count": 23,
   "metadata": {
    "execution": {
     "iopub.execute_input": "2021-04-19T20:30:43.803403Z",
     "iopub.status.busy": "2021-04-19T20:30:43.802675Z",
     "iopub.status.idle": "2021-04-19T20:30:43.814947Z",
     "shell.execute_reply": "2021-04-19T20:30:43.814358Z"
    },
    "papermill": {
     "duration": 0.057505,
     "end_time": "2021-04-19T20:30:43.815114",
     "exception": false,
     "start_time": "2021-04-19T20:30:43.757609",
     "status": "completed"
    },
    "tags": []
   },
   "outputs": [],
   "source": [
    "target_name = 'SalePrice'\n",
    "\n",
    "corr_abs = train_df.corr().abs()\n",
    "ser_corr = corr_abs.nlargest(len(numerical_feats), target_name)[target_name]\n",
    "\n",
    "cols_abv_corr_limit = list(ser_corr[ser_corr.values >= corr_bound].index)\n",
    "cols_bel_corr_limit = list(ser_corr[ser_corr.values < corr_bound].index)\n",
    "\n",
    "nr_feats = len(cols_abv_corr_limit)"
   ]
  },
  {
   "cell_type": "code",
   "execution_count": 24,
   "metadata": {
    "execution": {
     "iopub.execute_input": "2021-04-19T20:30:43.901103Z",
     "iopub.status.busy": "2021-04-19T20:30:43.900222Z",
     "iopub.status.idle": "2021-04-19T20:30:43.907047Z",
     "shell.execute_reply": "2021-04-19T20:30:43.906304Z"
    },
    "papermill": {
     "duration": 0.054739,
     "end_time": "2021-04-19T20:30:43.907204",
     "exception": false,
     "start_time": "2021-04-19T20:30:43.852465",
     "status": "completed"
    },
    "tags": []
   },
   "outputs": [],
   "source": [
    "scaler = StandardScaler()\n",
    "x_train_s = scaler.fit_transform(corr_dat)"
   ]
  },
  {
   "cell_type": "code",
   "execution_count": 25,
   "metadata": {
    "execution": {
     "iopub.execute_input": "2021-04-19T20:30:43.991878Z",
     "iopub.status.busy": "2021-04-19T20:30:43.991150Z",
     "iopub.status.idle": "2021-04-19T20:30:44.021219Z",
     "shell.execute_reply": "2021-04-19T20:30:44.022467Z"
    },
    "papermill": {
     "duration": 0.077446,
     "end_time": "2021-04-19T20:30:44.022756",
     "exception": false,
     "start_time": "2021-04-19T20:30:43.945310",
     "status": "completed"
    },
    "tags": []
   },
   "outputs": [
    {
     "name": "stdout",
     "output_type": "stream",
     "text": [
      "PC Variance Explained: [0.59394484 0.12746352 0.10382664 0.07290565]\n",
      "Cumulative Variance Explained: 0.8981\n"
     ]
    }
   ],
   "source": [
    "n_components = 4\n",
    "pca = PCA(n_components=n_components)\n",
    "pca.fit(x_train_s)\n",
    "\n",
    "#variance explained by each PC\n",
    "print('PC Variance Explained: {}'.format(pca.explained_variance_ratio_))\n",
    "print('Cumulative Variance Explained: {}'.format(np.sum(pca.explained_variance_ratio_).round(4)))"
   ]
  },
  {
   "cell_type": "code",
   "execution_count": 26,
   "metadata": {
    "execution": {
     "iopub.execute_input": "2021-04-19T20:30:44.149873Z",
     "iopub.status.busy": "2021-04-19T20:30:44.148855Z",
     "iopub.status.idle": "2021-04-19T20:30:44.151941Z",
     "shell.execute_reply": "2021-04-19T20:30:44.152608Z"
    },
    "papermill": {
     "duration": 0.060723,
     "end_time": "2021-04-19T20:30:44.152854",
     "exception": false,
     "start_time": "2021-04-19T20:30:44.092131",
     "status": "completed"
    },
    "tags": []
   },
   "outputs": [],
   "source": [
    "x_trans = pca.transform(x_train_s)  "
   ]
  },
  {
   "cell_type": "code",
   "execution_count": 27,
   "metadata": {
    "execution": {
     "iopub.execute_input": "2021-04-19T20:30:44.239022Z",
     "iopub.status.busy": "2021-04-19T20:30:44.238306Z",
     "iopub.status.idle": "2021-04-19T20:30:44.533887Z",
     "shell.execute_reply": "2021-04-19T20:30:44.534851Z"
    },
    "papermill": {
     "duration": 0.341545,
     "end_time": "2021-04-19T20:30:44.535132",
     "exception": false,
     "start_time": "2021-04-19T20:30:44.193587",
     "status": "completed"
    },
    "tags": []
   },
   "outputs": [],
   "source": [
    "n_clusters = 3\n",
    "kmeans = KMeans(n_clusters = n_clusters).fit(X=x_train_s, y=target).labels_\n",
    "hclust = AgglomerativeClustering(n_clusters = n_clusters).fit(X=x_train_s, y=target).labels_\n",
    "gmm    = GaussianMixture(n_components=n_clusters).fit_predict(X=x_train_s, y=target)"
   ]
  },
  {
   "cell_type": "code",
   "execution_count": 28,
   "metadata": {
    "execution": {
     "iopub.execute_input": "2021-04-19T20:30:44.672764Z",
     "iopub.status.busy": "2021-04-19T20:30:44.671765Z",
     "iopub.status.idle": "2021-04-19T20:30:44.684939Z",
     "shell.execute_reply": "2021-04-19T20:30:44.684176Z"
    },
    "papermill": {
     "duration": 0.079057,
     "end_time": "2021-04-19T20:30:44.685100",
     "exception": false,
     "start_time": "2021-04-19T20:30:44.606043",
     "status": "completed"
    },
    "tags": []
   },
   "outputs": [],
   "source": [
    "df_all = pd.concat([x_train, x_test])\n",
    "\n",
    "len_train = x_train.shape[0]"
   ]
  },
  {
   "cell_type": "code",
   "execution_count": 29,
   "metadata": {
    "execution": {
     "iopub.execute_input": "2021-04-19T20:30:44.772646Z",
     "iopub.status.busy": "2021-04-19T20:30:44.771904Z",
     "iopub.status.idle": "2021-04-19T20:30:44.795716Z",
     "shell.execute_reply": "2021-04-19T20:30:44.795135Z"
    },
    "papermill": {
     "duration": 0.072054,
     "end_time": "2021-04-19T20:30:44.795890",
     "exception": false,
     "start_time": "2021-04-19T20:30:44.723836",
     "status": "completed"
    },
    "tags": []
   },
   "outputs": [
    {
     "data": {
      "text/plain": [
       "array([[ 0.06733141, -0.10861873,  0.21607482, -0.21787869,  0.06424926,\n",
       "        -0.25355997, -0.70189976, -0.30847126,  0.        , -0.52215438,\n",
       "        -0.21626042, -1.24756925, -0.05704881, -0.02099186, -0.43148064,\n",
       "         0.74057214,  0.6461834 , -0.5072842 ,  1.0462576 ,  0.89683293,\n",
       "        -0.48292558, -0.11692303,  0.79453692,  0.79756559, -1.31848566,\n",
       "         0.52903417, -1.03980539,  0.23004678,  0.834618  , -0.44745004,\n",
       "         0.15158359,  0.65275866, -1.07980856,  0.58114542,  0.35402201,\n",
       "        -0.29302528, -0.93416481, -0.44307791, -0.1032061 , -0.88561933,\n",
       "         0.26828983, -0.27700532, -0.77386103,  1.20737855, -0.10119702,\n",
       "         0.41354722,  1.08733408, -0.24971861,  0.78136581,  1.23259887,\n",
       "         0.16992709, -0.20769847, -0.73567911,  0.98684937, -0.23598698,\n",
       "        -0.92431121, -0.94402138, -0.58514876,  0.29500243, -0.07043436,\n",
       "         0.30703976,  0.34936362,  0.17460855,  0.18712257, -0.31502962,\n",
       "        -0.74076041,  0.20000601, -0.35960075, -0.10333053, -0.28593546,\n",
       "        -0.06315017, -0.0514025 , -0.46058422, -0.19169834, -0.08959196,\n",
       "        -1.55218353,  0.15764553, -0.35773086, -0.39429845],\n",
       "       [-0.87361603, -0.10861873,  0.66415837, -0.07204408,  0.06424926,\n",
       "        -0.25355997, -0.70189976, -0.30847126,  0.        ,  3.37265474,\n",
       "        -0.21626042,  1.94303474, -1.12451974, -0.02099186, -0.43148064,\n",
       "        -0.78787241, -0.06318454,  2.18827876,  0.154764  , -0.39560419,\n",
       "        -0.48292558, -0.11692303, -0.67164363, -0.71238617,  0.53272148,\n",
       "        -0.56701595,  0.68375619,  0.23004678, -0.5410172 , -0.44745004,\n",
       "         0.15158359, -1.90941417, -0.60389716,  1.17825475,  0.35402201,\n",
       "        -0.29302528, -0.6292837 ,  0.47746322, -0.1032061 , -0.88561933,\n",
       "         0.26828983, -0.27700532,  0.26107478, -0.78502504, -0.10119702,\n",
       "        -0.47189065, -0.81892909,  3.82250834,  0.78136581, -0.75632103,\n",
       "         0.16992709, -0.20769847,  0.77130147, -0.28775829, -0.23598698,\n",
       "         0.62363166,  1.21272144, -0.58514876,  0.23495029, -0.07043436,\n",
       "         0.30703976, -0.0589914 ,  0.17460855,  0.18712257, -0.31502962,\n",
       "         1.6148793 , -0.70284277, -0.35960075, -0.10333053, -0.28593546,\n",
       "        -0.06315017, -0.0514025 , -0.46058422, -0.19169834, -0.08959196,\n",
       "        -0.44692486, -0.60296158, -0.35773086, -0.39429845],\n",
       "       [ 0.06733141, -0.10861873,  0.30569153,  0.13719688,  0.06424926,\n",
       "        -0.25355997,  1.05224869, -0.30847126,  0.        , -0.52215438,\n",
       "        -0.21626042, -1.24756925, -0.05704881, -0.02099186, -0.43148064,\n",
       "         0.74057214,  0.6461834 , -0.5072842 ,  0.98022103,  0.84896489,\n",
       "        -0.48292558, -0.11692303,  0.79453692,  0.79756559, -1.31848566,\n",
       "         0.33890302, -1.03980539,  0.23004678,  0.834618  , -0.44745004,\n",
       "         0.15158359, -0.20129895, -1.07980856,  0.09818934,  0.35402201,\n",
       "        -0.29302528, -0.28799887, -0.29796798, -0.1032061 , -0.88561933,\n",
       "         0.26828983, -0.27700532, -0.61071844,  1.23537485, -0.10119702,\n",
       "         0.56375543,  1.08733408, -0.24971861,  0.78136581,  1.23259887,\n",
       "         0.16992709, -0.20769847, -0.73567911, -0.28775829, -0.23598698,\n",
       "         0.62363166,  1.21272144, -0.58514876,  0.29055413, -0.07043436,\n",
       "         0.30703976,  0.62778749,  0.17460855,  0.18712257, -0.31502962,\n",
       "        -0.74076041, -0.08120918, -0.35960075, -0.10333053, -0.28593546,\n",
       "        -0.06315017, -0.0514025 , -0.46058422, -0.19169834, -0.08959196,\n",
       "         1.02675338,  0.15764553, -0.35773086, -0.39429845],\n",
       "       [ 0.30256828, -0.10861873,  0.06671364, -0.07838472,  0.06424926,\n",
       "        -0.25355997,  1.05224869, -0.30847126,  0.        ,  0.77611533,\n",
       "        -0.21626042, -1.07964272, -0.05704881, -0.02099186, -0.43148064,\n",
       "         0.74057214,  0.6461834 , -0.5072842 , -1.85935115, -0.68281244,\n",
       "        -0.48292558, -0.11692303,  1.03890035,  1.04922421,  0.53272148,\n",
       "        -0.56701595,  0.68375619,  0.23004678, -1.9166524 ,  0.80963049,\n",
       "        -1.59043409,  0.65275866, -0.60389716, -0.49452949,  0.35402201,\n",
       "        -0.29302528, -0.04682426, -0.66981218, -0.1032061 ,  0.15845289,\n",
       "         0.26828983, -0.27700532, -0.50620521,  0.97874207, -0.10119702,\n",
       "         0.42738218,  1.08733408, -0.24971861, -1.02736282, -0.75632103,\n",
       "         0.16992709, -0.20769847, -0.73567911,  0.34954554, -0.23598698,\n",
       "         0.62363166,  0.49380717,  1.52877356,  0.28388167,  0.99483976,\n",
       "         1.61926388,  0.78556101,  0.17460855,  0.18712257, -0.31502962,\n",
       "        -0.74076041, -0.18481478,  3.87496689, -0.10333053, -0.28593546,\n",
       "        -0.06315017, -0.0514025 , -0.46058422, -0.19169834, -0.08959196,\n",
       "        -1.55218353, -1.36356868, -0.35773086,  0.28473233],\n",
       "       [ 0.06733141, -0.10861873,  0.78364731,  0.51890312,  0.06424926,\n",
       "        -0.25355997,  1.05224869, -0.30847126,  0.        ,  3.37265474,\n",
       "        -0.21626042,  0.09584296, -0.05704881, -0.02099186, -0.43148064,\n",
       "         0.74057214,  1.35555133, -0.5072842 ,  0.94720275,  0.7532288 ,\n",
       "        -0.48292558, -0.11692303,  0.79453692,  0.79756559, -1.31848566,\n",
       "         1.3902164 , -1.03980539,  0.23004678,  0.834618  , -0.44745004,\n",
       "         0.15158359, -1.05535656, -1.07980856,  0.46918742,  0.35402201,\n",
       "        -0.29302528, -0.16058587,  0.21218413, -0.1032061 , -0.88561933,\n",
       "         0.26828983, -0.27700532, -0.03717027,  1.67165058, -0.10119702,\n",
       "         1.37804204,  1.08733408, -0.24971861,  0.78136581,  1.23259887,\n",
       "         1.38565545, -0.20769847, -0.73567911,  1.62415319, -0.23598698,\n",
       "         0.62363166,  1.21272144, -0.58514876,  0.28832997, -0.07043436,\n",
       "         1.61926388,  1.6857982 ,  0.17460855,  0.18712257, -0.31502962,\n",
       "         0.77696719,  0.5404244 , -0.35960075, -0.10333053, -0.28593546,\n",
       "        -0.06315017, -0.0514025 , -0.46058422, -0.19169834, -0.08959196,\n",
       "         2.13201206,  0.15764553, -0.35773086, -0.39429845]])"
      ]
     },
     "execution_count": 29,
     "metadata": {},
     "output_type": "execute_result"
    }
   ],
   "source": [
    "# StandardScaler from Scikit-Learn\n",
    "from sklearn.preprocessing import StandardScaler\n",
    "\n",
    "# Initialize instance of StandardScaler\n",
    "scaler = StandardScaler()\n",
    "\n",
    "# Fit and transform item_data\n",
    "data_scaled = scaler.fit_transform(df_all)\n",
    "\n",
    "# Display first 5 rows of item_data_scaled\n",
    "data_scaled[:5]"
   ]
  },
  {
   "cell_type": "code",
   "execution_count": 30,
   "metadata": {
    "execution": {
     "iopub.execute_input": "2021-04-19T20:30:44.881092Z",
     "iopub.status.busy": "2021-04-19T20:30:44.880378Z",
     "iopub.status.idle": "2021-04-19T20:30:45.015225Z",
     "shell.execute_reply": "2021-04-19T20:30:45.016138Z"
    },
    "papermill": {
     "duration": 0.180983,
     "end_time": "2021-04-19T20:30:45.016441",
     "exception": false,
     "start_time": "2021-04-19T20:30:44.835458",
     "status": "completed"
    },
    "tags": []
   },
   "outputs": [],
   "source": [
    "pca = PCA(n_components=n_components)\n",
    "pca.fit(data_scaled)\n",
    "\n",
    "PC_items = pca.transform(data_scaled)"
   ]
  },
  {
   "cell_type": "code",
   "execution_count": 31,
   "metadata": {
    "execution": {
     "iopub.execute_input": "2021-04-19T20:30:45.154827Z",
     "iopub.status.busy": "2021-04-19T20:30:45.154031Z",
     "iopub.status.idle": "2021-04-19T20:30:45.159173Z",
     "shell.execute_reply": "2021-04-19T20:30:45.158304Z"
    },
    "papermill": {
     "duration": 0.069899,
     "end_time": "2021-04-19T20:30:45.159378",
     "exception": false,
     "start_time": "2021-04-19T20:30:45.089479",
     "status": "completed"
    },
    "tags": []
   },
   "outputs": [
    {
     "data": {
      "text/html": [
       "<div>\n",
       "<style scoped>\n",
       "    .dataframe tbody tr th:only-of-type {\n",
       "        vertical-align: middle;\n",
       "    }\n",
       "\n",
       "    .dataframe tbody tr th {\n",
       "        vertical-align: top;\n",
       "    }\n",
       "\n",
       "    .dataframe thead th {\n",
       "        text-align: right;\n",
       "    }\n",
       "</style>\n",
       "<table border=\"1\" class=\"dataframe\">\n",
       "  <thead>\n",
       "    <tr style=\"text-align: right;\">\n",
       "      <th></th>\n",
       "      <th>PC1</th>\n",
       "      <th>PC2</th>\n",
       "      <th>PC3</th>\n",
       "      <th>PC4</th>\n",
       "    </tr>\n",
       "  </thead>\n",
       "  <tbody>\n",
       "    <tr>\n",
       "      <th>0</th>\n",
       "      <td>2.111772</td>\n",
       "      <td>0.621553</td>\n",
       "      <td>-0.812348</td>\n",
       "      <td>-1.488850</td>\n",
       "    </tr>\n",
       "    <tr>\n",
       "      <th>1</th>\n",
       "      <td>0.410106</td>\n",
       "      <td>-1.111971</td>\n",
       "      <td>1.858412</td>\n",
       "      <td>0.965361</td>\n",
       "    </tr>\n",
       "    <tr>\n",
       "      <th>2</th>\n",
       "      <td>2.806540</td>\n",
       "      <td>0.315364</td>\n",
       "      <td>-0.529899</td>\n",
       "      <td>-0.746065</td>\n",
       "    </tr>\n",
       "    <tr>\n",
       "      <th>3</th>\n",
       "      <td>-0.776157</td>\n",
       "      <td>-1.770408</td>\n",
       "      <td>-1.645372</td>\n",
       "      <td>0.967551</td>\n",
       "    </tr>\n",
       "    <tr>\n",
       "      <th>4</th>\n",
       "      <td>5.131369</td>\n",
       "      <td>0.237021</td>\n",
       "      <td>-1.246777</td>\n",
       "      <td>0.985085</td>\n",
       "    </tr>\n",
       "  </tbody>\n",
       "</table>\n",
       "</div>"
      ],
      "text/plain": [
       "        PC1       PC2       PC3       PC4\n",
       "0  2.111772  0.621553 -0.812348 -1.488850\n",
       "1  0.410106 -1.111971  1.858412  0.965361\n",
       "2  2.806540  0.315364 -0.529899 -0.746065\n",
       "3 -0.776157 -1.770408 -1.645372  0.967551\n",
       "4  5.131369  0.237021 -1.246777  0.985085"
      ]
     },
     "execution_count": 31,
     "metadata": {},
     "output_type": "execute_result"
    }
   ],
   "source": [
    "# Put PC_items into a dataframe\n",
    "items_pca = pd.DataFrame(PC_items)\n",
    "\n",
    "# Name the columns\n",
    "items_pca.columns = ['PC{}'.format(i + 1) for i in range(PC_items.shape[1])]\n",
    "\n",
    "# Update its index\n",
    "items_pca.index = df_all.index\n",
    "\n",
    "# Display first 5 rows\n",
    "items_pca.head()"
   ]
  },
  {
   "cell_type": "code",
   "execution_count": 32,
   "metadata": {
    "execution": {
     "iopub.execute_input": "2021-04-19T20:30:45.259189Z",
     "iopub.status.busy": "2021-04-19T20:30:45.258078Z",
     "iopub.status.idle": "2021-04-19T20:30:45.263164Z",
     "shell.execute_reply": "2021-04-19T20:30:45.263729Z"
    },
    "papermill": {
     "duration": 0.052394,
     "end_time": "2021-04-19T20:30:45.263953",
     "exception": false,
     "start_time": "2021-04-19T20:30:45.211559",
     "status": "completed"
    },
    "tags": []
   },
   "outputs": [],
   "source": [
    "len_train = x_train.shape[0]\n",
    "\n",
    "pca_xtrain = items_pca[:len_train]\n",
    "pca_xtest = items_pca[len_train:]"
   ]
  },
  {
   "cell_type": "code",
   "execution_count": 33,
   "metadata": {
    "execution": {
     "iopub.execute_input": "2021-04-19T20:30:45.359412Z",
     "iopub.status.busy": "2021-04-19T20:30:45.358350Z",
     "iopub.status.idle": "2021-04-19T20:30:45.398671Z",
     "shell.execute_reply": "2021-04-19T20:30:45.397633Z"
    },
    "papermill": {
     "duration": 0.08689,
     "end_time": "2021-04-19T20:30:45.398932",
     "exception": false,
     "start_time": "2021-04-19T20:30:45.312042",
     "status": "completed"
    },
    "tags": []
   },
   "outputs": [],
   "source": [
    "from sklearn.linear_model import LinearRegression\n",
    "\n",
    "lr = LinearRegression()\n",
    "lr.fit(x_train, y_train)\n",
    "pred = lr.predict(x_test)\n",
    "pred_train = lr.predict(x_train)\n",
    "r2 = r2_score(y_train,pred_train)\n",
    "rmse = np.sqrt(mean_squared_error(y_train,pred_train))"
   ]
  },
  {
   "cell_type": "code",
   "execution_count": 34,
   "metadata": {
    "execution": {
     "iopub.execute_input": "2021-04-19T20:30:45.573613Z",
     "iopub.status.busy": "2021-04-19T20:30:45.572728Z",
     "iopub.status.idle": "2021-04-19T20:30:45.578932Z",
     "shell.execute_reply": "2021-04-19T20:30:45.580064Z"
    },
    "papermill": {
     "duration": 0.073106,
     "end_time": "2021-04-19T20:30:45.580362",
     "exception": false,
     "start_time": "2021-04-19T20:30:45.507256",
     "status": "completed"
    },
    "tags": []
   },
   "outputs": [],
   "source": [
    "from sklearn.metrics import r2_score\n",
    "from sklearn.metrics import mean_absolute_error"
   ]
  },
  {
   "cell_type": "code",
   "execution_count": 35,
   "metadata": {
    "execution": {
     "iopub.execute_input": "2021-04-19T20:30:45.684654Z",
     "iopub.status.busy": "2021-04-19T20:30:45.683353Z",
     "iopub.status.idle": "2021-04-19T20:30:45.689715Z",
     "shell.execute_reply": "2021-04-19T20:30:45.690589Z"
    },
    "papermill": {
     "duration": 0.053763,
     "end_time": "2021-04-19T20:30:45.690863",
     "exception": false,
     "start_time": "2021-04-19T20:30:45.637100",
     "status": "completed"
    },
    "tags": []
   },
   "outputs": [
    {
     "name": "stdout",
     "output_type": "stream",
     "text": [
      "R^2: 0.8496524162299119\n",
      "MAE: 19206.088668798126\n"
     ]
    }
   ],
   "source": [
    "print( 'R^2:', r2_score(y_train, pred_train ))\n",
    "print( 'MAE:', mean_absolute_error(y_train, pred_train))"
   ]
  },
  {
   "cell_type": "code",
   "execution_count": 36,
   "metadata": {
    "execution": {
     "iopub.execute_input": "2021-04-19T20:30:45.787670Z",
     "iopub.status.busy": "2021-04-19T20:30:45.786976Z",
     "iopub.status.idle": "2021-04-19T20:30:45.826056Z",
     "shell.execute_reply": "2021-04-19T20:30:45.825215Z"
    },
    "papermill": {
     "duration": 0.08552,
     "end_time": "2021-04-19T20:30:45.826239",
     "exception": false,
     "start_time": "2021-04-19T20:30:45.740719",
     "status": "completed"
    },
    "tags": []
   },
   "outputs": [],
   "source": [
    "from sklearn.ensemble import RandomForestRegressor"
   ]
  },
  {
   "cell_type": "code",
   "execution_count": 37,
   "metadata": {
    "execution": {
     "iopub.execute_input": "2021-04-19T20:30:45.924844Z",
     "iopub.status.busy": "2021-04-19T20:30:45.923933Z",
     "iopub.status.idle": "2021-04-19T20:30:45.928944Z",
     "shell.execute_reply": "2021-04-19T20:30:45.928152Z"
    },
    "papermill": {
     "duration": 0.05866,
     "end_time": "2021-04-19T20:30:45.929118",
     "exception": false,
     "start_time": "2021-04-19T20:30:45.870458",
     "status": "completed"
    },
    "tags": []
   },
   "outputs": [],
   "source": [
    "# rf = RandomForestRegressor() #default features\n",
    "# rf_fit = rf.fit(x_train, y_train)\n",
    "# pred = rf_fit.predict(x_test)\n",
    "# pred_train = rf.predict(x_train)\n",
    "# r2 = r2_score(y_train,pred_train)\n",
    "# rmse = np.sqrt(mean_squared_error(y_train,pred_train))\n",
    "# print( 'R^2:', r2_score(y_train, pred_train ))\n",
    "# print( 'MAE:', mean_absolute_error(y_train, pred_train))"
   ]
  },
  {
   "cell_type": "code",
   "execution_count": 38,
   "metadata": {
    "execution": {
     "iopub.execute_input": "2021-04-19T20:30:46.025109Z",
     "iopub.status.busy": "2021-04-19T20:30:46.024359Z",
     "iopub.status.idle": "2021-04-19T20:30:46.824426Z",
     "shell.execute_reply": "2021-04-19T20:30:46.825014Z"
    },
    "papermill": {
     "duration": 0.853546,
     "end_time": "2021-04-19T20:30:46.825234",
     "exception": false,
     "start_time": "2021-04-19T20:30:45.971688",
     "status": "completed"
    },
    "tags": []
   },
   "outputs": [
    {
     "name": "stdout",
     "output_type": "stream",
     "text": [
      "R^2: 0.9996259533146924\n",
      "MAE: 1072.3712837114726\n"
     ]
    }
   ],
   "source": [
    "import xgboost\n",
    "reg = xgboost.XGBRegressor().fit(x_train, y_train)\n",
    "pred = reg.predict(x_test)\n",
    "pred_train = reg.predict(x_train)\n",
    "r2 = r2_score(y_train,pred_train)\n",
    "rmse = np.sqrt(mean_squared_error(y_train,pred_train))\n",
    "print( 'R^2:', r2_score(y_train, pred_train ))\n",
    "print( 'MAE:', mean_absolute_error(y_train, pred_train))"
   ]
  },
  {
   "cell_type": "code",
   "execution_count": 39,
   "metadata": {
    "execution": {
     "iopub.execute_input": "2021-04-19T20:30:46.920931Z",
     "iopub.status.busy": "2021-04-19T20:30:46.919435Z",
     "iopub.status.idle": "2021-04-19T20:30:46.932077Z",
     "shell.execute_reply": "2021-04-19T20:30:46.931322Z"
    },
    "papermill": {
     "duration": 0.063232,
     "end_time": "2021-04-19T20:30:46.932236",
     "exception": false,
     "start_time": "2021-04-19T20:30:46.869004",
     "status": "completed"
    },
    "tags": []
   },
   "outputs": [],
   "source": [
    "id_test = test_df['Id']\n",
    "\n",
    "pred_pd = pd.DataFrame()\n",
    "pred_pd['Id'] = id_test\n",
    "pred_pd['SalePrice'] = pred\n",
    "\n",
    "pred_pd.head\n",
    "pred_pd.to_csv('submission_StochasticResults_RF.csv',index=False)"
   ]
  },
  {
   "cell_type": "markdown",
   "metadata": {
    "papermill": {
     "duration": 0.043315,
     "end_time": "2021-04-19T20:30:47.017337",
     "exception": false,
     "start_time": "2021-04-19T20:30:46.974022",
     "status": "completed"
    },
    "tags": []
   },
   "source": [
    "***"
   ]
  },
  {
   "cell_type": "markdown",
   "metadata": {
    "papermill": {
     "duration": 0.041503,
     "end_time": "2021-04-19T20:30:47.101814",
     "exception": false,
     "start_time": "2021-04-19T20:30:47.060311",
     "status": "completed"
    },
    "tags": []
   },
   "source": [
    "***"
   ]
  },
  {
   "cell_type": "markdown",
   "metadata": {
    "papermill": {
     "duration": 0.041397,
     "end_time": "2021-04-19T20:30:47.185854",
     "exception": false,
     "start_time": "2021-04-19T20:30:47.144457",
     "status": "completed"
    },
    "tags": []
   },
   "source": [
    "# End of Notebook"
   ]
  }
 ],
 "metadata": {
  "kernelspec": {
   "display_name": "Python 3",
   "language": "python",
   "name": "python3"
  },
  "language_info": {
   "codemirror_mode": {
    "name": "ipython",
    "version": 3
   },
   "file_extension": ".py",
   "mimetype": "text/x-python",
   "name": "python",
   "nbconvert_exporter": "python",
   "pygments_lexer": "ipython3",
   "version": "3.7.9"
  },
  "papermill": {
   "default_parameters": {},
   "duration": 22.417113,
   "end_time": "2021-04-19T20:30:48.342131",
   "environment_variables": {},
   "exception": null,
   "input_path": "__notebook__.ipynb",
   "output_path": "__notebook__.ipynb",
   "parameters": {},
   "start_time": "2021-04-19T20:30:25.925018",
   "version": "2.2.2"
  }
 },
 "nbformat": 4,
 "nbformat_minor": 4
}
